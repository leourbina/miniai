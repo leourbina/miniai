{
 "cells": [
  {
   "cell_type": "code",
   "execution_count": 1,
   "id": "03483b94-8e28-4791-bfcf-f681a87afd2a",
   "metadata": {},
   "outputs": [],
   "source": [
    "from pathlib import Path\n",
    "import pickle, gzip, math, os, time, shutil\n",
    "import matplotlib as mpl\n",
    "import matplotlib.pyplot as plt"
   ]
  },
  {
   "cell_type": "code",
   "execution_count": 201,
   "id": "7aa58cf1-dd4b-4f15-8c6d-d25e6bb1f50a",
   "metadata": {},
   "outputs": [],
   "source": [
    "MNIST_URL='https://github.com/mnielsen/neural-networks-and-deep-learning/blob/master/data/mnist.pkl.gz?raw=true'"
   ]
  },
  {
   "cell_type": "code",
   "execution_count": 202,
   "id": "ce206935-65b9-49bd-9df2-9d84fbdad2a7",
   "metadata": {},
   "outputs": [],
   "source": [
    "path_data = Path('data')\n",
    "path_data.mkdir(exist_ok=True)"
   ]
  },
  {
   "cell_type": "code",
   "execution_count": 206,
   "id": "340e4f96-e676-4243-bb74-8ab817b1adee",
   "metadata": {},
   "outputs": [],
   "source": [
    "path_gz = path_data / 'mnist.pkl.gz'"
   ]
  },
  {
   "cell_type": "code",
   "execution_count": 207,
   "id": "751582a2-0cf8-4ba0-85a0-c675709ea074",
   "metadata": {},
   "outputs": [],
   "source": [
    "from urllib.request import urlretrieve\n",
    "if not path_gz.exists(): \n",
    "    urlretrieve(MNIST_URL, path_gz)"
   ]
  },
  {
   "cell_type": "code",
   "execution_count": 205,
   "id": "d95ab1da-8166-4e6c-a7fd-ff5855d7d6d9",
   "metadata": {},
   "outputs": [
    {
     "name": "stdout",
     "output_type": "stream",
     "text": [
      "total 16653\n",
      "-rw-r--r-- 1 root root 17051982 Mar  1 22:06 mnist.pkl.gz\n"
     ]
    }
   ],
   "source": [
    "!ls -l data"
   ]
  },
  {
   "cell_type": "code",
   "execution_count": 8,
   "id": "903a2965-1af0-4aa9-8fb2-e28df3947635",
   "metadata": {},
   "outputs": [],
   "source": [
    "with gzip.open(path_gz, 'rb') as f:\n",
    "    ((x_train, y_train), (x_valid, y_valid), rest) = pickle.load(f, encoding='latin-1')\n",
    "    "
   ]
  },
  {
   "cell_type": "code",
   "execution_count": 9,
   "id": "d8fd0620-df72-42ff-af0b-f6b7652e2d21",
   "metadata": {},
   "outputs": [
    {
     "data": {
      "text/plain": [
       "[0.0,\n",
       " 0.0,\n",
       " 0.0,\n",
       " 0.19140625,\n",
       " 0.9296875,\n",
       " 0.98828125,\n",
       " 0.98828125,\n",
       " 0.98828125,\n",
       " 0.98828125,\n",
       " 0.98828125]"
      ]
     },
     "execution_count": 9,
     "metadata": {},
     "output_type": "execute_result"
    }
   ],
   "source": [
    "lst1 = list(x_train[0])\n",
    "vals = lst1[200:210]\n",
    "vals"
   ]
  },
  {
   "cell_type": "code",
   "execution_count": 10,
   "id": "706263ad-0565-4f92-a287-7d25cf4f8bd6",
   "metadata": {},
   "outputs": [],
   "source": [
    "def chunks(x, sz):\n",
    "    for i in range(0, len(x), sz):\n",
    "        yield x[i:i+sz]"
   ]
  },
  {
   "cell_type": "code",
   "execution_count": 11,
   "id": "6c58949a-a908-4487-a33d-33dc2d23b07a",
   "metadata": {},
   "outputs": [
    {
     "data": {
      "text/plain": [
       "[[0.0, 0.0, 0.0, 0.19140625],\n",
       " [0.9296875, 0.98828125, 0.98828125, 0.98828125],\n",
       " [0.98828125, 0.98828125]]"
      ]
     },
     "execution_count": 11,
     "metadata": {},
     "output_type": "execute_result"
    }
   ],
   "source": [
    "list(chunks(vals, 4))"
   ]
  },
  {
   "cell_type": "code",
   "execution_count": 12,
   "id": "3c760b92-744c-4083-bce2-c4e44a3a2108",
   "metadata": {},
   "outputs": [
    {
     "data": {
      "image/png": "[encoded data removed]",
      "text/plain": [
       "<Figure size 432x288 with 1 Axes>"
      ]
     },
     "metadata": {
      "needs_background": "light"
     },
     "output_type": "display_data"
    }
   ],
   "source": [
    "plt.style.use('fast')\n",
    "plt.imshow(list(chunks(lst1, 28)));"
   ]
  },
  {
   "cell_type": "markdown",
   "id": "0864a39a-13c2-49ce-b54a-3323129d91c1",
   "metadata": {},
   "source": [
    "[islice](https://docs.python.org/3/library/itertools.html#itertools.islice)"
   ]
  },
  {
   "cell_type": "code",
   "execution_count": 13,
   "id": "a974ad4e-5f2b-492c-b3dc-39efbfe6cb25",
   "metadata": {},
   "outputs": [],
   "source": [
    "from itertools import islice"
   ]
  },
  {
   "cell_type": "code",
   "execution_count": 14,
   "id": "7cfb7b5a-4aa0-4b36-9b5b-3c034490e66f",
   "metadata": {},
   "outputs": [
    {
     "data": {
      "text/plain": [
       "[0.0, 0.0, 0.0, 0.19140625, 0.9296875]"
      ]
     },
     "execution_count": 14,
     "metadata": {},
     "output_type": "execute_result"
    }
   ],
   "source": [
    "it = iter(vals)\n",
    "list(islice(it, 5))"
   ]
  },
  {
   "cell_type": "code",
   "execution_count": 15,
   "id": "2427c892-8463-410d-9dd5-db64a6879ff4",
   "metadata": {},
   "outputs": [
    {
     "data": {
      "text/plain": [
       "[0.98828125, 0.98828125, 0.98828125, 0.98828125, 0.98828125]"
      ]
     },
     "execution_count": 15,
     "metadata": {},
     "output_type": "execute_result"
    }
   ],
   "source": [
    "list(islice(it, 5))"
   ]
  },
  {
   "cell_type": "code",
   "execution_count": 16,
   "id": "9cac4181-0b69-46e4-9faf-e970d70133b9",
   "metadata": {},
   "outputs": [
    {
     "data": {
      "text/plain": [
       "[]"
      ]
     },
     "execution_count": 16,
     "metadata": {},
     "output_type": "execute_result"
    }
   ],
   "source": [
    "list(islice(it, 5))"
   ]
  },
  {
   "cell_type": "code",
   "execution_count": 17,
   "id": "174a54ba-bab4-4eb9-aba6-566f23bd7d38",
   "metadata": {},
   "outputs": [
    {
     "data": {
      "text/plain": [
       "\u001b[0;31mDocstring:\u001b[0m\n",
       "iter(iterable) -> iterator\n",
       "iter(callable, sentinel) -> iterator\n",
       "\n",
       "Get an iterator from an object.  In the first form, the argument must\n",
       "supply its own iterator, or be a sequence.\n",
       "In the second form, the callable is called until it returns the sentinel.\n",
       "\u001b[0;31mType:\u001b[0m      builtin_function_or_method\n"
      ]
     },
     "metadata": {},
     "output_type": "display_data"
    }
   ],
   "source": [
    "iter?"
   ]
  },
  {
   "cell_type": "code",
   "execution_count": 18,
   "id": "37855228-6172-49fe-8255-2ebe733b849c",
   "metadata": {},
   "outputs": [
    {
     "data": {
      "image/png": "[encoded data removed]",
      "text/plain": [
       "<Figure size 432x288 with 1 Axes>"
      ]
     },
     "metadata": {
      "needs_background": "light"
     },
     "output_type": "display_data"
    }
   ],
   "source": [
    "it = iter(lst1)\n",
    "img = list(iter(lambda: list(islice(it, 28)), []))\n",
    "plt.imshow(img);"
   ]
  },
  {
   "cell_type": "markdown",
   "id": "99b981eb-14ec-423c-91cf-3ee569e5fb2f",
   "metadata": {},
   "source": [
    "## Matrix & Tensor"
   ]
  },
  {
   "cell_type": "code",
   "execution_count": 19,
   "id": "e52497b0-a72d-40b9-9759-a5d85b482b19",
   "metadata": {},
   "outputs": [
    {
     "data": {
      "text/plain": [
       "0.98828125"
      ]
     },
     "execution_count": 19,
     "metadata": {},
     "output_type": "execute_result"
    }
   ],
   "source": [
    "img[20][15]"
   ]
  },
  {
   "cell_type": "code",
   "execution_count": 20,
   "id": "bafeee3e-e884-4f56-8adc-ef7f7048bdbb",
   "metadata": {},
   "outputs": [],
   "source": [
    "class Matrix:\n",
    "    def __init__(self, xs): self.xs = xs\n",
    "    def __getitem__(self, idxs): return self.xs[idxs[0]][idxs[1]]"
   ]
  },
  {
   "cell_type": "code",
   "execution_count": 21,
   "id": "02f22055-8735-4840-bf43-4b7880b23459",
   "metadata": {},
   "outputs": [
    {
     "data": {
      "text/plain": [
       "0.98828125"
      ]
     },
     "execution_count": 21,
     "metadata": {},
     "output_type": "execute_result"
    }
   ],
   "source": [
    "m = Matrix(img)\n",
    "m[20, 15]"
   ]
  },
  {
   "cell_type": "code",
   "execution_count": 22,
   "id": "04bce2b8-5774-4f62-8104-6aeef1b1430d",
   "metadata": {},
   "outputs": [],
   "source": [
    "import torch\n",
    "from torch import tensor"
   ]
  },
  {
   "cell_type": "code",
   "execution_count": 23,
   "id": "bfbbea08-3961-4040-aebd-245c9f297a8e",
   "metadata": {},
   "outputs": [
    {
     "data": {
      "text/plain": [
       "tensor([1, 2, 3])"
      ]
     },
     "execution_count": 23,
     "metadata": {},
     "output_type": "execute_result"
    }
   ],
   "source": [
    "tensor([1, 2, 3])"
   ]
  },
  {
   "cell_type": "code",
   "execution_count": 24,
   "id": "35da0a0d-67be-4d9b-85cc-29b0a9b917a9",
   "metadata": {},
   "outputs": [],
   "source": [
    "x_train, y_train, x_valid, y_valid = map(tensor, (x_train, y_train, x_valid, y_valid))"
   ]
  },
  {
   "cell_type": "code",
   "execution_count": 25,
   "id": "b69f0cee-1f2d-498e-9677-c936ed80cfb4",
   "metadata": {},
   "outputs": [
    {
     "data": {
      "text/plain": [
       "torch.Size([50000, 784])"
      ]
     },
     "execution_count": 25,
     "metadata": {},
     "output_type": "execute_result"
    }
   ],
   "source": [
    "x_train.shape"
   ]
  },
  {
   "cell_type": "code",
   "execution_count": 26,
   "id": "7aad9766-d1a8-4d1d-aec6-5aa96ee80f41",
   "metadata": {},
   "outputs": [
    {
     "data": {
      "text/plain": [
       "'torch.FloatTensor'"
      ]
     },
     "execution_count": 26,
     "metadata": {},
     "output_type": "execute_result"
    }
   ],
   "source": [
    "x_train.type()"
   ]
  },
  {
   "cell_type": "code",
   "execution_count": 27,
   "id": "99f86541-b7a6-4435-af63-ebee27a700ee",
   "metadata": {},
   "outputs": [],
   "source": [
    "imgs = x_train.reshape(-1, 28, 28)"
   ]
  },
  {
   "cell_type": "code",
   "execution_count": 28,
   "id": "57247cf9-0f03-4882-ad45-fdefcdc81048",
   "metadata": {},
   "outputs": [
    {
     "data": {
      "image/png": "[encoded data removed]",
      "text/plain": [
       "<Figure size 432x288 with 1 Axes>"
      ]
     },
     "metadata": {
      "needs_background": "light"
     },
     "output_type": "display_data"
    }
   ],
   "source": [
    "plt.imshow(imgs[0]);"
   ]
  },
  {
   "cell_type": "code",
   "execution_count": 29,
   "id": "2f39e5b6-bc78-4223-b601-9d0b0f4e0854",
   "metadata": {},
   "outputs": [
    {
     "data": {
      "text/plain": [
       "tensor(0.9883)"
      ]
     },
     "execution_count": 29,
     "metadata": {},
     "output_type": "execute_result"
    }
   ],
   "source": [
    "imgs[0, 20, 15]"
   ]
  },
  {
   "cell_type": "code",
   "execution_count": 30,
   "id": "98e11305-dbb6-4104-85c0-b2269136e2af",
   "metadata": {},
   "outputs": [
    {
     "data": {
      "text/plain": [
       "(tensor([5, 0, 4,  ..., 8, 4, 8]), torch.Size([50000]))"
      ]
     },
     "execution_count": 30,
     "metadata": {},
     "output_type": "execute_result"
    }
   ],
   "source": [
    "n, c = x_train.shape\n",
    "y_train, y_train.shape"
   ]
  },
  {
   "cell_type": "code",
   "execution_count": 31,
   "id": "c1dce9f3-f681-46f4-a53a-2a77b2916c34",
   "metadata": {},
   "outputs": [
    {
     "data": {
      "text/plain": [
       "(tensor(0), tensor(9))"
      ]
     },
     "execution_count": 31,
     "metadata": {},
     "output_type": "execute_result"
    }
   ],
   "source": [
    "min(y_train), max(y_train)"
   ]
  },
  {
   "cell_type": "code",
   "execution_count": 32,
   "id": "76218d50-be6b-48ce-aff7-13730efb739f",
   "metadata": {},
   "outputs": [
    {
     "data": {
      "text/plain": [
       "(tensor(0), tensor(9))"
      ]
     },
     "execution_count": 32,
     "metadata": {},
     "output_type": "execute_result"
    }
   ],
   "source": [
    "y_train.min(), y_train.max()"
   ]
  },
  {
   "cell_type": "markdown",
   "id": "b14209f1-f90c-4b15-8537-6e1282a16d8f",
   "metadata": {},
   "source": [
    "# Random numbers\n",
    "\n",
    "[Wichman-Hill](https://en.wikipedia.org/wiki/Wichmann%E2%80%93Hill) generator used pre python 2.3"
   ]
  },
  {
   "cell_type": "code",
   "execution_count": 33,
   "id": "8cff49ba-9f93-4fe2-99a3-92dbf3b038b6",
   "metadata": {},
   "outputs": [],
   "source": [
    "rnd_state = None\n",
    "def seed(a):\n",
    "    global rnd_state\n",
    "    a, x = divmod(a, 30268)\n",
    "    a, y = divmod(a, 30306)\n",
    "    a, z = divmod(a, 30322)\n",
    "    rnd_state = int(x) + 1, int(y) + 1, int(z) + 1"
   ]
  },
  {
   "cell_type": "code",
   "execution_count": 34,
   "id": "92b8200b-8468-47d9-a883-e46de62a4d53",
   "metadata": {},
   "outputs": [
    {
     "data": {
      "text/plain": [
       "(43, 1, 1)"
      ]
     },
     "execution_count": 34,
     "metadata": {},
     "output_type": "execute_result"
    }
   ],
   "source": [
    "seed(42)\n",
    "rnd_state"
   ]
  },
  {
   "cell_type": "code",
   "execution_count": 35,
   "id": "198aa175-0e66-4b9e-8d6e-c6b72c5302ae",
   "metadata": {},
   "outputs": [],
   "source": [
    "def rand():\n",
    "    global rnd_state\n",
    "    x, y, z = rnd_state\n",
    "    x = (171 * x) % 30269\n",
    "    y = (172 * y) % 30307\n",
    "    z = (170 * z) % 30323\n",
    "    rnd_state = x, y, z \n",
    "    return (x/30269 + y/30307 + z/30323) % 1.0"
   ]
  },
  {
   "cell_type": "code",
   "execution_count": 36,
   "id": "991caa47-1eec-4447-95df-af38f3409e9b",
   "metadata": {},
   "outputs": [
    {
     "data": {
      "text/plain": [
       "(0.25420336316883324, 0.46884405296716114, 0.19540525690312815)"
      ]
     },
     "execution_count": 36,
     "metadata": {},
     "output_type": "execute_result"
    }
   ],
   "source": [
    "rand(), rand(), rand()"
   ]
  },
  {
   "cell_type": "markdown",
   "id": "b0b6ec98-1df6-4da8-b492-b1ba0e627da4",
   "metadata": {},
   "source": [
    "### Fork issues"
   ]
  },
  {
   "cell_type": "code",
   "execution_count": 37,
   "id": "0734c239-ddee-412b-9400-53026bcce204",
   "metadata": {},
   "outputs": [
    {
     "name": "stdout",
     "output_type": "stream",
     "text": [
      "In parent 0.28886109883281286\n",
      "In child: 0.28886109883281286\n"
     ]
    }
   ],
   "source": [
    "if os.fork(): print(f'In parent {rand()}')\n",
    "else:\n",
    "    print(f'In child: {rand()}')\n",
    "    os._exit(os.EX_OK)"
   ]
  },
  {
   "cell_type": "code",
   "execution_count": 38,
   "id": "4c285462-9223-4710-b384-002c8cce0380",
   "metadata": {},
   "outputs": [],
   "source": [
    "import seaborn as sns"
   ]
  },
  {
   "cell_type": "code",
   "execution_count": 39,
   "id": "500f2be6-4eb2-4e33-ab05-3714145730a7",
   "metadata": {},
   "outputs": [
    {
     "data": {
      "text/plain": [
       "[<matplotlib.lines.Line2D at 0x7f89cfe5f1f0>]"
      ]
     },
     "execution_count": 39,
     "metadata": {},
     "output_type": "execute_result"
    },
    {
     "data": {
      "image/png": "[encoded data removed]",
      "text/plain": [
       "<Figure size 432x288 with 1 Axes>"
      ]
     },
     "metadata": {
      "needs_background": "light"
     },
     "output_type": "display_data"
    }
   ],
   "source": [
    "plt.plot([rand() for _ in range(50)])"
   ]
  },
  {
   "cell_type": "code",
   "execution_count": 40,
   "id": "7f9fc889-61cf-4d52-83e5-f0c6859e513f",
   "metadata": {},
   "outputs": [
    {
     "data": {
      "image/png": "[encoded data removed]",
      "text/plain": [
       "<Figure size 432x288 with 1 Axes>"
      ]
     },
     "metadata": {
      "needs_background": "light"
     },
     "output_type": "display_data"
    }
   ],
   "source": [
    "sns.kdeplot([rand() for _ in range(1000000)]);"
   ]
  },
  {
   "cell_type": "markdown",
   "id": "6b5c56de-6815-4986-b7f7-b2dc59e36503",
   "metadata": {},
   "source": [
    "### Perf"
   ]
  },
  {
   "cell_type": "code",
   "execution_count": 41,
   "id": "851d9fb5-9b52-4332-bcf4-c951f7bf1ba7",
   "metadata": {},
   "outputs": [
    {
     "name": "stdout",
     "output_type": "stream",
     "text": [
      "407 µs ± 63.1 µs per loop (mean ± std. dev. of 7 runs, 10 loops each)\n"
     ]
    }
   ],
   "source": [
    "%timeit -n 10 list(chunks([rand() for _ in range(784)], 10))\n"
   ]
  },
  {
   "cell_type": "code",
   "execution_count": 42,
   "id": "ca57c506-324b-49c8-a50a-afca4bdbc416",
   "metadata": {},
   "outputs": [
    {
     "name": "stdout",
     "output_type": "stream",
     "text": [
      "The slowest run took 7.67 times longer than the fastest. This could mean that an intermediate result is being cached.\n",
      "106 µs ± 126 µs per loop (mean ± std. dev. of 7 runs, 10 loops each)\n"
     ]
    }
   ],
   "source": [
    "%timeit -n 10 torch.randn(784, 10)"
   ]
  },
  {
   "cell_type": "markdown",
   "id": "bf8ded76-e5fb-4fc3-93cc-b705c4864af1",
   "metadata": {},
   "source": [
    "## Matrix multiplication"
   ]
  },
  {
   "cell_type": "code",
   "execution_count": 43,
   "id": "225a0e84-fc9d-45eb-9c47-683c3fd0afdd",
   "metadata": {},
   "outputs": [],
   "source": [
    "torch.manual_seed(42)\n",
    "weights = torch.randn(784, 10)\n",
    "bias = torch.zeros(10)"
   ]
  },
  {
   "cell_type": "code",
   "execution_count": 100,
   "id": "d201c44f-d91d-4e20-ba17-d14562be1845",
   "metadata": {},
   "outputs": [],
   "source": [
    "m1 = x_valid[:5]\n",
    "m2 = weights"
   ]
  },
  {
   "cell_type": "code",
   "execution_count": 101,
   "id": "79c3c764-f304-4f83-a454-cf90d77935fa",
   "metadata": {},
   "outputs": [
    {
     "data": {
      "text/plain": [
       "((5, 784), (784, 10))"
      ]
     },
     "execution_count": 101,
     "metadata": {},
     "output_type": "execute_result"
    }
   ],
   "source": [
    "ar, ac = m1.shape\n",
    "br, bc = m2.shape\n",
    "(ar, ac), (br, bc)"
   ]
  },
  {
   "cell_type": "code",
   "execution_count": 102,
   "id": "1b57a9fb-4b91-431f-bf1f-a8fe7c5f2ba0",
   "metadata": {},
   "outputs": [],
   "source": [
    "t1 = torch.zeros(ar, bc)"
   ]
  },
  {
   "cell_type": "code",
   "execution_count": 105,
   "id": "7ea614a1-8144-4e47-9f0a-6a53fe153730",
   "metadata": {},
   "outputs": [],
   "source": [
    "for i in range(ar): # 5\n",
    "    for j in range(bc): # 10\n",
    "        for k in range(ac): # 784\n",
    "            t1[i,j] += m1[i,k] * m2[k, j]\n",
    "            "
   ]
  },
  {
   "cell_type": "code",
   "execution_count": 106,
   "id": "75963877-6276-49cc-8e86-40e80dd64bd5",
   "metadata": {},
   "outputs": [
    {
     "data": {
      "text/plain": [
       "tensor([[ -5.28,  10.25,   2.07,   4.31,  -7.91, -10.03,   4.10,   1.87,   2.95,   8.23],\n",
       "        [  3.70,  11.19,   4.88,  -2.83, -12.34,  -5.00,  -4.03,  -0.12,   2.48,   6.84],\n",
       "        [ -0.65,   0.96,  13.61,   0.61,  -3.77,  -7.93,   5.29,   8.89,   3.50,   5.30],\n",
       "        [-18.84,  10.83,   0.32, -10.01,   1.63,  -4.54,  -0.04,  -2.07,   9.84,   8.82],\n",
       "        [ -8.41,   4.87,   0.95,  13.35, -13.55,  -2.51,   8.70,  -4.11,   1.39,  -2.55]])"
      ]
     },
     "execution_count": 106,
     "metadata": {},
     "output_type": "execute_result"
    }
   ],
   "source": [
    "t1"
   ]
  },
  {
   "cell_type": "code",
   "execution_count": 107,
   "id": "e37ddc9f-117c-4b8d-a04e-ed76bbab08e1",
   "metadata": {},
   "outputs": [
    {
     "data": {
      "text/plain": [
       "torch.Size([5, 10])"
      ]
     },
     "execution_count": 107,
     "metadata": {},
     "output_type": "execute_result"
    }
   ],
   "source": [
    "t1.shape"
   ]
  },
  {
   "cell_type": "code",
   "execution_count": 108,
   "id": "c7121da3-76ba-45da-854c-3763834d39fb",
   "metadata": {},
   "outputs": [],
   "source": [
    "torch.set_printoptions(precision=2, linewidth=120, sci_mode=False)"
   ]
  },
  {
   "cell_type": "code",
   "execution_count": 109,
   "id": "9567ef0b-d297-493d-8c95-8210eb821069",
   "metadata": {},
   "outputs": [
    {
     "data": {
      "text/plain": [
       "tensor([[ -5.28,  10.25,   2.07,   4.31,  -7.91, -10.03,   4.10,   1.87,   2.95,   8.23],\n",
       "        [  3.70,  11.19,   4.88,  -2.83, -12.34,  -5.00,  -4.03,  -0.12,   2.48,   6.84],\n",
       "        [ -0.65,   0.96,  13.61,   0.61,  -3.77,  -7.93,   5.29,   8.89,   3.50,   5.30],\n",
       "        [-18.84,  10.83,   0.32, -10.01,   1.63,  -4.54,  -0.04,  -2.07,   9.84,   8.82],\n",
       "        [ -8.41,   4.87,   0.95,  13.35, -13.55,  -2.51,   8.70,  -4.11,   1.39,  -2.55]])"
      ]
     },
     "execution_count": 109,
     "metadata": {},
     "output_type": "execute_result"
    }
   ],
   "source": [
    "t1"
   ]
  },
  {
   "cell_type": "code",
   "execution_count": 110,
   "id": "8c39ef00-2ff9-4774-b251-4e23ad60cca8",
   "metadata": {},
   "outputs": [],
   "source": [
    "def matmul(a, b):\n",
    "    (ar, ac), (br, bc) = a.shape, b.shape\n",
    "    c = torch.zeros(ar, bc)\n",
    "    for i in range(ar): # 5\n",
    "        for j in range(bc): # 10\n",
    "            for k in range(ac): # 784\n",
    "                c[i,j] += a[i,k] * b[k, j]    \n",
    "    return c"
   ]
  },
  {
   "cell_type": "code",
   "execution_count": 111,
   "id": "10444a67-4a82-47d0-bc3f-8019ba72bb13",
   "metadata": {},
   "outputs": [
    {
     "name": "stdout",
     "output_type": "stream",
     "text": [
      "657 ms ± 17.3 ms per loop (mean ± std. dev. of 7 runs, 3 loops each)\n"
     ]
    }
   ],
   "source": [
    "%timeit -n 3 _=matmul(m1, m2)"
   ]
  },
  {
   "cell_type": "markdown",
   "id": "3ecca857-4988-4f45-8219-7ae96d5d09f6",
   "metadata": {},
   "source": [
    "## Numba"
   ]
  },
  {
   "cell_type": "code",
   "execution_count": 112,
   "id": "572fc098-b797-4ef2-95fd-e41af4c0220f",
   "metadata": {},
   "outputs": [
    {
     "name": "stdout",
     "output_type": "stream",
     "text": [
      "Requirement already satisfied: numba in /usr/local/lib/python3.9/dist-packages (0.56.4)\n",
      "Requirement already satisfied: numpy<1.24,>=1.18 in /usr/local/lib/python3.9/dist-packages (from numba) (1.23.1)\n",
      "Requirement already satisfied: setuptools in /usr/local/lib/python3.9/dist-packages (from numba) (63.1.0)\n",
      "Requirement already satisfied: llvmlite<0.40,>=0.39.0dev0 in /usr/local/lib/python3.9/dist-packages (from numba) (0.39.1)\n",
      "\u001b[33mWARNING: Running pip as the 'root' user can result in broken permissions and conflicting behaviour with the system package manager. It is recommended to use a virtual environment instead: https://pip.pypa.io/warnings/venv\u001b[0m\u001b[33m\n",
      "\u001b[0m"
     ]
    }
   ],
   "source": [
    "!pip install numba"
   ]
  },
  {
   "cell_type": "code",
   "execution_count": 113,
   "id": "45b13276-a2f5-4600-b75a-e0cd987f92b0",
   "metadata": {},
   "outputs": [],
   "source": [
    "from numba import njit"
   ]
  },
  {
   "cell_type": "code",
   "execution_count": 114,
   "id": "43be8ac2-c826-4908-a112-28431e5237d6",
   "metadata": {},
   "outputs": [],
   "source": [
    "@njit\n",
    "def dot(a, b):\n",
    "    res = 0.\n",
    "    for i in range(len(a)): \n",
    "        res += a[i] * b[i]\n",
    "    return res"
   ]
  },
  {
   "cell_type": "code",
   "execution_count": 115,
   "id": "7adf4e3a-f51b-40ab-baa9-f40b94dcfe59",
   "metadata": {},
   "outputs": [],
   "source": [
    "from numpy import array"
   ]
  },
  {
   "cell_type": "code",
   "execution_count": 116,
   "id": "edc3b577-64ef-4f35-96d6-ebf171fca687",
   "metadata": {},
   "outputs": [
    {
     "name": "stdout",
     "output_type": "stream",
     "text": [
      "CPU times: user 70.4 ms, sys: 15.8 ms, total: 86.2 ms\n",
      "Wall time: 85.4 ms\n"
     ]
    },
    {
     "data": {
      "text/plain": [
       "20.0"
      ]
     },
     "execution_count": 116,
     "metadata": {},
     "output_type": "execute_result"
    }
   ],
   "source": [
    "%time dot(array([1., 2., 3.]), array([2., 3., 4.]))"
   ]
  },
  {
   "cell_type": "code",
   "execution_count": 117,
   "id": "f1bd9035-a439-41e4-a291-e60ff2452c90",
   "metadata": {},
   "outputs": [
    {
     "name": "stdout",
     "output_type": "stream",
     "text": [
      "CPU times: user 61 µs, sys: 0 ns, total: 61 µs\n",
      "Wall time: 67 µs\n"
     ]
    },
    {
     "data": {
      "text/plain": [
       "20.0"
      ]
     },
     "execution_count": 117,
     "metadata": {},
     "output_type": "execute_result"
    }
   ],
   "source": [
    "%time dot(array([1., 2., 3.]), array([2., 3., 4.]))"
   ]
  },
  {
   "cell_type": "markdown",
   "id": "2602714e-c221-4b25-b8cf-e5db91c720db",
   "metadata": {},
   "source": [
    "Notice the second time around it's much faster, this is the JIT doing the optimization stuff"
   ]
  },
  {
   "cell_type": "code",
   "execution_count": 118,
   "id": "ac7488bf-adce-4435-9a74-231ad9e737da",
   "metadata": {},
   "outputs": [],
   "source": [
    "def matmul(a, b):\n",
    "    (ar, ac), (br, bc) = a.shape, b.shape\n",
    "    c = torch.zeros(ar, bc)\n",
    "    for i in range(ar):\n",
    "        for j in range(bc):\n",
    "            c[i,j] = dot(a[i,:], b[:, j])\n",
    "            \n",
    "    return c"
   ]
  },
  {
   "cell_type": "code",
   "execution_count": 119,
   "id": "6fb36e9a-06c5-4e91-a716-a022c7e7b196",
   "metadata": {},
   "outputs": [],
   "source": [
    "m1_, m2_ = m1.numpy(), m2.numpy()"
   ]
  },
  {
   "cell_type": "code",
   "execution_count": 120,
   "id": "27f0e020-7e37-4ace-9fe4-df75bd4e2338",
   "metadata": {},
   "outputs": [],
   "source": [
    "from fastcore.test import *"
   ]
  },
  {
   "cell_type": "code",
   "execution_count": 121,
   "id": "e4a1f6f6-4e88-4ee0-9e8b-41d39974a4c0",
   "metadata": {},
   "outputs": [],
   "source": [
    "test_close(t1, matmul(m1_, m2_), eps=1e-4)"
   ]
  },
  {
   "cell_type": "markdown",
   "id": "c3db364a-ea15-41fe-b5ba-14fdc4f089c5",
   "metadata": {},
   "source": [
    "## Elementwise ops"
   ]
  },
  {
   "cell_type": "code",
   "execution_count": 123,
   "id": "a3323338-497b-45ea-8e72-85b2e9d2da72",
   "metadata": {},
   "outputs": [
    {
     "data": {
      "text/plain": [
       "(tensor([10.,  6., -4.]), tensor([2., 8., 7.]))"
      ]
     },
     "execution_count": 123,
     "metadata": {},
     "output_type": "execute_result"
    }
   ],
   "source": [
    "a = tensor([10., 6, -4])\n",
    "b = tensor([2., 8, 7])\n",
    "a, b"
   ]
  },
  {
   "cell_type": "code",
   "execution_count": 124,
   "id": "aa926181-efdc-416d-a1eb-060c4edc7f8b",
   "metadata": {},
   "outputs": [
    {
     "data": {
      "text/plain": [
       "tensor([12., 14.,  3.])"
      ]
     },
     "execution_count": 124,
     "metadata": {},
     "output_type": "execute_result"
    }
   ],
   "source": [
    "a + b"
   ]
  },
  {
   "cell_type": "code",
   "execution_count": 125,
   "id": "efb6f58e-f04e-4716-afed-558bbae1780d",
   "metadata": {},
   "outputs": [
    {
     "data": {
      "text/plain": [
       "tensor(0.67)"
      ]
     },
     "execution_count": 125,
     "metadata": {},
     "output_type": "execute_result"
    }
   ],
   "source": [
    "(a < b).float().mean()"
   ]
  },
  {
   "cell_type": "code",
   "execution_count": 126,
   "id": "652e9a81-3445-4294-aefa-8da22571f6ad",
   "metadata": {},
   "outputs": [
    {
     "data": {
      "text/plain": [
       "tensor([[1., 2., 3.],\n",
       "        [4., 5., 6.],\n",
       "        [7., 8., 9.]])"
      ]
     },
     "execution_count": 126,
     "metadata": {},
     "output_type": "execute_result"
    }
   ],
   "source": [
    "m = torch.arange(1, 10).reshape(3, 3).float()\n",
    "m"
   ]
  },
  {
   "cell_type": "markdown",
   "id": "29f402ad-e6c4-4d03-b2c3-38f81839bf08",
   "metadata": {},
   "source": [
    "### Frobenius norm\n",
    "\n",
    "$$\\| A \\|_F = \\left( \\sum_{i,j=1}^n | a_{ij} |^2 \\right)^{1/2}$$"
   ]
  },
  {
   "cell_type": "code",
   "execution_count": 127,
   "id": "fade9466-360a-4cc4-a29d-b6106d9fa26d",
   "metadata": {},
   "outputs": [
    {
     "data": {
      "text/plain": [
       "tensor(285.)"
      ]
     },
     "execution_count": 127,
     "metadata": {},
     "output_type": "execute_result"
    }
   ],
   "source": [
    "sf = (m * m).sum()\n",
    "sf"
   ]
  },
  {
   "cell_type": "code",
   "execution_count": 128,
   "id": "ea865676-ff7a-4d55-b59b-35626dba9e16",
   "metadata": {},
   "outputs": [
    {
     "data": {
      "text/plain": [
       "tensor(16.88)"
      ]
     },
     "execution_count": 128,
     "metadata": {},
     "output_type": "execute_result"
    }
   ],
   "source": [
    "sf.sqrt()"
   ]
  },
  {
   "cell_type": "code",
   "execution_count": 129,
   "id": "3eed33ee-5760-4e81-9b43-62f4a3190930",
   "metadata": {},
   "outputs": [
    {
     "data": {
      "text/plain": [
       "(tensor([7., 8., 9.]), tensor([3., 6., 9.]))"
      ]
     },
     "execution_count": 129,
     "metadata": {},
     "output_type": "execute_result"
    }
   ],
   "source": [
    "m[2,:], m[:,2]"
   ]
  },
  {
   "cell_type": "code",
   "execution_count": 130,
   "id": "2ac2f058-f0fc-4b60-a58d-42f37e79b296",
   "metadata": {},
   "outputs": [],
   "source": [
    "def matmul(a, b):\n",
    "    (ar, ac), (br, bc) = a.shape, b.shape\n",
    "    c = torch.zeros(ar, bc)\n",
    "    for i in range(ar):\n",
    "        for j in range(bc):\n",
    "            c[i, j] = (a[i, :] * b[:, j]).sum()\n",
    "    return c"
   ]
  },
  {
   "cell_type": "code",
   "execution_count": 131,
   "id": "594b7fe7-ffee-433a-a42b-5ccbe28fbdad",
   "metadata": {},
   "outputs": [
    {
     "data": {
      "text/plain": [
       "tensor([2., 8., 7.])"
      ]
     },
     "execution_count": 131,
     "metadata": {},
     "output_type": "execute_result"
    }
   ],
   "source": [
    "b"
   ]
  },
  {
   "cell_type": "code",
   "execution_count": 134,
   "id": "017baa47-44bb-4ce7-886b-2cb1d8898c49",
   "metadata": {},
   "outputs": [],
   "source": [
    "test_close(t1, matmul(m1, m2), eps=1e-4)"
   ]
  },
  {
   "cell_type": "code",
   "execution_count": 136,
   "id": "665c455c-9ba7-4929-807e-a3e5e068b9dd",
   "metadata": {},
   "outputs": [
    {
     "name": "stdout",
     "output_type": "stream",
     "text": [
      "1.05 ms ± 26.5 µs per loop (mean ± std. dev. of 7 runs, 50 loops each)\n"
     ]
    }
   ],
   "source": [
    "%timeit -n 50 _=matmul(m1, m2)"
   ]
  },
  {
   "cell_type": "code",
   "execution_count": 140,
   "id": "574f1bf4-2384-456a-a965-19f765f87026",
   "metadata": {},
   "outputs": [],
   "source": [
    "def matmul(a, b):\n",
    "    (ar, ac), (br, bc) = a.shape, b.shape\n",
    "    c = torch.zeros(ar, bc)\n",
    "    for i in range(ar):\n",
    "        for j in range(bc):\n",
    "            c[i,j] = torch.dot(a[i, :], b[:, j])\n",
    "\n",
    "    return c"
   ]
  },
  {
   "cell_type": "code",
   "execution_count": 141,
   "id": "4d45878d-494a-42a3-87c1-3d7a2ab4c5a7",
   "metadata": {},
   "outputs": [],
   "source": [
    "test_close(t1, matmul(m1, m2), eps=1e-4)"
   ]
  },
  {
   "cell_type": "code",
   "execution_count": 142,
   "id": "ae62d405-e12d-4c0c-9da7-261c40240c53",
   "metadata": {},
   "outputs": [
    {
     "name": "stdout",
     "output_type": "stream",
     "text": [
      "690 µs ± 50.5 µs per loop (mean ± std. dev. of 7 runs, 50 loops each)\n"
     ]
    }
   ],
   "source": [
    "%timeit -n 50 _=matmul(m1, m2)"
   ]
  },
  {
   "cell_type": "markdown",
   "id": "a64e8db5-8c44-414d-8160-52aceb980881",
   "metadata": {},
   "source": [
    "# Broadcasting"
   ]
  },
  {
   "cell_type": "code",
   "execution_count": 143,
   "id": "f32dfe1e-b11b-4227-b420-d359ba20b827",
   "metadata": {},
   "outputs": [
    {
     "data": {
      "text/plain": [
       "tensor([10., 20., 30.])"
      ]
     },
     "execution_count": 143,
     "metadata": {},
     "output_type": "execute_result"
    }
   ],
   "source": [
    "c = tensor([10., 20., 30.]); c"
   ]
  },
  {
   "cell_type": "code",
   "execution_count": 144,
   "id": "07c1f3f0-f847-4125-ac1b-5e466dcb42b0",
   "metadata": {},
   "outputs": [
    {
     "data": {
      "text/plain": [
       "tensor([[1., 2., 3.],\n",
       "        [4., 5., 6.],\n",
       "        [7., 8., 9.]])"
      ]
     },
     "execution_count": 144,
     "metadata": {},
     "output_type": "execute_result"
    }
   ],
   "source": [
    "m"
   ]
  },
  {
   "cell_type": "code",
   "execution_count": 145,
   "id": "b9501a42-6481-44ce-bd6a-bb17d374bfcf",
   "metadata": {},
   "outputs": [
    {
     "data": {
      "text/plain": [
       "(torch.Size([3, 3]), torch.Size([3]))"
      ]
     },
     "execution_count": 145,
     "metadata": {},
     "output_type": "execute_result"
    }
   ],
   "source": [
    "m.shape, c.shape"
   ]
  },
  {
   "cell_type": "code",
   "execution_count": 146,
   "id": "ef5efc96-58a7-4506-896b-fb2c155c525b",
   "metadata": {},
   "outputs": [
    {
     "data": {
      "text/plain": [
       "tensor([[11., 22., 33.],\n",
       "        [14., 25., 36.],\n",
       "        [17., 28., 39.]])"
      ]
     },
     "execution_count": 146,
     "metadata": {},
     "output_type": "execute_result"
    }
   ],
   "source": [
    "m + c"
   ]
  },
  {
   "cell_type": "code",
   "execution_count": 148,
   "id": "8854d0db-2a23-42f9-b9d0-817290af0edd",
   "metadata": {},
   "outputs": [
    {
     "data": {
      "text/plain": [
       "tensor([[11., 22., 33.],\n",
       "        [14., 25., 36.],\n",
       "        [17., 28., 39.]])"
      ]
     },
     "execution_count": 148,
     "metadata": {},
     "output_type": "execute_result"
    }
   ],
   "source": [
    "c + m"
   ]
  },
  {
   "cell_type": "code",
   "execution_count": 151,
   "id": "b5f45035-165b-4b1f-b126-4104ca48e0ef",
   "metadata": {},
   "outputs": [],
   "source": [
    "t = c.expand_as(m) # Nice to visualize broadcasting"
   ]
  },
  {
   "cell_type": "code",
   "execution_count": 150,
   "id": "4858fe0d-45a3-49c3-85ee-967c43888550",
   "metadata": {},
   "outputs": [
    {
     "data": {
      "text/plain": [
       "tensor([[10., 20., 30.],\n",
       "        [10., 20., 30.],\n",
       "        [10., 20., 30.]])"
      ]
     },
     "execution_count": 150,
     "metadata": {},
     "output_type": "execute_result"
    }
   ],
   "source": [
    "t"
   ]
  },
  {
   "cell_type": "code",
   "execution_count": 152,
   "id": "8c683507-bfe7-4287-9110-0cafc5d7f9a1",
   "metadata": {},
   "outputs": [
    {
     "data": {
      "text/plain": [
       "tensor([[11., 22., 33.],\n",
       "        [14., 25., 36.],\n",
       "        [17., 28., 39.]])"
      ]
     },
     "execution_count": 152,
     "metadata": {},
     "output_type": "execute_result"
    }
   ],
   "source": [
    "m + t"
   ]
  },
  {
   "cell_type": "code",
   "execution_count": 154,
   "id": "4b5ab2f3-6fab-4d9c-9f01-49de3b0fca93",
   "metadata": {},
   "outputs": [
    {
     "data": {
      "text/plain": [
       "(torch.Size([3, 3]), torch.Size([3]))"
      ]
     },
     "execution_count": 154,
     "metadata": {},
     "output_type": "execute_result"
    }
   ],
   "source": [
    "m.shape, c.shape"
   ]
  },
  {
   "cell_type": "code",
   "execution_count": 153,
   "id": "51534c16-5d2d-44e5-842d-c3fcd275822a",
   "metadata": {},
   "outputs": [
    {
     "data": {
      "text/plain": [
       "tensor([[11., 22., 33.],\n",
       "        [14., 25., 36.],\n",
       "        [17., 28., 39.]])"
      ]
     },
     "execution_count": 153,
     "metadata": {},
     "output_type": "execute_result"
    }
   ],
   "source": [
    "m + c"
   ]
  },
  {
   "cell_type": "code",
   "execution_count": 156,
   "id": "96e416bb-21db-4341-a1c2-eea2fe9d6aa8",
   "metadata": {},
   "outputs": [
    {
     "data": {
      "text/plain": [
       "tensor([[11., 12., 13.],\n",
       "        [24., 25., 26.],\n",
       "        [37., 38., 39.]])"
      ]
     },
     "execution_count": 156,
     "metadata": {},
     "output_type": "execute_result"
    }
   ],
   "source": [
    "m + c[:, None] # Broadcast on the other dimension"
   ]
  },
  {
   "cell_type": "markdown",
   "id": "502fcb40-2c2b-4025-93d3-f3cc5ab12f1d",
   "metadata": {},
   "source": [
    "# Matmul with broadcasting"
   ]
  },
  {
   "cell_type": "code",
   "execution_count": 161,
   "id": "a7949011-0844-4b42-89c0-953b526f40b6",
   "metadata": {},
   "outputs": [
    {
     "data": {
      "text/plain": [
       "(torch.Size([5, 784]), torch.Size([784, 10]))"
      ]
     },
     "execution_count": 161,
     "metadata": {},
     "output_type": "execute_result"
    }
   ],
   "source": [
    "m1.shape, m2.shape"
   ]
  },
  {
   "cell_type": "code",
   "execution_count": 158,
   "id": "b06d0942-b6cf-4f7c-ba6a-e4f0ff6bec74",
   "metadata": {},
   "outputs": [
    {
     "data": {
      "text/plain": [
       "(torch.Size([784]), torch.Size([784, 10]))"
      ]
     },
     "execution_count": 158,
     "metadata": {},
     "output_type": "execute_result"
    }
   ],
   "source": [
    "digit = m1[0]\n",
    "digit.shape, m2.shape"
   ]
  },
  {
   "cell_type": "code",
   "execution_count": 159,
   "id": "50dea3a2-ecf9-448b-aa61-fdf40fbc0d6c",
   "metadata": {},
   "outputs": [
    {
     "data": {
      "text/plain": [
       "torch.Size([784, 1])"
      ]
     },
     "execution_count": 159,
     "metadata": {},
     "output_type": "execute_result"
    }
   ],
   "source": [
    "digit[:, None].shape"
   ]
  },
  {
   "cell_type": "code",
   "execution_count": 160,
   "id": "091c4969-ebef-4909-a4f1-3bd4cb35a39d",
   "metadata": {},
   "outputs": [
    {
     "data": {
      "text/plain": [
       "torch.Size([784, 10])"
      ]
     },
     "execution_count": 160,
     "metadata": {},
     "output_type": "execute_result"
    }
   ],
   "source": [
    "(digit[:, None]*m2).shape"
   ]
  },
  {
   "cell_type": "code",
   "execution_count": 162,
   "id": "3b2ad5be-35e0-4fc9-a80f-8d669985697a",
   "metadata": {},
   "outputs": [
    {
     "data": {
      "text/plain": [
       "torch.Size([784, 1])"
      ]
     },
     "execution_count": 162,
     "metadata": {},
     "output_type": "execute_result"
    }
   ],
   "source": [
    "m1[0, :, None].shape"
   ]
  },
  {
   "cell_type": "code",
   "execution_count": 164,
   "id": "c14c437d-694f-4fae-bef4-73b79503ee8e",
   "metadata": {},
   "outputs": [],
   "source": [
    "def matmul(a, b):\n",
    "    (ar, ac), (br, bc) = a.shape, b.shape\n",
    "    c = torch.zeros(ar, bc)\n",
    "    for i in range(ar):\n",
    "        c[i] = (a[i, :, None] * b).sum(dim=0)\n",
    "    return c"
   ]
  },
  {
   "cell_type": "code",
   "execution_count": 165,
   "id": "c86f56c5-11da-43dc-98cd-abbbf83c4dfa",
   "metadata": {},
   "outputs": [],
   "source": [
    "test_close(t1, matmul(m1, m2))"
   ]
  },
  {
   "cell_type": "code",
   "execution_count": 167,
   "id": "acc6f783-ee44-4479-b5a6-8e7c45107f20",
   "metadata": {},
   "outputs": [
    {
     "name": "stdout",
     "output_type": "stream",
     "text": [
      "144 µs ± 8.91 µs per loop (mean ± std. dev. of 7 runs, 50 loops each)\n"
     ]
    }
   ],
   "source": [
    "%timeit -n 50 _=matmul(m1, m2)"
   ]
  },
  {
   "cell_type": "code",
   "execution_count": 168,
   "id": "1a94a2e4-de53-4378-96a6-a4ad7baab831",
   "metadata": {},
   "outputs": [
    {
     "data": {
      "text/plain": [
       "tensor([[ -4.50,   8.55,   5.63,  ...,  -1.53,  14.52,   9.77],\n",
       "        [-13.30,  -3.87,   4.19,  ...,  -1.60,  -0.98,  12.68],\n",
       "        [ -6.50,  -8.13,   4.22,  ...,  -0.34,   0.47,   8.99],\n",
       "        ...,\n",
       "        [  6.05,   9.48,   4.29,  ...,  -0.39,  14.74,  14.71],\n",
       "        [ -8.07,  11.48,   1.65,  ...,   6.86,   7.48,   9.73],\n",
       "        [  7.72,   7.82,   9.99,  ...,   1.84,  16.33,   5.96]])"
      ]
     },
     "execution_count": 168,
     "metadata": {},
     "output_type": "execute_result"
    }
   ],
   "source": [
    "tr = matmul(x_train, weights)\n",
    "tr"
   ]
  },
  {
   "cell_type": "code",
   "execution_count": 169,
   "id": "bfe487d1-83bc-49bc-8bfe-2121b0e3feb6",
   "metadata": {},
   "outputs": [
    {
     "data": {
      "text/plain": [
       "torch.Size([50000, 10])"
      ]
     },
     "execution_count": 169,
     "metadata": {},
     "output_type": "execute_result"
    }
   ],
   "source": [
    "tr.shape"
   ]
  },
  {
   "cell_type": "code",
   "execution_count": 170,
   "id": "211e8eb1-2c20-4e3b-a6c7-fb72105ede3e",
   "metadata": {},
   "outputs": [
    {
     "name": "stdout",
     "output_type": "stream",
     "text": [
      "CPU times: user 1.27 s, sys: 0 ns, total: 1.27 s\n",
      "Wall time: 1.26 s\n"
     ]
    }
   ],
   "source": [
    "%time _=matmul(x_train, weights)"
   ]
  },
  {
   "cell_type": "markdown",
   "id": "71fcd8fa-7842-4b16-aeea-c845e3c392ec",
   "metadata": {},
   "source": [
    "# Einstein Summation\n",
    "\n",
    "* Repeating letters between inputs will multiply along those axis\n",
    "* Ommitting letters will sum along this axis"
   ]
  },
  {
   "cell_type": "code",
   "execution_count": 171,
   "id": "bd0fb3aa-5fd6-404e-b1e3-9158e3816f2c",
   "metadata": {},
   "outputs": [
    {
     "data": {
      "text/plain": [
       "(torch.Size([5, 784]), torch.Size([784, 10]))"
      ]
     },
     "execution_count": 171,
     "metadata": {},
     "output_type": "execute_result"
    }
   ],
   "source": [
    "m1.shape, m2. shape"
   ]
  },
  {
   "cell_type": "code",
   "execution_count": 187,
   "id": "c7752966-4d1c-4369-82b8-81c2cf02d5e2",
   "metadata": {},
   "outputs": [],
   "source": [
    "mr = torch.einsum('ik,kj -> ikj', m1, m2)"
   ]
  },
  {
   "cell_type": "code",
   "execution_count": 188,
   "id": "e499180f-abb4-4af3-a38c-7585e41a7482",
   "metadata": {},
   "outputs": [
    {
     "data": {
      "text/plain": [
       "torch.Size([5, 784, 10])"
      ]
     },
     "execution_count": 188,
     "metadata": {},
     "output_type": "execute_result"
    }
   ],
   "source": [
    "mr.shape"
   ]
  },
  {
   "cell_type": "code",
   "execution_count": 190,
   "id": "b7808d50-5f17-4b7e-83c7-e9218c99bdbf",
   "metadata": {},
   "outputs": [
    {
     "data": {
      "text/plain": [
       "tensor([[ -5.28,  10.25,   2.07,   4.31,  -7.91, -10.03,   4.10,   1.87,   2.95,   8.23],\n",
       "        [  3.70,  11.19,   4.88,  -2.83, -12.34,  -5.00,  -4.03,  -0.12,   2.48,   6.84],\n",
       "        [ -0.65,   0.96,  13.61,   0.61,  -3.77,  -7.93,   5.29,   8.89,   3.50,   5.30],\n",
       "        [-18.84,  10.83,   0.32, -10.01,   1.63,  -4.54,  -0.04,  -2.07,   9.84,   8.82],\n",
       "        [ -8.41,   4.87,   0.95,  13.35, -13.55,  -2.51,   8.70,  -4.11,   1.39,  -2.55]])"
      ]
     },
     "execution_count": 190,
     "metadata": {},
     "output_type": "execute_result"
    }
   ],
   "source": [
    "mr.sum(1)"
   ]
  },
  {
   "cell_type": "code",
   "execution_count": 191,
   "id": "0fc75a9a-b6a0-4bbb-a6cb-20095e52012b",
   "metadata": {},
   "outputs": [
    {
     "data": {
      "text/plain": [
       "tensor([[ -5.28,  10.25,   2.07,   4.31,  -7.91, -10.03,   4.10,   1.87,   2.95,   8.23],\n",
       "        [  3.70,  11.19,   4.88,  -2.83, -12.34,  -5.00,  -4.03,  -0.12,   2.48,   6.84],\n",
       "        [ -0.65,   0.96,  13.61,   0.61,  -3.77,  -7.93,   5.29,   8.89,   3.50,   5.30],\n",
       "        [-18.84,  10.83,   0.32, -10.01,   1.63,  -4.54,  -0.04,  -2.07,   9.84,   8.82],\n",
       "        [ -8.41,   4.87,   0.95,  13.35, -13.55,  -2.51,   8.70,  -4.11,   1.39,  -2.55]])"
      ]
     },
     "execution_count": 191,
     "metadata": {},
     "output_type": "execute_result"
    }
   ],
   "source": [
    "torch.einsum('ik,kj->ij', m1, m2)"
   ]
  },
  {
   "cell_type": "code",
   "execution_count": 194,
   "id": "9ab5e79b-ab47-447a-b961-e1c3a161f43b",
   "metadata": {},
   "outputs": [],
   "source": [
    "def matmul(a, b): return torch.einsum('ik,kj->ij', a, b)"
   ]
  },
  {
   "cell_type": "code",
   "execution_count": 196,
   "id": "865315cf-cfbf-4fbc-809d-4bf06ff2186d",
   "metadata": {},
   "outputs": [],
   "source": [
    "test_close(tr, matmul(x_train, weights), eps=1e-4)"
   ]
  },
  {
   "cell_type": "code",
   "execution_count": 197,
   "id": "b0ce34a8-830e-4dbc-90b8-4b3e534e53ca",
   "metadata": {},
   "outputs": [
    {
     "name": "stdout",
     "output_type": "stream",
     "text": [
      "9.29 ms ± 2.39 ms per loop (mean ± std. dev. of 7 runs, 5 loops each)\n"
     ]
    }
   ],
   "source": [
    "%timeit -n 5 _=matmul(x_train, weights)"
   ]
  },
  {
   "cell_type": "markdown",
   "id": "8d51b350-6dc7-44f2-9a8f-43dc521027d6",
   "metadata": {},
   "source": [
    "## pytorch"
   ]
  },
  {
   "cell_type": "code",
   "execution_count": 198,
   "id": "e9a55103-02dc-4c80-ae91-8f3e873281eb",
   "metadata": {},
   "outputs": [],
   "source": [
    "test_close(tr, x_train @ weights, eps=1e-4)"
   ]
  },
  {
   "cell_type": "code",
   "execution_count": 199,
   "id": "08a67f8a-4290-4358-8775-d82fe4bcb0c6",
   "metadata": {},
   "outputs": [
    {
     "name": "stdout",
     "output_type": "stream",
     "text": [
      "11.8 ms ± 2.38 ms per loop (mean ± std. dev. of 7 runs, 5 loops each)\n"
     ]
    }
   ],
   "source": [
    "%timeit -n 5 _=torch.matmul(x_train, weights)"
   ]
  },
  {
   "cell_type": "markdown",
   "id": "b954a227-63b7-4825-b3a5-e408238fd7c2",
   "metadata": {},
   "source": [
    "## CUDA"
   ]
  },
  {
   "cell_type": "code",
   "execution_count": 200,
   "id": "da29c804-cfdc-402f-a65f-59fbecaccd3f",
   "metadata": {},
   "outputs": [],
   "source": [
    "def matmul(grid, a, b, c):\n",
    "    i, j = grid\n",
    "    if i < c.shape[0] and j < c.shape[1]:\n",
    "        tmp = 0."
   ]
  },
  {
   "cell_type": "code",
   "execution_count": null,
   "id": "4d8bc967-b5e0-47cf-861c-0de785216751",
   "metadata": {},
   "outputs": [],
   "source": []
  }
 ],
 "metadata": {
  "kernelspec": {
   "display_name": "Python 3 (ipykernel)",
   "language": "python",
   "name": "python3"
  },
  "language_info": {
   "codemirror_mode": {
    "name": "ipython",
    "version": 3
   },
   "file_extension": ".py",
   "mimetype": "text/x-python",
   "name": "python",
   "nbconvert_exporter": "python",
   "pygments_lexer": "ipython3",
   "version": "3.11.3"
  }
 },
 "nbformat": 4,
 "nbformat_minor": 5
}
