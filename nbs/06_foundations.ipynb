{
 "cells": [
  {
   "cell_type": "code",
   "execution_count": 2,
   "id": "90c0bb02-5b85-4c34-bdcc-0b0bbcdd96d4",
   "metadata": {},
   "outputs": [],
   "source": [
    "import torch\n",
    "import matplotlib.pyplot as plt\n",
    "import random\n",
    "import ipywidgets as widgets"
   ]
  },
  {
   "cell_type": "code",
   "execution_count": 3,
   "id": "9069c06c-3e65-4d82-bf11-a69d716b81de",
   "metadata": {},
   "outputs": [],
   "source": [
    "w = widgets.Button(description=\"Click Me\")"
   ]
  },
  {
   "cell_type": "code",
   "execution_count": 4,
   "id": "e6ad1e59-b757-4975-8952-dfc83c711662",
   "metadata": {},
   "outputs": [
    {
     "data": {
      "application/vnd.jupyter.widget-view+json": {
       "model_id": "d2cf89794251488fb71260613db3ee9b",
       "version_major": 2,
       "version_minor": 0
      },
      "text/plain": [
       "Button(description='Click Me', style=ButtonStyle())"
      ]
     },
     "metadata": {},
     "output_type": "display_data"
    }
   ],
   "source": [
    "w"
   ]
  },
  {
   "cell_type": "code",
   "execution_count": 5,
   "id": "18b0ad07-db71-4252-9c17-416ae63f3ad5",
   "metadata": {},
   "outputs": [],
   "source": [
    "def f(o): print('hi')"
   ]
  },
  {
   "cell_type": "code",
   "execution_count": 6,
   "id": "a3aed84b-8a74-4dc5-b060-c927043a68d5",
   "metadata": {},
   "outputs": [],
   "source": [
    "w.on_click(f)"
   ]
  },
  {
   "cell_type": "code",
   "execution_count": 7,
   "id": "2437f13c-32d9-456d-8156-347b43478593",
   "metadata": {},
   "outputs": [],
   "source": [
    "from time import sleep"
   ]
  },
  {
   "cell_type": "code",
   "execution_count": 8,
   "id": "0086944d-f9ef-49ba-b177-8f47a52e6346",
   "metadata": {},
   "outputs": [],
   "source": [
    "def slow_calc():\n",
    "    res = 0\n",
    "    for i in range(5):\n",
    "        res += i*i\n",
    "        sleep(1)\n",
    "    return res"
   ]
  },
  {
   "cell_type": "code",
   "execution_count": 9,
   "id": "9e619166-2be4-4d31-9b73-557c654e46fa",
   "metadata": {},
   "outputs": [
    {
     "data": {
      "text/plain": [
       "30"
      ]
     },
     "execution_count": 9,
     "metadata": {},
     "output_type": "execute_result"
    }
   ],
   "source": [
    "slow_calc()"
   ]
  },
  {
   "cell_type": "code",
   "execution_count": 10,
   "id": "1f39e162-bf60-4577-bede-38c578b743db",
   "metadata": {},
   "outputs": [],
   "source": [
    "def slow_calc(cb=None):\n",
    "    res = 0\n",
    "    for i in range(5):\n",
    "        res += i*i\n",
    "        sleep(1)\n",
    "        if cb: cb(i)\n",
    "    return res"
   ]
  },
  {
   "cell_type": "code",
   "execution_count": 11,
   "id": "3d168825-14a4-45ec-b184-1d584be06fee",
   "metadata": {},
   "outputs": [],
   "source": [
    "def show_progress(epoch): print(f\"Sweet! Epoch {epoch} finished\")"
   ]
  },
  {
   "cell_type": "code",
   "execution_count": 12,
   "id": "4cad621f-a580-41b0-beb2-4de81246a57c",
   "metadata": {},
   "outputs": [
    {
     "name": "stdout",
     "output_type": "stream",
     "text": [
      "Sweet! Epoch 0 finished\n",
      "Sweet! Epoch 1 finished\n",
      "Sweet! Epoch 2 finished\n",
      "Sweet! Epoch 3 finished\n",
      "Sweet! Epoch 4 finished\n"
     ]
    },
    {
     "data": {
      "text/plain": [
       "30"
      ]
     },
     "execution_count": 12,
     "metadata": {},
     "output_type": "execute_result"
    }
   ],
   "source": [
    "slow_calc(show_progress)"
   ]
  },
  {
   "cell_type": "code",
   "execution_count": 14,
   "id": "dd6e6e22-4ba8-4ab4-8b7c-72882d3ea310",
   "metadata": {},
   "outputs": [],
   "source": [
    "def slow_calc(cb=None):\n",
    "    res = 0\n",
    "    for i in range(5):\n",
    "        if cb: cb.before_calc(i)\n",
    "        res += i*i\n",
    "        sleep(1)\n",
    "        if cb: cb.after_calc(i, val=res)\n",
    "    return res"
   ]
  },
  {
   "cell_type": "code",
   "execution_count": 15,
   "id": "6bae8a00-4684-421b-a491-637f4cd2611c",
   "metadata": {},
   "outputs": [],
   "source": [
    "class PrintStepCallback():\n",
    "    def before_calc(self, *args, **kwargs): print(\"Starting\")\n",
    "    def after_calc(self, *args, **kwargs): print(\"Done\")"
   ]
  },
  {
   "cell_type": "code",
   "execution_count": 16,
   "id": "0c600ae5-aab0-4422-a70d-5778aec7f790",
   "metadata": {},
   "outputs": [
    {
     "name": "stdout",
     "output_type": "stream",
     "text": [
      "Starting\n",
      "Done\n",
      "Starting\n",
      "Done\n",
      "Starting\n",
      "Done\n",
      "Starting\n",
      "Done\n",
      "Starting\n",
      "Done\n"
     ]
    },
    {
     "data": {
      "text/plain": [
       "30"
      ]
     },
     "execution_count": 16,
     "metadata": {},
     "output_type": "execute_result"
    }
   ],
   "source": [
    "slow_calc(PrintStepCallback())"
   ]
  },
  {
   "cell_type": "code",
   "execution_count": 17,
   "id": "cec96f8d-056c-457d-837e-fd889c288a6b",
   "metadata": {},
   "outputs": [],
   "source": [
    "class PrintStatusCallback():\n",
    "    def __init__(self): pass\n",
    "    def before_calc(self, epoch, **kwargs): print(f\"About to start: {epoch}\")\n",
    "    def after_calc (self, epoch, val, **kwargs): print(f\"After {epoch}: {val}\")"
   ]
  },
  {
   "cell_type": "code",
   "execution_count": 18,
   "id": "8366d5e5-132b-4bce-b1a2-d22f0e971f55",
   "metadata": {},
   "outputs": [
    {
     "name": "stdout",
     "output_type": "stream",
     "text": [
      "About to start: 0\n",
      "After 0: 0\n",
      "About to start: 1\n",
      "After 1: 1\n",
      "About to start: 2\n",
      "After 2: 5\n",
      "About to start: 3\n",
      "After 3: 14\n",
      "About to start: 4\n",
      "After 4: 30\n"
     ]
    },
    {
     "data": {
      "text/plain": [
       "30"
      ]
     },
     "execution_count": 18,
     "metadata": {},
     "output_type": "execute_result"
    }
   ],
   "source": [
    "slow_calc(PrintStatusCallback())"
   ]
  },
  {
   "cell_type": "code",
   "execution_count": null,
   "id": "db1f3edf-932a-4633-b6f7-c332d24507a7",
   "metadata": {},
   "outputs": [],
   "source": []
  }
 ],
 "metadata": {
  "kernelspec": {
   "display_name": "Python 3 (ipykernel)",
   "language": "python",
   "name": "python3"
  },
  "language_info": {
   "codemirror_mode": {
    "name": "ipython",
    "version": 3
   },
   "file_extension": ".py",
   "mimetype": "text/x-python",
   "name": "python",
   "nbconvert_exporter": "python",
   "pygments_lexer": "ipython3",
   "version": "3.8.16"
  }
 },
 "nbformat": 4,
 "nbformat_minor": 5
}
