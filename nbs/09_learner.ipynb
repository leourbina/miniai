{
 "cells": [
  {
   "cell_type": "code",
   "execution_count": 2,
   "id": "421c52fe-cd96-45b2-b15b-7085598f54c6",
   "metadata": {
    "tags": []
   },
   "outputs": [],
   "source": [
    "#| default_exp learner"
   ]
  },
  {
   "cell_type": "code",
   "execution_count": 3,
   "id": "71b0b03a-53aa-4b84-9dfa-5e6d6c4301f4",
   "metadata": {
    "tags": []
   },
   "outputs": [],
   "source": [
    "#|export\n",
    "import math\n",
    "import torch\n",
    "from torch import nn, tensor\n",
    "import matplotlib.pyplot as plt\n",
    "import fastcore.all as fc\n",
    "from collections.abc import Mapping\n",
    "from operator import attrgetter\n",
    "from functools import partial\n",
    "from copy import copy\n",
    "from tqdm.auto import trange, tqdm\n",
    "\n",
    "from torch import optim\n",
    "import torch.nn.functional as F\n",
    "\n",
    "from miniai.conv import *\n",
    "from fastprogress import progress_bar, master_bar\n",
    "\n",
    "torch_device = \"mps\" if torch.backends.mps.is_available() else \"cuda\" if torch.cuda.is_available() else \"cpu\"\n",
    "device = torch.device(torch_device)"
   ]
  },
  {
   "cell_type": "code",
   "execution_count": 4,
   "id": "1ee618d0-04c9-449a-9b69-e2c4750f7327",
   "metadata": {
    "tags": []
   },
   "outputs": [],
   "source": [
    "import matplotlib as mpl\n",
    "import torchvision.transforms.functional as TF\n",
    "from contextlib import contextmanager\n",
    "from datasets import load_dataset, load_dataset_builder\n",
    "from miniai.datasets import *\n",
    "from miniai.conv import *\n",
    "import logging\n",
    "from fastcore.test import test_close\n",
    "from IPython.core.debugger import set_trace\n",
    "%load_ext tensorboard"
   ]
  },
  {
   "cell_type": "code",
   "execution_count": 5,
   "id": "dca80540-a767-4d0c-b50a-0e0a9c4d45c8",
   "metadata": {
    "tags": []
   },
   "outputs": [],
   "source": [
    "torch.set_printoptions(precision=2, linewidth=120, sci_mode=False)\n",
    "torch.manual_seed(42)\n",
    "plt.style.use('fast')\n",
    "logging.disable(logging.WARNING)"
   ]
  },
  {
   "cell_type": "code",
   "execution_count": 6,
   "id": "720f01d7-3e5d-4691-8e86-a39c404af3e9",
   "metadata": {
    "tags": []
   },
   "outputs": [
    {
     "data": {
      "application/vnd.jupyter.widget-view+json": {
       "model_id": "8e6998c4914e4cf5a243e5ab9c2dfacf",
       "version_major": 2,
       "version_minor": 0
      },
      "text/plain": [
       "  0%|          | 0/2 [00:00<?, ?it/s]"
      ]
     },
     "metadata": {},
     "output_type": "display_data"
    }
   ],
   "source": [
    "x, y = 'image', 'label'\n",
    "\n",
    "name = \"fashion_mnist\"\n",
    "dsd = load_dataset(name)"
   ]
  },
  {
   "cell_type": "code",
   "execution_count": 7,
   "id": "f6be11a0-5f88-49e8-bfa7-b3c569d99bda",
   "metadata": {
    "tags": []
   },
   "outputs": [],
   "source": [
    "@inplace\n",
    "def transformi(b): b[x] = [torch.flatten(TF.to_tensor(o)) for o in b[x]] "
   ]
  },
  {
   "cell_type": "code",
   "execution_count": 8,
   "id": "4ebd8e7f-ec0f-49a1-b3cd-e552c98349ac",
   "metadata": {
    "tags": []
   },
   "outputs": [],
   "source": [
    "bs = 512\n",
    "tds = dsd.with_transform(transformi)"
   ]
  },
  {
   "cell_type": "code",
   "execution_count": 9,
   "id": "bad63429-fdf6-4d67-bdf2-f9c69055c85f",
   "metadata": {
    "tags": []
   },
   "outputs": [
    {
     "data": {
      "text/plain": [
       "(torch.Size([512, 784]), tensor([5, 7, 4, 7, 3, 8, 9, 5, 3, 1]))"
      ]
     },
     "execution_count": 9,
     "metadata": {},
     "output_type": "execute_result"
    }
   ],
   "source": [
    "dls = DataLoaders.from_dd(tds, bs, num_workers=4)\n",
    "dt = dls.train\n",
    "xb, yb = next(iter(dt))\n",
    "xb.shape, yb[:10]"
   ]
  },
  {
   "cell_type": "markdown",
   "id": "29d665e1-7ec7-4123-bd30-46a2fd260aaf",
   "metadata": {},
   "source": [
    "# Learner\n",
    "\n",
    "Let's start with a basic version"
   ]
  },
  {
   "cell_type": "code",
   "execution_count": 10,
   "id": "a9517571-eac7-4b90-b69e-d4dc467bb022",
   "metadata": {
    "tags": []
   },
   "outputs": [],
   "source": [
    "class Learner:\n",
    "    def __init__(self, model, dls, loss_func, lr, opt_func=optim.SGD):\n",
    "        fc.store_attr()\n",
    "        \n",
    "    def fit(self, n_epochs):\n",
    "        self.accs, self.losses, self.ns = [], [], []\n",
    "        self.model.to(device) \n",
    "        self.opt = self.opt_func(self.model.parameters(), self.lr)\n",
    "        self.n_epochs = n_epochs\n",
    "        for self.epoch in trange(n_epochs):\n",
    "            self.one_epoch(train=True)\n",
    "            with torch.no_grad():\n",
    "                self.one_epoch(train=False)\n",
    "                \n",
    "    def one_epoch(self, train=True):\n",
    "        self.model.training = train\n",
    "        dl = self.dls. train if train else self.dls.valid\n",
    "        for self.num, self.batch in enumerate(dl):\n",
    "            self.one_batch()\n",
    "        n = sum(self.ns)\n",
    "        print(self.epoch, self.model.training, sum(self.losses).item()/n, sum(self.accs).item()/n)        \n",
    "        \n",
    "    def one_batch(self):\n",
    "        self.xb, self.yb = to_device(self.batch)\n",
    "        self.preds = self.model(self.xb)\n",
    "        self.loss = self.loss_func(self.preds, self.yb)\n",
    "        if self.model.training:\n",
    "            self.loss.backward()\n",
    "            self.opt.step()\n",
    "            self.opt.zero_grad()\n",
    "        with torch.no_grad(): self.calc_stats()\n",
    "    \n",
    "    def calc_stats(self):\n",
    "        acc = (self.preds.argmax(dim=1) == self.yb).float().sum()\n",
    "        self.accs.append(acc)\n",
    "        n = len(self.xb)\n",
    "        self.losses.append(self.loss*n)\n",
    "        self.ns.append(n)    "
   ]
  },
  {
   "cell_type": "code",
   "execution_count": 11,
   "id": "7f148fa5-6705-47b1-a567-8bfb9fff8131",
   "metadata": {
    "tags": []
   },
   "outputs": [],
   "source": [
    "m, nh = 28*28, 50\n",
    "model = nn.Sequential(nn.Linear(m, nh), nn.ReLU(), nn.Linear(nh, 10))"
   ]
  },
  {
   "cell_type": "code",
   "execution_count": 12,
   "id": "f305db77-def2-4beb-991d-dd324777c585",
   "metadata": {
    "tags": []
   },
   "outputs": [
    {
     "data": {
      "application/vnd.jupyter.widget-view+json": {
       "model_id": "d87b7d1dd1904cd3b040639de12f36e3",
       "version_major": 2,
       "version_minor": 0
      },
      "text/plain": [
       "  0%|          | 0/1 [00:00<?, ?it/s]"
      ]
     },
     "metadata": {},
     "output_type": "display_data"
    },
    {
     "name": "stdout",
     "output_type": "stream",
     "text": [
      "0 True 0.9668892578125 0.66605\n",
      "0 False 0.92552109375 0.6796142857142857\n"
     ]
    }
   ],
   "source": [
    "learn = Learner(model, dls, F.cross_entropy, lr=0.2)\n",
    "learn.fit(1)"
   ]
  },
  {
   "cell_type": "markdown",
   "id": "06cce570-fb59-4873-b052-2e95a6d31eaf",
   "metadata": {},
   "source": [
    "# Learner with callbacks\n",
    "\n",
    "Let's make it customizable"
   ]
  },
  {
   "cell_type": "code",
   "execution_count": 13,
   "id": "4c4da1b3-b3a5-4214-b35f-ec98d6aa4b72",
   "metadata": {
    "tags": []
   },
   "outputs": [],
   "source": [
    "#|export\n",
    "class Learner: pass\n",
    "\n",
    "class Callback: \n",
    "    order = 0\n",
    "    \n",
    "    def before_fit(self, learn: Learner): pass\n",
    "    def after_fit(self, learn: Learner): pass\n",
    "    def before_epoch(self, learn: Learner): pass\n",
    "    def after_epoch(self, learn: Learner): pass\n",
    "    def before_batch(self, learn: Learner): pass\n",
    "    def after_batch(self, learn: Learner): pass"
   ]
  },
  {
   "cell_type": "code",
   "execution_count": 14,
   "id": "8c6b0b70-88d5-45b6-8720-773e774d5e54",
   "metadata": {
    "tags": []
   },
   "outputs": [],
   "source": [
    "#|export\n",
    "def run_cbs(cbs, method_name, learn=None):\n",
    "    for cb in sorted(cbs, key=attrgetter('order')):\n",
    "        method = getattr(cb, method_name, None)\n",
    "        if method is not None: method(learn)"
   ]
  },
  {
   "cell_type": "code",
   "execution_count": 15,
   "id": "20fe3308-8517-4070-8e58-d10290a9a626",
   "metadata": {
    "tags": []
   },
   "outputs": [],
   "source": [
    "#|export\n",
    "class CancelFitException(Exception): pass\n",
    "class CancelBatchException(Exception): pass\n",
    "class CancelEpochException(Exception): pass"
   ]
  },
  {
   "cell_type": "code",
   "execution_count": 16,
   "id": "07e94040-a939-4673-8433-4a5f32689c2f",
   "metadata": {
    "tags": []
   },
   "outputs": [],
   "source": [
    "class CompletionCB(Callback):\n",
    "    def before_fit(self, learn): self.count = 0\n",
    "    def after_batch(self, learn): self.count += 1    \n",
    "    def after_fit(self, learn): print(f'Completed {self.count} batches')"
   ]
  },
  {
   "cell_type": "code",
   "execution_count": 17,
   "id": "baedf729-0de0-46fe-86f3-811734527425",
   "metadata": {
    "tags": []
   },
   "outputs": [],
   "source": [
    "cbs = [CompletionCB()]"
   ]
  },
  {
   "cell_type": "code",
   "execution_count": 18,
   "id": "a08e8ccd-7feb-44f3-93d9-f119d7c034b8",
   "metadata": {
    "tags": []
   },
   "outputs": [
    {
     "name": "stdout",
     "output_type": "stream",
     "text": [
      "Completed 2 batches\n"
     ]
    }
   ],
   "source": [
    "run_cbs(cbs, 'before_fit')\n",
    "run_cbs(cbs, 'after_batch')\n",
    "run_cbs(cbs, 'after_batch')\n",
    "run_cbs(cbs, 'after_fit')"
   ]
  },
  {
   "cell_type": "code",
   "execution_count": 19,
   "id": "35c218d7-0d57-4229-a5dd-06a3148c2a8e",
   "metadata": {
    "tags": []
   },
   "outputs": [],
   "source": [
    "class Learner():\n",
    "    def __init__(self, model, dls, loss_func, lr, cbs, opt_func=optim.SGD):\n",
    "        fc.store_attr()\n",
    "        \n",
    "    def fit(self, n_epochs):\n",
    "        self.n_epochs = n_epochs\n",
    "        self.epochs = range(n_epochs)\n",
    "        self.opt = self.opt_func(self.model.parameters(), self.lr)\n",
    "        try:\n",
    "            self.callback('before_fit')\n",
    "            for self.epoch in tqdm(self.epochs):\n",
    "                self.one_epoch(train=True)\n",
    "                self.one_epoch(train=False)\n",
    "            self.callback('after_fit')\n",
    "        except CancelFitException: pass\n",
    "    \n",
    "    def one_epoch(self, train=False):\n",
    "        self.model.train(train)\n",
    "        self.dl = self.dls.train if train else self.dls.valid\n",
    "        try:\n",
    "            self.callback('before_epoch')\n",
    "            for self.iter, self.batch in enumerate(self.dl):\n",
    "                try:\n",
    "                    self.callback('before_batch')\n",
    "                    self.one_batch()\n",
    "                    self.callback('after_batch')\n",
    "                except CancelBatchException: pass\n",
    "            self.callback('after_epoch')\n",
    "        except CancelEpochException: pass\n",
    "    \n",
    "    def one_batch(self):\n",
    "        self.xb, self.yb = self.batch\n",
    "        self.preds = self.model(self.xb) \n",
    "        self.loss = self.loss_func(self.preds, self.yb)\n",
    "        if self.model.training:\n",
    "            self.loss.backward()\n",
    "            self.opt.step()\n",
    "            self.opt.zero_grad()\n",
    "    \n",
    "    def callback(self, method_name): \n",
    "        run_cbs(self.cbs, method_name, self)"
   ]
  },
  {
   "cell_type": "code",
   "execution_count": 24,
   "id": "30b433c3-846a-4776-a038-5b208bcfc652",
   "metadata": {
    "tags": []
   },
   "outputs": [],
   "source": [
    "m,nh = 28*28,50\n",
    "def get_model(): return nn.Sequential(nn.Linear(m,nh), nn.ReLU(), nn.Linear(nh,10))"
   ]
  },
  {
   "cell_type": "code",
   "execution_count": 25,
   "id": "58e5cc78-8ea9-499c-98c8-09f1e4e16775",
   "metadata": {
    "tags": []
   },
   "outputs": [
    {
     "name": "stdout",
     "output_type": "stream",
     "text": [
      "Completed 128 batches\n"
     ]
    }
   ],
   "source": [
    "learner = Learner(get_model(), dls, F.cross_entropy, lr=0.2, cbs=[CompletionCB()])\n",
    "learner.fit(1)"
   ]
  },
  {
   "cell_type": "code",
   "execution_count": 26,
   "id": "d08ac3bc-9eba-44f1-bd3c-2183d445cae7",
   "metadata": {
    "tags": []
   },
   "outputs": [],
   "source": [
    "class Metric:\n",
    "    def __init__(self): self.reset()\n",
    "    def reset(self): self.vals, self.ns = [], []\n",
    "    def add(self, inp, targ=None, n=1):\n",
    "        self.last = self.calc(inp, targ)\n",
    "        self.vals.append(self.last)\n",
    "        self.ns.append(n)\n",
    "        \n",
    "    @property\n",
    "    def value(self):\n",
    "        ns = tensor(self.ns)\n",
    "        return (tensor(self.vals)*ns).sum()/ns.sum()\n",
    "    \n",
    "    def calc(self, inps, targs): return inps"
   ]
  },
  {
   "cell_type": "code",
   "execution_count": 27,
   "id": "c2fe0b49-1c7d-4967-9670-eaa9be8faa0d",
   "metadata": {
    "tags": []
   },
   "outputs": [],
   "source": [
    "class Accuracy(Metric):\n",
    "    def calc(self, inps, targs): return (inps == targs).float().mean()"
   ]
  },
  {
   "cell_type": "code",
   "execution_count": 28,
   "id": "77646480-388b-4bde-9f55-67be63b278e4",
   "metadata": {
    "tags": []
   },
   "outputs": [
    {
     "data": {
      "text/plain": [
       "tensor(0.45)"
      ]
     },
     "execution_count": 28,
     "metadata": {},
     "output_type": "execute_result"
    }
   ],
   "source": [
    "acc = Accuracy()\n",
    "acc.add(tensor([0, 1, 2, 0, 1, 2]), tensor([0, 1, 1, 2, 1, 0]))\n",
    "acc.add(tensor([1, 1, 2, 0, 1]), tensor([0, 1, 1, 2, 1]))\n",
    "acc.value"
   ]
  },
  {
   "cell_type": "code",
   "execution_count": 29,
   "id": "f6cbd3ee-ab03-484f-85d8-ca7f0c26c4dd",
   "metadata": {
    "tags": []
   },
   "outputs": [
    {
     "data": {
      "text/plain": [
       "(tensor(0.62), 0.62)"
      ]
     },
     "execution_count": 29,
     "metadata": {},
     "output_type": "execute_result"
    }
   ],
   "source": [
    "loss = Metric()\n",
    "loss.add(0.6, n=32)\n",
    "loss.add(0.9, n=2)\n",
    "loss.value, round((0.6*32 + 0.9*2)/(32+2), 2)"
   ]
  },
  {
   "cell_type": "markdown",
   "id": "dd159868-9ccd-4b38-bd4e-0bc3f5dce895",
   "metadata": {},
   "source": [
    "### torcheval metrics\n",
    "\n",
    "It turns out pytorch already has plenty metrics implemented in the package `torcheval`"
   ]
  },
  {
   "cell_type": "code",
   "execution_count": 30,
   "id": "6afae2dc-e08b-49c8-959d-d3d705d4e4e8",
   "metadata": {
    "tags": []
   },
   "outputs": [],
   "source": [
    "#|export\n",
    "from torcheval.metrics import MulticlassAccuracy, Mean"
   ]
  },
  {
   "cell_type": "code",
   "execution_count": 31,
   "id": "ece3addc-5340-4d99-b490-f6760c67396b",
   "metadata": {
    "tags": []
   },
   "outputs": [
    {
     "data": {
      "text/plain": [
       "tensor(0.50)"
      ]
     },
     "execution_count": 31,
     "metadata": {},
     "output_type": "execute_result"
    }
   ],
   "source": [
    "metric = MulticlassAccuracy()\n",
    "metric.update(tensor([0, 2, 1, 3]), tensor([0, 1, 2, 3]))\n",
    "metric.compute()"
   ]
  },
  {
   "cell_type": "code",
   "execution_count": 32,
   "id": "0cc60c42-4493-4cb2-a77b-3f3a2ca35197",
   "metadata": {
    "tags": []
   },
   "outputs": [
    {
     "data": {
      "text/plain": [
       "tensor(nan)"
      ]
     },
     "execution_count": 32,
     "metadata": {},
     "output_type": "execute_result"
    }
   ],
   "source": [
    "metric.reset()\n",
    "metric.compute()"
   ]
  },
  {
   "cell_type": "markdown",
   "id": "7039901a-9575-40ad-93bd-19605f4d9ec8",
   "metadata": {},
   "source": [
    "# Let's do some callbacks"
   ]
  },
  {
   "cell_type": "code",
   "execution_count": 33,
   "id": "ed90aa86-c33d-4d9e-a762-0297592a3c95",
   "metadata": {
    "tags": []
   },
   "outputs": [],
   "source": [
    "#| export\n",
    "def to_cpu(x):\n",
    "    if isinstance(x, Mapping): return {k: to_cpu(v) for k, v in x.items()}\n",
    "    if isinstance(x, list): return [to_cpu(o) for o in x]\n",
    "    if isinstance(x, tuple): return tuple(to_cpu(list(x)))\n",
    "    return x.detach().cpu()"
   ]
  },
  {
   "cell_type": "code",
   "execution_count": 34,
   "id": "71533224-b7d5-4949-a915-cd0f95598ae1",
   "metadata": {
    "tags": []
   },
   "outputs": [],
   "source": [
    "#|export\n",
    "class M(dict):\n",
    "    def __init__(self, d, epoch, train=True): \n",
    "        super().__init__(d)\n",
    "        self.train = train\n",
    "        self.epoch = epoch\n",
    "\n",
    "class Recorder(list):\n",
    "    def __init__(self, *items): super().__init__(items)\n",
    "    def add(self, d, epoch, train): self.append(M(d, epoch, train))\n",
    "    def get_latest(self):\n",
    "        latest = dict(self[-1].items())\n",
    "        latest['epoch'] = self[-1].epoch\n",
    "        latest['train'] = self[-1].train   \n",
    "        return latest\n",
    "\n",
    "    def log_latest(self): print(self.get_latest())\n",
    "        \n",
    "    \n",
    "class MetricsCB(Callback):\n",
    "    def __init__(self, *ms, **metrics):\n",
    "        for o in ms: metrics[type(o).__name__] = o\n",
    "        self.recorder = Recorder()\n",
    "        self.metrics = metrics\n",
    "        self.all_metrics = copy(metrics)\n",
    "        self.all_metrics['loss'] = self.loss = Mean()\n",
    "        \n",
    "    def before_fit(self, learn): \n",
    "        learn.metrics = self\n",
    "        learn.recorder = self.recorder\n",
    "        \n",
    "    def before_epoch(self, learn): [o.reset() for o in self.all_metrics.values()]\n",
    "    \n",
    "    def after_epoch(self, learn):\n",
    "        train = 'train' if learn.model.training else 'valid'\n",
    "        self.recorder.add({k: v.compute().item() for k, v in self.all_metrics.items()}, \n",
    "                          learn.epoch, train)\n",
    "        self._log(self.recorder)\n",
    "    \n",
    "    def _log(self, recorder): recorder.log_latest()\n",
    "    \n",
    "    def after_batch(self, learn):\n",
    "        with torch.no_grad():\n",
    "            x, y, *_ = to_cpu(learn.batch)\n",
    "            for m in self.metrics.values(): m.update(to_cpu(learn.preds), y)\n",
    "            self.loss.update(to_cpu(learn.loss), weight=len(x))"
   ]
  },
  {
   "cell_type": "code",
   "execution_count": 35,
   "id": "e8f15b73-2152-4648-98b6-4a6019184dfa",
   "metadata": {
    "tags": []
   },
   "outputs": [],
   "source": [
    "#|export\n",
    "class DeviceCB(Callback):\n",
    "    def __init__(self, device=device): self.device = device\n",
    "    def before_fit(self, learn):\n",
    "        if hasattr(learn.model, 'to'): learn.model.to(self.device)\n",
    "    def before_batch(self, learn): learn.batch = to_device(learn.batch, device=self.device)"
   ]
  },
  {
   "cell_type": "code",
   "execution_count": 36,
   "id": "0c4b3245-5943-4c6a-a9d6-c0fef0c5b767",
   "metadata": {
    "tags": []
   },
   "outputs": [],
   "source": [
    "model = get_model()\n",
    "metrics = MetricsCB(accuracy=MulticlassAccuracy())"
   ]
  },
  {
   "cell_type": "code",
   "execution_count": 37,
   "id": "5c8487a8-f254-4578-b638-52ddfe4e4067",
   "metadata": {
    "tags": []
   },
   "outputs": [
    {
     "name": "stdout",
     "output_type": "stream",
     "text": [
      "{'accuracy': 0.6734333038330078, 'loss': 0.959237571589152, 'epoch': 0, 'train': 'train'}\n",
      "{'accuracy': 0.7669000029563904, 'loss': 0.6791132232666016, 'epoch': 0, 'train': 'valid'}\n"
     ]
    }
   ],
   "source": [
    "learn = Learner(model, dls, F.cross_entropy, lr=0.2, cbs=[DeviceCB(), metrics])\n",
    "learn.fit(1)"
   ]
  },
  {
   "cell_type": "markdown",
   "id": "6f0ad7b0-489d-4677-ad82-adab3a89508e",
   "metadata": {},
   "source": [
    "# Even more flexible Learner"
   ]
  },
  {
   "cell_type": "code",
   "execution_count": 38,
   "id": "10bf0eb3-4448-47e3-bc0b-ab8d09f543de",
   "metadata": {
    "tags": []
   },
   "outputs": [],
   "source": [
    "#| export\n",
    "class with_cbs:\n",
    "    def __init__(self, name): self.name = name\n",
    "    def __call__(self, f):\n",
    "        def _f(o, *args, **kwargs):\n",
    "            try:\n",
    "                o._callback(f'before_{self.name}')\n",
    "                f(o, *args, **kwargs)\n",
    "                o._callback(f'after_{self.name}')\n",
    "            except globals()[f'Cancel{self.name.title()}Exception']: pass\n",
    "            finally: o._callback(f'cleanup_{self.name}')\n",
    "        return _f\n",
    "\n",
    "class Learner():\n",
    "    def __init__(self, model, dls=(0,), loss_func=F.mse_loss, lr=0.1, cbs=None, opt_func=optim.SGD):\n",
    "        self.model = model\n",
    "        self.dls = dls\n",
    "        self.loss_func=loss_func\n",
    "        self.lr=lr\n",
    "        self.cbs = fc.L(cbs)\n",
    "        self.opt_func = opt_func\n",
    "\n",
    "    def fit(self, n_epochs=1, train=True, valid=True, lr=None, cbs=None):\n",
    "        cbs = fc.L(cbs)\n",
    "        for cb in cbs: self.cbs.append(cb) # add extra cbs\n",
    "        try:\n",
    "            self.n_epochs = n_epochs            \n",
    "            self.epochs = range(n_epochs)\n",
    "            self.model.train(train) # Set model training before any callbacks are called\n",
    "            self.opt = self.opt_func(self.model.parameters(), self.lr if lr is None else lr)\n",
    "            self._fit(train, valid)\n",
    "        finally:\n",
    "            for cb in cbs: self.cbs.remove(cb) # cleanup extra cbs\n",
    "\n",
    "    @with_cbs('fit')\n",
    "    def _fit(self, train, valid):\n",
    "        for self.epoch in self.epochs:\n",
    "            if train: \n",
    "                self.one_epoch(True)\n",
    "            if valid:\n",
    "                with torch.no_grad():\n",
    "                    self.one_epoch(False)\n",
    "   \n",
    "    def one_epoch(self, train):\n",
    "        self.model.train(train) \n",
    "        self.dl = self.dls.train if train else self.dls.valid  \n",
    "        self.dl_len = len(self.dl)\n",
    "        self._one_epoch(train)\n",
    "\n",
    "    @with_cbs('epoch')\n",
    "    def _one_epoch(self, train):\n",
    "        for self.iter, self.batch in enumerate(self.dl):\n",
    "            self.one_batch()\n",
    "            \n",
    "    @with_cbs('batch')    \n",
    "    def one_batch(self):\n",
    "        self.predict()\n",
    "        self.get_loss()\n",
    "        if self.model.training:\n",
    "            self.backward()\n",
    "            self.step()\n",
    "            self.zero_grad()  \n",
    "\n",
    "    # these are defined here to allow subclassing to customize behavior\n",
    "    def predict(self): self.preds = self.model(self.batch[0])\n",
    "    def get_loss(self): \n",
    "        self.loss = self.loss_func(self.preds, self.batch[1])\n",
    "    def backward(self): self.loss.backward()\n",
    "    def step(self): self.opt.step()\n",
    "    def zero_grad(self): self.opt.zero_grad()\n",
    "\n",
    "    def _callback(self, method_name): run_cbs(self.cbs, method_name, self)\n",
    "    \n",
    "    @property\n",
    "    def training(self):\n",
    "        return self.model.training"
   ]
  },
  {
   "cell_type": "code",
   "execution_count": 39,
   "id": "41c62b2d-6eff-4166-9536-b7ac1fddccb6",
   "metadata": {
    "tags": []
   },
   "outputs": [
    {
     "name": "stdout",
     "output_type": "stream",
     "text": [
      "{'accuracy': 0.6819499731063843, 'loss': 0.9365822050730387, 'epoch': 0, 'train': 'train'}\n",
      "{'accuracy': 0.6686999797821045, 'loss': 0.8623991821289062, 'epoch': 0, 'train': 'valid'}\n"
     ]
    }
   ],
   "source": [
    "model = get_model()\n",
    "metrics = MetricsCB(accuracy=MulticlassAccuracy())\n",
    "cbs = [DeviceCB(), metrics]\n",
    "learn = Learner(model, dls, F.cross_entropy, lr=0.2, cbs=cbs)\n",
    "learn.fit(1)"
   ]
  },
  {
   "cell_type": "code",
   "execution_count": 40,
   "id": "9c981f06-38d6-4c48-bb55-5b0ef2563223",
   "metadata": {
    "tags": []
   },
   "outputs": [],
   "source": [
    "#|export\n",
    "class ProgressCB(Callback):\n",
    "    order = MetricsCB.order + 1\n",
    "    def __init__(self, plot=False): self.plot = plot\n",
    "    def before_fit(self, learn):\n",
    "        self.first = True\n",
    "        learn.epochs = self.mbar = master_bar(learn.epochs)\n",
    "        if hasattr(learn, 'metrics'): learn.metrics._log = self._log\n",
    "        self.losses = []\n",
    "        \n",
    "    def _format_metric(self, m):\n",
    "        if isinstance(m, float): return f'{m:.3f}'\n",
    "        return m\n",
    "        \n",
    "    def _log(self, recorder):\n",
    "        d = recorder.get_latest()\n",
    "        if self.first:\n",
    "            self.mbar.write(list(d), table=True)\n",
    "            self.first=False\n",
    "        self.mbar.write(list(self._format_metric(x) for x in d.values()), table=True)\n",
    "        \n",
    "    def before_epoch(self, learn): \n",
    "        learn.dl = progress_bar(learn.dl, leave=False, parent=self.mbar)\n",
    "        \n",
    "    def after_batch(self, learn):\n",
    "        learn.dl.comment = f\"{learn.loss:.3f}\"\n",
    "        if self.plot and hasattr(learn, 'metrics') and learn.model.training:\n",
    "            self.losses.append(learn.loss.item())\n",
    "            self.mbar.update_graph([[fc.L.range(self.losses), self.losses]])"
   ]
  },
  {
   "cell_type": "code",
   "execution_count": 37,
   "id": "cc6feda5-1f37-41fa-8064-76def0e5b801",
   "metadata": {
    "tags": []
   },
   "outputs": [
    {
     "data": {
      "text/html": [
       "\n",
       "<style>\n",
       "    /* Turns off some styling */\n",
       "    progress {\n",
       "        /* gets rid of default border in Firefox and Opera. */\n",
       "        border: none;\n",
       "        /* Needs to be in here for Safari polyfill so background images work as expected. */\n",
       "        background-size: auto;\n",
       "    }\n",
       "    progress:not([value]), progress:not([value])::-webkit-progress-bar {\n",
       "        background: repeating-linear-gradient(45deg, #7e7e7e, #7e7e7e 10px, #5c5c5c 10px, #5c5c5c 20px);\n",
       "    }\n",
       "    .progress-bar-interrupted, .progress-bar-interrupted::-webkit-progress-bar {\n",
       "        background: #F44336;\n",
       "    }\n",
       "</style>\n"
      ],
      "text/plain": [
       "<IPython.core.display.HTML object>"
      ]
     },
     "metadata": {},
     "output_type": "display_data"
    },
    {
     "data": {
      "text/html": [
       "<table border=\"1\" class=\"dataframe\">\n",
       "  <thead>\n",
       "    <tr style=\"text-align: left;\">\n",
       "      <th>accuracy</th>\n",
       "      <th>loss</th>\n",
       "      <th>epoch</th>\n",
       "      <th>train</th>\n",
       "    </tr>\n",
       "  </thead>\n",
       "  <tbody>\n",
       "    <tr>\n",
       "      <td>0.664</td>\n",
       "      <td>0.962</td>\n",
       "      <td>0</td>\n",
       "      <td>train</td>\n",
       "    </tr>\n",
       "    <tr>\n",
       "      <td>0.776</td>\n",
       "      <td>0.656</td>\n",
       "      <td>0</td>\n",
       "      <td>valid</td>\n",
       "    </tr>\n",
       "    <tr>\n",
       "      <td>0.788</td>\n",
       "      <td>0.599</td>\n",
       "      <td>1</td>\n",
       "      <td>train</td>\n",
       "    </tr>\n",
       "    <tr>\n",
       "      <td>0.765</td>\n",
       "      <td>0.619</td>\n",
       "      <td>1</td>\n",
       "      <td>valid</td>\n",
       "    </tr>\n",
       "    <tr>\n",
       "      <td>0.815</td>\n",
       "      <td>0.526</td>\n",
       "      <td>2</td>\n",
       "      <td>train</td>\n",
       "    </tr>\n",
       "    <tr>\n",
       "      <td>0.773</td>\n",
       "      <td>0.597</td>\n",
       "      <td>2</td>\n",
       "      <td>valid</td>\n",
       "    </tr>\n",
       "  </tbody>\n",
       "</table>"
      ],
      "text/plain": [
       "<IPython.core.display.HTML object>"
      ]
     },
     "metadata": {},
     "output_type": "display_data"
    },
    {
     "data": {
      "image/png": "[encoded data removed]",
      "text/plain": [
       "<Figure size 600x400 with 1 Axes>"
      ]
     },
     "metadata": {},
     "output_type": "display_data"
    }
   ],
   "source": [
    "model = get_model()\n",
    "metrics = MetricsCB(accuracy=MulticlassAccuracy())\n",
    "cbs = [DeviceCB(), metrics, ProgressCB(plot=True)]\n",
    "learn = Learner(model, dls, F.cross_entropy, lr=0.2, cbs=cbs)\n",
    "learn.fit(3)"
   ]
  },
  {
   "cell_type": "code",
   "execution_count": 41,
   "id": "a8955d0c-b23a-423e-86e7-6f268739bd42",
   "metadata": {
    "tags": []
   },
   "outputs": [],
   "source": [
    "#|export \n",
    "from torch.utils.tensorboard import SummaryWriter\n",
    "\n",
    "class TensorboardCB(Callback):\n",
    "    order = MetricsCB.order + 1    \n",
    "    def __init__(self, name=None): self.writer = SummaryWriter(comment=f'_{name}')\n",
    "\n",
    "    def after_batch(self, learner: Learner):        \n",
    "        # Log loss\n",
    "        train = 'train' if learn.model.training else 'valid'\n",
    "        idx = learn.dl_len*learn.epoch + learn.iter\n",
    "        self.writer.add_scalar(f'loss/{train}', learn.loss.item(), idx)     \n",
    "        self.writer.flush()\n",
    "\n",
    "    def after_epoch(self, learn: Learner):\n",
    "        if hasattr(learn, 'recorder'):\n",
    "            # Log all other metrics after each epoch\n",
    "            d = learn.recorder[-1]\n",
    "            for k, v in d.items():\n",
    "                if k == 'loss': continue\n",
    "                self.writer.add_scalar(f'{k}/{d.train}', v, d.epoch)    \n",
    "            self.writer.flush()\n",
    "            \n",
    "    def after_fit(self, learner: Learner): self.writer.close()"
   ]
  },
  {
   "cell_type": "code",
   "execution_count": 43,
   "id": "17232fa2-950b-4188-a31e-9b6348a303d1",
   "metadata": {
    "tags": []
   },
   "outputs": [],
   "source": [
    "#|export\n",
    "import wandb\n",
    "from pathlib import Path\n",
    "\n",
    "class BaseConfig: pass # We define full configs in 11_initializing\n",
    "\n",
    "class WandBCB(Callback):\n",
    "    order = MetricsCB.order + 1\n",
    "    def __init__(self, config: BaseConfig): \n",
    "        self.config = config\n",
    "        \n",
    "    def before_fit(self, learn: Learner): wandb.init(project=self.config.project, config=self.config)        \n",
    "    def after_fit(self, learn: Learner): \n",
    "        if self.config.save:\n",
    "            model_path = Path(self.config.model_path + '/' + wandb.run.project)\n",
    "            model_path.mkdir(exist_ok=True, parents=True)\n",
    "            torch.save(learn.model, model_path/ f\"{wandb.run.name}.pkl\")\n",
    "            print(f\"Saved model to {model_path/wandb.run.name}\")\n",
    "            wandb.finish()        \n",
    "\n",
    "    def after_batch(self, learn: Learner):\n",
    "        # Log loss\n",
    "        step = learn.dl_len*learn.epoch + learn.iter\n",
    "        train = 'train' if learn.model.training else 'valid'\n",
    "        wandb.log({f'{train}/loss': learn.loss.item()}, step)\n",
    "    \n",
    "    def after_epoch(self, learn: Learner):\n",
    "        if not hasattr(learn, 'recorder'): return # skip if we don't have metrics to log\n",
    "        # Log all metrics\n",
    "        latest = learn.recorder[-1]\n",
    "        step = learn.dl_len*learn.epoch + learn.iter        \n",
    "        wandb.log({f'{latest.train}/{k}': v for k, v in latest.items()}, step)    \n"
   ]
  },
  {
   "cell_type": "code",
   "execution_count": 35,
   "id": "b9c78620-5693-49c0-865f-1be7578e1366",
   "metadata": {
    "tags": []
   },
   "outputs": [],
   "source": [
    "class LogEpochCB(Callback):\n",
    "    def before_epoch(self, learn): print(f'Epoch {learn.epoch}/{learn.n_epochs}')\n",
    "\n",
    "class FailCB(Callback):\n",
    "    def before_epoch(self, learn): \n",
    "        if learn.epoch == 1:\n",
    "            print(f\"Cancelling at epoch {learn.epoch}\")\n",
    "            raise CancelFitException(\"oops\")"
   ]
  },
  {
   "cell_type": "code",
   "execution_count": 65,
   "id": "cda9be0d-16f3-45c3-be2a-b5cbb3453189",
   "metadata": {
    "tags": []
   },
   "outputs": [
    {
     "name": "stdout",
     "output_type": "stream",
     "text": [
      "Epoch 0/3\n",
      "Epoch 0/3\n",
      "Epoch 1/3\n",
      "Cancelling at epoch 1\n"
     ]
    }
   ],
   "source": [
    "model = get_model()\n",
    "learn = Learner(model, dls, F.cross_entropy, lr=0.2, cbs=[LogEpochCB(), FailCB()])\n",
    "learn.fit(3)"
   ]
  },
  {
   "cell_type": "markdown",
   "id": "0a2b4a86-6dd9-46f8-8bc3-7b675c096747",
   "metadata": {},
   "source": [
    "## Momentum Learner"
   ]
  },
  {
   "cell_type": "code",
   "execution_count": 36,
   "id": "3c3beb0e-4251-4cf5-b8d9-7446fd8dfb79",
   "metadata": {
    "tags": []
   },
   "outputs": [],
   "source": [
    "#|export\n",
    "class MomentumLearner(Learner):\n",
    "    def __init__(self, model, dls, loss_func, lr=None, cbs=None, opt_func=optim.SGD, mom=0.85):\n",
    "        self.mom = mom\n",
    "        super().__init__(model, dls, loss_func, lr, cbs, opt_func)\n",
    "    \n",
    "    def zero_grad(self):\n",
    "        with torch.no_grad():\n",
    "            for p in self.model.parameters():\n",
    "                # Instead of zeroing out the gradients, we just keep a residue\n",
    "                p.grad *= self.mom "
   ]
  },
  {
   "cell_type": "code",
   "execution_count": 71,
   "id": "a8f0d5f6-b311-4555-b1cf-1a109cfaee88",
   "metadata": {
    "tags": []
   },
   "outputs": [
    {
     "data": {
      "text/html": [
       "Tracking run with wandb version 0.14.0"
      ],
      "text/plain": [
       "<IPython.core.display.HTML object>"
      ]
     },
     "metadata": {},
     "output_type": "display_data"
    },
    {
     "data": {
      "text/html": [
       "Run data is saved locally in <code>/home/leourbina/code/fastai2022p2/nbs/clean/wandb/run-20230328_235724-lkvuooyb</code>"
      ],
      "text/plain": [
       "<IPython.core.display.HTML object>"
      ]
     },
     "metadata": {},
     "output_type": "display_data"
    },
    {
     "data": {
      "text/html": [
       "Syncing run <strong><a href='https://wandb.ai/leourbina/fastai/runs/lkvuooyb' target=\"_blank\">azure-paper-22</a></strong> to <a href='https://wandb.ai/leourbina/fastai' target=\"_blank\">Weights & Biases</a> (<a href='https://wandb.me/run' target=\"_blank\">docs</a>)<br/>"
      ],
      "text/plain": [
       "<IPython.core.display.HTML object>"
      ]
     },
     "metadata": {},
     "output_type": "display_data"
    },
    {
     "data": {
      "text/html": [
       " View project at <a href='https://wandb.ai/leourbina/fastai' target=\"_blank\">https://wandb.ai/leourbina/fastai</a>"
      ],
      "text/plain": [
       "<IPython.core.display.HTML object>"
      ]
     },
     "metadata": {},
     "output_type": "display_data"
    },
    {
     "data": {
      "text/html": [
       " View run at <a href='https://wandb.ai/leourbina/fastai/runs/lkvuooyb' target=\"_blank\">https://wandb.ai/leourbina/fastai/runs/lkvuooyb</a>"
      ],
      "text/plain": [
       "<IPython.core.display.HTML object>"
      ]
     },
     "metadata": {},
     "output_type": "display_data"
    },
    {
     "data": {
      "text/html": [
       "\n",
       "<style>\n",
       "    /* Turns off some styling */\n",
       "    progress {\n",
       "        /* gets rid of default border in Firefox and Opera. */\n",
       "        border: none;\n",
       "        /* Needs to be in here for Safari polyfill so background images work as expected. */\n",
       "        background-size: auto;\n",
       "    }\n",
       "    progress:not([value]), progress:not([value])::-webkit-progress-bar {\n",
       "        background: repeating-linear-gradient(45deg, #7e7e7e, #7e7e7e 10px, #5c5c5c 10px, #5c5c5c 20px);\n",
       "    }\n",
       "    .progress-bar-interrupted, .progress-bar-interrupted::-webkit-progress-bar {\n",
       "        background: #F44336;\n",
       "    }\n",
       "</style>\n"
      ],
      "text/plain": [
       "<IPython.core.display.HTML object>"
      ]
     },
     "metadata": {},
     "output_type": "display_data"
    },
    {
     "data": {
      "text/html": [
       "<table border=\"1\" class=\"dataframe\">\n",
       "  <thead>\n",
       "    <tr style=\"text-align: left;\">\n",
       "      <th>accuracy</th>\n",
       "      <th>loss</th>\n",
       "      <th>epoch</th>\n",
       "      <th>train</th>\n",
       "    </tr>\n",
       "  </thead>\n",
       "  <tbody>\n",
       "    <tr>\n",
       "      <td>0.722</td>\n",
       "      <td>0.794</td>\n",
       "      <td>0</td>\n",
       "      <td>train</td>\n",
       "    </tr>\n",
       "    <tr>\n",
       "      <td>0.799</td>\n",
       "      <td>0.580</td>\n",
       "      <td>0</td>\n",
       "      <td>valid</td>\n",
       "    </tr>\n",
       "  </tbody>\n",
       "</table>"
      ],
      "text/plain": [
       "<IPython.core.display.HTML object>"
      ]
     },
     "metadata": {},
     "output_type": "display_data"
    },
    {
     "data": {
      "image/png": "[encoded data removed]",
      "text/plain": [
       "<Figure size 600x400 with 1 Axes>"
      ]
     },
     "metadata": {},
     "output_type": "display_data"
    },
    {
     "name": "stdout",
     "output_type": "stream",
     "text": [
      "Saved model to models/fastai/azure-paper-22\n"
     ]
    },
    {
     "data": {
      "text/html": [
       "Waiting for W&B process to finish... <strong style=\"color:green\">(success).</strong>"
      ],
      "text/plain": [
       "<IPython.core.display.HTML object>"
      ]
     },
     "metadata": {},
     "output_type": "display_data"
    },
    {
     "data": {
      "text/html": [
       "<style>\n",
       "    table.wandb td:nth-child(1) { padding: 0 10px; text-align: left ; width: auto;} td:nth-child(2) {text-align: left ; width: 100%}\n",
       "    .wandb-row { display: flex; flex-direction: row; flex-wrap: wrap; justify-content: flex-start; width: 100% }\n",
       "    .wandb-col { display: flex; flex-direction: column; flex-basis: 100%; flex: 1; padding: 10px; }\n",
       "    </style>\n",
       "<div class=\"wandb-row\"><div class=\"wandb-col\"><h3>Run history:</h3><br/><table class=\"wandb\"><tr><td>train/accuracy</td><td>▁</td></tr><tr><td>train/loss</td><td>█▇▆▅▄▃▃▃▂▂▂▂▂▂▂▂▂▂▂▂▂▂▁▂▂▂▁▁▁▁▁▁▁▁▁▁▁▂▁▂</td></tr><tr><td>valid/accuracy</td><td>▁</td></tr><tr><td>valid/loss</td><td>▁▁▄█▂▆▅▃▃▁▄</td></tr></table><br/></div><div class=\"wandb-col\"><h3>Run summary:</h3><br/><table class=\"wandb\"><tr><td>train/accuracy</td><td>0.72242</td></tr><tr><td>train/loss</td><td>0.79353</td></tr><tr><td>valid/accuracy</td><td>0.7992</td></tr><tr><td>valid/loss</td><td>0.57993</td></tr></table><br/></div></div>"
      ],
      "text/plain": [
       "<IPython.core.display.HTML object>"
      ]
     },
     "metadata": {},
     "output_type": "display_data"
    },
    {
     "data": {
      "text/html": [
       " View run <strong style=\"color:#cdcd00\">azure-paper-22</strong> at: <a href='https://wandb.ai/leourbina/fastai/runs/lkvuooyb' target=\"_blank\">https://wandb.ai/leourbina/fastai/runs/lkvuooyb</a><br/>Synced 6 W&B file(s), 0 media file(s), 0 artifact file(s) and 0 other file(s)"
      ],
      "text/plain": [
       "<IPython.core.display.HTML object>"
      ]
     },
     "metadata": {},
     "output_type": "display_data"
    },
    {
     "data": {
      "text/html": [
       "Find logs at: <code>./wandb/run-20230328_235724-lkvuooyb/logs</code>"
      ],
      "text/plain": [
       "<IPython.core.display.HTML object>"
      ]
     },
     "metadata": {},
     "output_type": "display_data"
    }
   ],
   "source": [
    "config = Config(arch='fully connected', ds='fashion_mnist', lr=1e-1, mom=0.75, save=True, epochs=1)\n",
    "\n",
    "metrics = MetricsCB(accuracy=MulticlassAccuracy())\n",
    "cbs = [DeviceCB(), metrics, WandBCB(project='fastai', config=config), ProgressCB(plot=True)]\n",
    "learn = MomentumLearner(get_model(), dls, F.cross_entropy, lr=config.lr, cbs=cbs, mom=config.mom)\n",
    "learn.fit(config.epochs)"
   ]
  },
  {
   "cell_type": "code",
   "execution_count": 120,
   "id": "c394c43a-232b-44b9-a4c9-0708074c825d",
   "metadata": {
    "tags": []
   },
   "outputs": [
    {
     "data": {
      "text/html": [
       "\n",
       "<style>\n",
       "    /* Turns off some styling */\n",
       "    progress {\n",
       "        /* gets rid of default border in Firefox and Opera. */\n",
       "        border: none;\n",
       "        /* Needs to be in here for Safari polyfill so background images work as expected. */\n",
       "        background-size: auto;\n",
       "    }\n",
       "    progress:not([value]), progress:not([value])::-webkit-progress-bar {\n",
       "        background: repeating-linear-gradient(45deg, #7e7e7e, #7e7e7e 10px, #5c5c5c 10px, #5c5c5c 20px);\n",
       "    }\n",
       "    .progress-bar-interrupted, .progress-bar-interrupted::-webkit-progress-bar {\n",
       "        background: #F44336;\n",
       "    }\n",
       "</style>\n"
      ],
      "text/plain": [
       "<IPython.core.display.HTML object>"
      ]
     },
     "metadata": {},
     "output_type": "display_data"
    },
    {
     "data": {
      "text/html": [
       "<table border=\"1\" class=\"dataframe\">\n",
       "  <thead>\n",
       "    <tr style=\"text-align: left;\">\n",
       "      <th>accuracy</th>\n",
       "      <th>loss</th>\n",
       "    </tr>\n",
       "  </thead>\n",
       "  <tbody>\n",
       "    <tr>\n",
       "      <td>0.636</td>\n",
       "      <td>1.110</td>\n",
       "    </tr>\n",
       "    <tr>\n",
       "      <td>0.658</td>\n",
       "      <td>0.850</td>\n",
       "    </tr>\n",
       "    <tr>\n",
       "      <td>0.757</td>\n",
       "      <td>0.685</td>\n",
       "    </tr>\n",
       "    <tr>\n",
       "      <td>0.720</td>\n",
       "      <td>0.732</td>\n",
       "    </tr>\n",
       "    <tr>\n",
       "      <td>0.796</td>\n",
       "      <td>0.590</td>\n",
       "    </tr>\n",
       "    <tr>\n",
       "      <td>0.794</td>\n",
       "      <td>0.590</td>\n",
       "    </tr>\n",
       "    <tr>\n",
       "      <td>0.811</td>\n",
       "      <td>0.545</td>\n",
       "    </tr>\n",
       "    <tr>\n",
       "      <td>0.802</td>\n",
       "      <td>0.555</td>\n",
       "    </tr>\n",
       "    <tr>\n",
       "      <td>0.821</td>\n",
       "      <td>0.513</td>\n",
       "    </tr>\n",
       "    <tr>\n",
       "      <td>0.787</td>\n",
       "      <td>0.598</td>\n",
       "    </tr>\n",
       "  </tbody>\n",
       "</table>"
      ],
      "text/plain": [
       "<IPython.core.display.HTML object>"
      ]
     },
     "metadata": {},
     "output_type": "display_data"
    },
    {
     "data": {
      "image/png": "[encoded data removed]",
      "text/plain": [
       "<Figure size 600x400 with 1 Axes>"
      ]
     },
     "metadata": {},
     "output_type": "display_data"
    }
   ],
   "source": [
    "metrics = MetricsCB(accuracy=MulticlassAccuracy())\n",
    "cbs = [DeviceCB(), metrics, ProgressCB(plot=True)]\n",
    "learn = Learner(get_model(), dls, F.cross_entropy, lr=0.1, cbs=cbs)\n",
    "learn.fit(5)"
   ]
  },
  {
   "cell_type": "markdown",
   "id": "fc3d3820-c288-4bd6-80cc-eee86a0c3a1c",
   "metadata": {},
   "source": [
    "## LRFinderCB"
   ]
  },
  {
   "cell_type": "code",
   "execution_count": 133,
   "id": "142bdc3c-1a16-4e6a-a6b6-f2b753367e2a",
   "metadata": {
    "tags": []
   },
   "outputs": [],
   "source": [
    "class LRFinderCB(Callback):\n",
    "    def __init__(self, lr_mult=1.3): fc.store_attr()\n",
    "    \n",
    "    def before_fit(self, learn):\n",
    "        self.lrs, self.losses = [], []\n",
    "        self.min = math.inf\n",
    "        \n",
    "    def after_batch(self, learn):\n",
    "        if not learn.model.training: raise CancelEpochException() # Only find LR during training\n",
    "        self.lrs.append(learn.opt.param_groups[0]['lr'])\n",
    "        loss = to_cpu(learn.loss)\n",
    "        self.losses.append(loss)\n",
    "        if loss < self.min: self.min = loss\n",
    "        if loss > self.min*3: CancelFitException()\n",
    "        for g in learn.opt.param_groups: g['lr'] *= self.lr_mult\n",
    "        "
   ]
  },
  {
   "cell_type": "code",
   "execution_count": 134,
   "id": "01db977a-d6f9-472e-b630-7b1e86373793",
   "metadata": {
    "tags": []
   },
   "outputs": [
    {
     "data": {
      "image/png": "[encoded data removed]",
      "text/plain": [
       "<Figure size 640x480 with 1 Axes>"
      ]
     },
     "metadata": {},
     "output_type": "display_data"
    }
   ],
   "source": [
    "lrfind = LRFinderCB()\n",
    "cbs = [DeviceCB(), lrfind]\n",
    "learn = MomentumLearner(get_model(), dls, F.cross_entropy, lr=1e-5, cbs=cbs)\n",
    "learn.fit(1)\n",
    "plt.plot(lrfind.lrs, lrfind.losses)\n",
    "plt.xscale('log')"
   ]
  },
  {
   "cell_type": "code",
   "execution_count": 135,
   "id": "50863969-6428-4002-8aee-ab0e52b4ee7f",
   "metadata": {
    "tags": []
   },
   "outputs": [],
   "source": [
    "#|export\n",
    "from torch.optim.lr_scheduler import ExponentialLR"
   ]
  },
  {
   "cell_type": "code",
   "execution_count": null,
   "id": "9ba00598-4a38-4017-8f77-1d614923a982",
   "metadata": {
    "tags": []
   },
   "outputs": [],
   "source": [
    "#|export\n",
    "class LRFinderCB(Callback):\n",
    "    def __init__(self, gamma=1.3, max_mult=3, verbose=False): fc.store_attr()\n",
    "    \n",
    "    def before_fit(self, learn):\n",
    "        self.scheduler = ExponentialLR(learn.opt, self.gamma)\n",
    "        self.lrs, self.losses = [], []\n",
    "        self.min = math.inf\n",
    "        \n",
    "    def after_batch(self, learn):        \n",
    "        if not learn.model.training: raise CancelEpochException()\n",
    "        self.lrs.append(learn.opt.param_groups[0]['lr'])\n",
    "        loss = to_cpu(learn.loss)\n",
    "        self.losses.append(loss)\n",
    "        if self.verbose:\n",
    "            print(f\"lr={learn.opt.param_groups[0]['lr']:.2f}\\tloss={loss:.2f}\\tmin_loss={self.min:.2f}\")\n",
    "\n",
    "        if loss < self.min: self.min = loss\n",
    "        if math.isnan(loss) or loss > self.max_mult*self.min: \n",
    "            raise CancelFitException()\n",
    "        self.scheduler.step()\n",
    "        \n",
    "    def cleanup_fit(self, learn):\n",
    "        plt.plot(self.lrs, self.losses)\n",
    "        plt.xscale('log')"
   ]
  },
  {
   "cell_type": "code",
   "execution_count": 140,
   "id": "ed4575c0-50d0-46d3-8f20-4cea724813e8",
   "metadata": {
    "tags": []
   },
   "outputs": [],
   "source": [
    "#|export\n",
    "@fc.patch\n",
    "def lr_find(self: Learner, start_lr=1e-5, gamma=1.3, max_mult=3, max_epochs=10, verbose=False):\n",
    "    self.fit(n_epochs=max_epochs, lr=start_lr, cbs=[DeviceCB(), LRFinderCB(gamma=gamma, max_mult=max_mult, verbose=verbose)])"
   ]
  },
  {
   "cell_type": "code",
   "execution_count": 143,
   "id": "2b1e1480-74a7-4295-a352-0b7104b0620a",
   "metadata": {
    "tags": []
   },
   "outputs": [
    {
     "data": {
      "text/html": [
       "\n",
       "<style>\n",
       "    /* Turns off some styling */\n",
       "    progress {\n",
       "        /* gets rid of default border in Firefox and Opera. */\n",
       "        border: none;\n",
       "        /* Needs to be in here for Safari polyfill so background images work as expected. */\n",
       "        background-size: auto;\n",
       "    }\n",
       "    progress:not([value]), progress:not([value])::-webkit-progress-bar {\n",
       "        background: repeating-linear-gradient(45deg, #7e7e7e, #7e7e7e 10px, #5c5c5c 10px, #5c5c5c 20px);\n",
       "    }\n",
       "    .progress-bar-interrupted, .progress-bar-interrupted::-webkit-progress-bar {\n",
       "        background: #F44336;\n",
       "    }\n",
       "</style>\n"
      ],
      "text/plain": [
       "<IPython.core.display.HTML object>"
      ]
     },
     "metadata": {},
     "output_type": "display_data"
    },
    {
     "data": {
      "text/html": [
       "\n",
       "    <div>\n",
       "      <progress value='0' class='' max='10' style='width:300px; height:20px; vertical-align: middle;'></progress>\n",
       "      \n",
       "    </div>\n",
       "    \n"
      ],
      "text/plain": [
       "<IPython.core.display.HTML object>"
      ]
     },
     "metadata": {},
     "output_type": "display_data"
    },
    {
     "data": {
      "text/html": [
       "\n",
       "<style>\n",
       "    /* Turns off some styling */\n",
       "    progress {\n",
       "        /* gets rid of default border in Firefox and Opera. */\n",
       "        border: none;\n",
       "        /* Needs to be in here for Safari polyfill so background images work as expected. */\n",
       "        background-size: auto;\n",
       "    }\n",
       "    progress:not([value]), progress:not([value])::-webkit-progress-bar {\n",
       "        background: repeating-linear-gradient(45deg, #7e7e7e, #7e7e7e 10px, #5c5c5c 10px, #5c5c5c 20px);\n",
       "    }\n",
       "    .progress-bar-interrupted, .progress-bar-interrupted::-webkit-progress-bar {\n",
       "        background: #F44336;\n",
       "    }\n",
       "</style>\n"
      ],
      "text/plain": [
       "<IPython.core.display.HTML object>"
      ]
     },
     "metadata": {},
     "output_type": "display_data"
    },
    {
     "data": {
      "text/html": [
       "\n",
       "    <div>\n",
       "      <progress value='39' class='' max='59' style='width:300px; height:20px; vertical-align: middle;'></progress>\n",
       "      66.10% [39/59 00:00&lt;00:00 1.996]\n",
       "    </div>\n",
       "    "
      ],
      "text/plain": [
       "<IPython.core.display.HTML object>"
      ]
     },
     "metadata": {},
     "output_type": "display_data"
    },
    {
     "data": {
      "image/png": "[encoded data removed]",
      "text/plain": [
       "<Figure size 640x480 with 1 Axes>"
      ]
     },
     "metadata": {},
     "output_type": "display_data"
    }
   ],
   "source": [
    "torch.manual_seed(10041987)\n",
    "learn = Learner(get_model(), dls, F.cross_entropy, cbs=[DeviceCB(), ProgressCB(plot=True)]).lr_find()"
   ]
  },
  {
   "cell_type": "code",
   "execution_count": null,
   "id": "eb42eeee-f4c1-4046-b8cc-b2279e7c8491",
   "metadata": {},
   "outputs": [],
   "source": [
    "#|export\n",
    "class SingleBatchCB(Callback):\n",
    "    order = 1\n",
    "    def __init__(self, verbose=False): self.verbose = verbose\n",
    "    def after_batch(self, learn: Learner):\n",
    "        if self.verbose: print(f\"Stopping at epoch {learn.epoch_idx}\")\n",
    "        raise CancelFitException"
   ]
  },
  {
   "cell_type": "code",
   "execution_count": 44,
   "id": "e8520c73-e894-462d-bb30-c76e2b20c28b",
   "metadata": {
    "tags": []
   },
   "outputs": [],
   "source": [
    "import nbdev; nbdev.nbdev_export();"
   ]
  },
  {
   "cell_type": "code",
   "execution_count": null,
   "id": "0d444b53-eba4-4349-a13a-260b2ad625c9",
   "metadata": {},
   "outputs": [],
   "source": []
  }
 ],
 "metadata": {
  "kernelspec": {
   "display_name": "Python 3 (ipykernel)",
   "language": "python",
   "name": "python3"
  },
  "language_info": {
   "codemirror_mode": {
    "name": "ipython",
    "version": 3
   },
   "file_extension": ".py",
   "mimetype": "text/x-python",
   "name": "python",
   "nbconvert_exporter": "python",
   "pygments_lexer": "ipython3",
   "version": "3.11.3"
  },
  "widgets": {
   "application/vnd.jupyter.widget-state+json": {
    "state": {},
    "version_major": 2,
    "version_minor": 0
   }
  }
 },
 "nbformat": 4,
 "nbformat_minor": 5
}
