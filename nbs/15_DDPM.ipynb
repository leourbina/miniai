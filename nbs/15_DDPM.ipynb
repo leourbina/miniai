{
 "cells": [
  {
   "cell_type": "code",
   "execution_count": 3,
   "id": "4ec952a4-5f37-4a40-b946-d7b6f99c2e53",
   "metadata": {
    "tags": []
   },
   "outputs": [],
   "source": [
    "from dataclasses import dataclass\n",
    "import torch\n",
    "import matplotlib.pyplot as plt\n",
    "\n",
    "from torch import nn, optim, tensor\n",
    "import torch.nn.functional as F\n",
    "from torch.utils.data import Dataset, DataLoader\n",
    "import torchvision.transforms.functional as TF\n",
    "from functools import partial\n",
    "\n",
    "import fastcore.all as fc\n",
    "from torcheval.metrics import MulticlassAccuracy\n",
    "from datasets import load_dataset\n",
    "import tiktoken\n",
    "\n",
    "from miniai.datasets import * \n",
    "from miniai.activations import *\n",
    "from miniai.learner import *\n",
    "from miniai.conv import * \n",
    "from miniai.resnet import *\n",
    "from miniai.init import * \n",
    "from miniai.sgd import *\n",
    "from miniai.augment import * "
   ]
  },
  {
   "cell_type": "code",
   "execution_count": 4,
   "id": "e86111d8-28fc-44f4-bfb3-8680475027f2",
   "metadata": {
    "tags": []
   },
   "outputs": [],
   "source": [
    "@dataclass\n",
    "class Config:\n",
    "    ds: str\n",
    "    arch: str\n",
    "    project: str\n",
    "    epochs: int = 5\n",
    "    lr:float = 5e-3\n",
    "    betas= (0.9, 0.95)\n",
    "    batch_size: int = 128\n",
    "    bias:bool = True\n",
    "    model_path:str = 'models'\n",
    "    save: bool = False\n",
    "\n",
    "\n",
    "    def to_dict(self):\n",
    "        result = {}\n",
    "        all_attrs = dir(self)\n",
    "        for k in all_attrs:\n",
    "            if not k.startswith(\"_\"):\n",
    "                result[k] = getattr(self, k)\n",
    "        return result    "
   ]
  },
  {
   "cell_type": "code",
   "execution_count": 5,
   "id": "76131cde-c982-426e-af5f-4f9cec652bb9",
   "metadata": {
    "tags": []
   },
   "outputs": [],
   "source": [
    "conf = Config('fashion_mnist', 'DDPM', 'fastai2022p2')"
   ]
  },
  {
   "cell_type": "code",
   "execution_count": 9,
   "id": "0b5abbb3-fabb-4235-91d9-73582712f392",
   "metadata": {
    "tags": []
   },
   "outputs": [
    {
     "name": "stderr",
     "output_type": "stream",
     "text": [
      "Found cached dataset fashion_mnist (/home/leonardourbina/.cache/huggingface/datasets/fashion_mnist/fashion_mnist/1.0.0/0a671f063342996f19779d38c0ab4abef9c64f757b35af8134b331c294d7ba48)\n"
     ]
    },
    {
     "data": {
      "application/vnd.jupyter.widget-view+json": {
       "model_id": "88b21aa97890410288389d7f9bfe7867",
       "version_major": 2,
       "version_minor": 0
      },
      "text/plain": [
       "  0%|          | 0/2 [00:00<?, ?it/s]"
      ]
     },
     "metadata": {},
     "output_type": "display_data"
    },
    {
     "data": {
      "text/plain": [
       "DatasetDict({\n",
       "    train: Dataset({\n",
       "        features: ['image', 'label'],\n",
       "        num_rows: 60000\n",
       "    })\n",
       "    test: Dataset({\n",
       "        features: ['image', 'label'],\n",
       "        num_rows: 10000\n",
       "    })\n",
       "})"
      ]
     },
     "execution_count": 9,
     "metadata": {},
     "output_type": "execute_result"
    }
   ],
   "source": [
    "xl, yl = 'image', 'label'\n",
    "dsd = load_dataset(conf.ds)\n",
    "dsd"
   ]
  },
  {
   "cell_type": "code",
   "execution_count": 14,
   "id": "5235ff36-d443-461e-9161-7f59138c06d2",
   "metadata": {
    "tags": []
   },
   "outputs": [],
   "source": [
    "def transform(b):\n",
    "    b[xl] = [TF.to_tensor(o) for o in b[xl]]\n",
    "    return b"
   ]
  },
  {
   "cell_type": "code",
   "execution_count": 29,
   "id": "a42867cc-14fe-4563-9394-5e8e285c0999",
   "metadata": {
    "tags": []
   },
   "outputs": [],
   "source": [
    "T = 50\n",
    "tds = dsd.with_transform(transform)"
   ]
  },
  {
   "cell_type": "code",
   "execution_count": 30,
   "id": "d6c6109d-87f9-4738-9d53-9b8d8acc531d",
   "metadata": {
    "tags": []
   },
   "outputs": [],
   "source": [
    "dls = DataLoaders.from_dd(tds, bs=128)"
   ]
  },
  {
   "cell_type": "code",
   "execution_count": 31,
   "id": "0b476217-ce70-421f-a2c4-49b2a598c434",
   "metadata": {
    "tags": []
   },
   "outputs": [],
   "source": [
    "xb, yb = next(iter(dls.train))"
   ]
  },
  {
   "cell_type": "code",
   "execution_count": 33,
   "id": "479b55d9-7bc7-4a1b-82f0-a598f95dc1ca",
   "metadata": {
    "tags": []
   },
   "outputs": [],
   "source": [
    "torch.randint(low=1, conf.)"
   ]
  },
  {
   "cell_type": "code",
   "execution_count": null,
   "id": "6efd23f5-4118-4bb1-b5ca-88acf51c6827",
   "metadata": {},
   "outputs": [],
   "source": []
  }
 ],
 "metadata": {
  "kernelspec": {
   "display_name": "Python 3 (ipykernel)",
   "language": "python",
   "name": "python3"
  },
  "language_info": {
   "codemirror_mode": {
    "name": "ipython",
    "version": 3
   },
   "file_extension": ".py",
   "mimetype": "text/x-python",
   "name": "python",
   "nbconvert_exporter": "python",
   "pygments_lexer": "ipython3",
   "version": "3.11.3"
  }
 },
 "nbformat": 4,
 "nbformat_minor": 5
}
