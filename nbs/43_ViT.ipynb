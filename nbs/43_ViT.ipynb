{
 "cells": [
  {
   "cell_type": "markdown",
   "id": "08b31048-94ef-42d0-8099-fbb2c0356a5a",
   "metadata": {},
   "source": [
    "# ViT"
   ]
  },
  {
   "cell_type": "code",
   "execution_count": 2,
   "id": "6fad5d9b-8759-4b8f-ba56-337ce679c2c0",
   "metadata": {},
   "outputs": [],
   "source": [
    "from pydantic.dataclasses import dataclass\n",
    "from dataclasses import asdict\n",
    "\n",
    "import matplotlib.pyplot as plt\n",
    "\n",
    "import torch\n",
    "from torch import nn, optim, tensor\n",
    "import torch.nn.functional as F\n",
    "from torch.utils.data import Dataset, DataLoader\n",
    "from torchinfo import summary\n",
    "\n",
    "from torchvision import transforms as T\n",
    "import torchvision.transforms.functional as TF\n",
    "from functools import partial\n",
    "\n",
    "import fastcore.all as fc\n",
    "from torcheval.metrics import MulticlassAccuracy\n",
    "from datasets import load_dataset\n",
    "\n",
    "from miniai.datasets import * \n",
    "from miniai.activations import *\n",
    "from miniai.learner import *\n",
    "from miniai.conv import * \n",
    "from miniai.resnet import *\n",
    "from miniai.init import * \n",
    "from miniai.sgd import *\n",
    "from miniai.augment import * "
   ]
  },
  {
   "cell_type": "code",
   "execution_count": 3,
   "id": "7fbae9d2-ec5b-4668-af11-44866d3ec3f7",
   "metadata": {},
   "outputs": [],
   "source": [
    "set_seed(1)"
   ]
  },
  {
   "cell_type": "code",
   "execution_count": 4,
   "id": "f4941fe1-0d12-474f-a729-8a9597bc5ba4",
   "metadata": {},
   "outputs": [],
   "source": [
    "@dataclass\n",
    "class Config(BaseConfig):\n",
    "    n_channels: int = 1\n",
    "    img_height: int = 28\n",
    "    img_width: int = 28  \n",
    "    patch_size: int = 4\n",
    "    \n",
    "    n_embedding: int = 512\n",
    "    n_heads: int = 16    \n",
    "    n_layers: int = 12\n",
    "    n_classes: int = -1\n",
    "    fanout = 4"
   ]
  },
  {
   "cell_type": "code",
   "execution_count": 5,
   "id": "e96f5cbe-fa51-4656-ae64-9414a12b36ce",
   "metadata": {},
   "outputs": [
    {
     "data": {
      "text/plain": [
       "{'ds': 'fashion_mnist',\n",
       " 'arch': 'ViT',\n",
       " 'project': 'ViT',\n",
       " 'epochs': 5,\n",
       " 'lr': 0.0005,\n",
       " 'batch_size': 256,\n",
       " 'bias': True,\n",
       " 'model_path': 'models',\n",
       " 'save': False,\n",
       " 'max_to_keep': 1,\n",
       " 'attn_dropout': 0.0,\n",
       " 'dropout': 0.01,\n",
       " 'n_channels': 1,\n",
       " 'img_height': 28,\n",
       " 'img_width': 28,\n",
       " 'patch_size': 4,\n",
       " 'n_embedding': 512,\n",
       " 'n_heads': 16,\n",
       " 'n_layers': 12,\n",
       " 'n_classes': -1}"
      ]
     },
     "execution_count": 5,
     "metadata": {},
     "output_type": "execute_result"
    }
   ],
   "source": [
    "conf = Config(ds='fashion_mnist', arch='ViT', project='ViT', batch_size=256, lr=5e-4)\n",
    "asdict(conf)"
   ]
  },
  {
   "cell_type": "markdown",
   "id": "4c898abc-80e8-41c1-85d2-91d055bcbfd6",
   "metadata": {},
   "source": [
    "# Data"
   ]
  },
  {
   "cell_type": "code",
   "execution_count": 6,
   "id": "309959e9-f457-4a07-86ce-f584658b409b",
   "metadata": {},
   "outputs": [
    {
     "name": "stderr",
     "output_type": "stream",
     "text": [
      "Found cached dataset fashion_mnist (/home/leonardourbina/.cache/huggingface/datasets/fashion_mnist/fashion_mnist/1.0.0/0a671f063342996f19779d38c0ab4abef9c64f757b35af8134b331c294d7ba48)\n"
     ]
    },
    {
     "data": {
      "application/vnd.jupyter.widget-view+json": {
       "model_id": "8312cf8ff36d44f0a72cd450155482d6",
       "version_major": 2,
       "version_minor": 0
      },
      "text/plain": [
       "  0%|          | 0/2 [00:00<?, ?it/s]"
      ]
     },
     "metadata": {},
     "output_type": "display_data"
    }
   ],
   "source": [
    "dsd = load_dataset(conf.ds)"
   ]
  },
  {
   "cell_type": "code",
   "execution_count": 7,
   "id": "6007735f-9fda-4b9e-b21d-0a1d1523a48a",
   "metadata": {},
   "outputs": [
    {
     "data": {
      "text/plain": [
       "DatasetDict({\n",
       "    train: Dataset({\n",
       "        features: ['image', 'label'],\n",
       "        num_rows: 60000\n",
       "    })\n",
       "    test: Dataset({\n",
       "        features: ['image', 'label'],\n",
       "        num_rows: 10000\n",
       "    })\n",
       "})"
      ]
     },
     "execution_count": 7,
     "metadata": {},
     "output_type": "execute_result"
    }
   ],
   "source": [
    "dsd"
   ]
  },
  {
   "cell_type": "code",
   "execution_count": 8,
   "id": "2f94bb09-6210-4275-bc7c-1eebe112dad7",
   "metadata": {},
   "outputs": [],
   "source": [
    "ds_train = dsd['train']"
   ]
  },
  {
   "cell_type": "code",
   "execution_count": 9,
   "id": "8828a98a-a9cf-4c85-ba1f-7fc18b9196cd",
   "metadata": {},
   "outputs": [],
   "source": [
    "xl, yl = 'image', 'label'"
   ]
  },
  {
   "cell_type": "code",
   "execution_count": 10,
   "id": "b277e7b5-300e-4bc8-a4bd-e91227cc0b9a",
   "metadata": {},
   "outputs": [
    {
     "name": "stdout",
     "output_type": "stream",
     "text": [
      "Num classes:  10\n"
     ]
    }
   ],
   "source": [
    "conf.n_classes =  dsd['train'].features[yl].num_classes\n",
    "print(\"Num classes: \", conf.n_classes)"
   ]
  },
  {
   "cell_type": "code",
   "execution_count": 14,
   "id": "73c97d53-5ad3-4c6d-a9a6-f0bb269fac43",
   "metadata": {},
   "outputs": [
    {
     "data": {
      "image/png": "[encoded data removed]",
      "text/plain": [
       "<Figure size 640x480 with 1 Axes>"
      ]
     },
     "metadata": {},
     "output_type": "display_data"
    }
   ],
   "source": [
    "xform = T.Compose([T.Resize((conf.img_height, conf.img_width), antialias=True), T.ToTensor()])\n",
    "\n",
    "plt.imshow(xform(dsd['train'][3][xl]).permute(1, 2, 0))\n",
    "plt.axis('off');"
   ]
  },
  {
   "cell_type": "code",
   "execution_count": 11,
   "id": "75d2ec41-5854-4015-ad24-a1b004a27508",
   "metadata": {},
   "outputs": [],
   "source": [
    "def transform(b):\n",
    "    b[xl] = [xform(o) for o in b[xl]]\n",
    "    return b"
   ]
  },
  {
   "cell_type": "code",
   "execution_count": 12,
   "id": "5a5aa3dc-0cae-4730-817a-c31a0bcc0d14",
   "metadata": {},
   "outputs": [],
   "source": [
    "tds = dsd.with_transform(transform)"
   ]
  },
  {
   "cell_type": "code",
   "execution_count": 13,
   "id": "b3b27b67-9088-4528-b39f-222858e4193a",
   "metadata": {},
   "outputs": [],
   "source": [
    "dls = DataLoaders.from_dd(tds, conf.batch_size)"
   ]
  },
  {
   "cell_type": "code",
   "execution_count": 14,
   "id": "fa29496a-2146-42a8-a837-28958c6648da",
   "metadata": {},
   "outputs": [
    {
     "data": {
      "text/plain": [
       "(torch.Size([256, 1, 28, 28]), torch.Size([256]))"
      ]
     },
     "execution_count": 14,
     "metadata": {},
     "output_type": "execute_result"
    }
   ],
   "source": [
    "xb, yb = next(iter(dls.train))\n",
    "xb.shape, yb.shape"
   ]
  },
  {
   "cell_type": "markdown",
   "id": "2598908a-2348-4327-a76a-f1a86f246114",
   "metadata": {},
   "source": [
    "# Model"
   ]
  },
  {
   "cell_type": "code",
   "execution_count": 15,
   "id": "c0c4d79c-e0ec-4492-9b16-30f50da1ed30",
   "metadata": {},
   "outputs": [],
   "source": [
    "class PatchEmbedding(nn.Module):\n",
    "    def __init__(self, height, width, patch_size, n_channels, n_embedding):\n",
    "        super().__init__()\n",
    "        self.conv = nn.Conv2d(in_channels=n_channels, out_channels=n_embedding,\n",
    "                              kernel_size=patch_size, stride=patch_size)\n",
    "                \n",
    "    def forward(self, x):\n",
    "        x = self.conv(x) # (B, n_embedding, patch_size, patch_size)\n",
    "        B, N, *_ = x.shape\n",
    "        return x.view(B, N, -1).permute(0, 2, 1) # (B, 16*16, n_embedding)\n",
    "        "
   ]
  },
  {
   "cell_type": "code",
   "execution_count": 22,
   "id": "abcefc6f-8fb7-482a-afa5-db32516a5b9d",
   "metadata": {},
   "outputs": [],
   "source": [
    "class Block(nn.Module):\n",
    "    def __init__(self, n_embedding, n_heads, fanout, dropout):\n",
    "        super().__init__()\n",
    "        self.ln1 = nn.LayerNorm(n_embedding)\n",
    "        self.attention = nn.MultiheadAttention(n_embedding, n_heads, dropout=dropout)\n",
    "        self.ln2 = nn.LayerNorm(n_embedding)\n",
    "        self.mlp = nn.Sequential(\n",
    "            nn.Linear(n_embedding, fanout*n_embedding),\n",
    "            conf.act(),\n",
    "            nn.Dropout(p=dropout),\n",
    "            nn.Linear(fanout*n_embedding, n_embedding),\n",
    "            nn.Dropout(p=dropout))\n",
    "\n",
    "    def forward(self, x):\n",
    "        z = self.ln1(x)\n",
    "        x1, _ = self.attention(query=z, key=z, value=z)\n",
    "        x1 += x\n",
    "        return x1 + self.mlp(self.ln2(x1))        "
   ]
  },
  {
   "cell_type": "code",
   "execution_count": 17,
   "id": "f6aebdbd-515b-4ea4-bfa5-e2f3a496d59c",
   "metadata": {},
   "outputs": [],
   "source": [
    "class ViT(nn.Module):\n",
    "    def __init__(self, conf: Config):\n",
    "        super().__init__()\n",
    "        self.N = conf.img_height * conf.img_width // (conf.patch_size**2)\n",
    "        self.conf = conf\n",
    "        self.patcher = PatchEmbedding(conf.img_height, conf.img_width, conf.patch_size, conf.n_channels, conf.n_embedding)\n",
    "        self.position_embedding = nn.Embedding(self.N, conf.n_embedding)\n",
    "        self.blocks = nn.Sequential(*[Block(conf.n_embedding, conf.n_heads, conf.fanout, conf.attn_dropout) for _ in range(conf.n_layers)])\n",
    "        self.ln = nn.LayerNorm(conf.n_embedding * self.N)\n",
    "        self.classification_head = nn.Linear(conf.n_embedding * self.N, conf.n_classes)\n",
    "        \n",
    "        self.apply(self._init_weights)\n",
    "        \n",
    "    \n",
    "    def _init_weights(self, module):\n",
    "        if isinstance(module, nn.Linear):\n",
    "            torch.nn.init.kaiming_normal_(module.weight, a=self.conf.leak)\n",
    "            if module.bias is not None:\n",
    "                torch.nn.init.zeros_(module.bias)\n",
    "        elif isinstance(module, nn.Embedding):\n",
    "            torch.nn.init.normal_(module.weight, mean=0., std=0.02)\n",
    "        elif isinstance(module, nn.LayerNorm):\n",
    "            torch.nn.init.zeros_(module.bias)\n",
    "            torch.nn.init.ones_(module.weight)    \n",
    "    \n",
    "    def forward(self, x):\n",
    "        B, *_ = x.shape\n",
    "        x = self.patcher(x)\n",
    "        #x = torch.cat((self.class_token.expand(B, -1, -1), x), dim=1)\n",
    "        x += self.position_embedding(torch.arange(self.N, device=device))\n",
    "        x = self.blocks(x)\n",
    "        x = self.classification_head(self.ln(x.view(B, -1))) \n",
    "        return x"
   ]
  },
  {
   "cell_type": "markdown",
   "id": "28782d24-2004-4d20-8127-ba9bad20961f",
   "metadata": {},
   "source": [
    "# Training Loop"
   ]
  },
  {
   "cell_type": "code",
   "execution_count": 18,
   "id": "af1f07d4-71a9-4f96-baff-0e26687bc9ef",
   "metadata": {},
   "outputs": [],
   "source": [
    "model = ViT(conf).to(device)\n",
    "tmax = conf.epochs * len(dls.train)\n",
    "\n",
    "metrics = MetricsCB(accuracy=MulticlassAccuracy())\n",
    "sched = BatchSchedCB(partial(optim.lr_scheduler.OneCycleLR, max_lr=conf.lr, total_steps=tmax))\n",
    "wand = WandBCB(conf)\n",
    "cbs = [metrics, sched, wand, ProgressCB(plot=True)]\n",
    "learn = Learner(model, dls, loss_func=F.cross_entropy, cbs=[DeviceCB(device=device)], opt_func=partial(optim.AdamW, betas=conf.betas))"
   ]
  },
  {
   "cell_type": "code",
   "execution_count": 64,
   "id": "7d4c03a6-39ee-4084-bc25-e15f9983e2a9",
   "metadata": {},
   "outputs": [
    {
     "data": {
      "image/png": "[encoded data removed]",
      "text/plain": [
       "<Figure size 640x480 with 1 Axes>"
      ]
     },
     "metadata": {},
     "output_type": "display_data"
    }
   ],
   "source": [
    "learn.lr_find(start_lr=3e-6)  #5e-4"
   ]
  },
  {
   "cell_type": "markdown",
   "id": "ac99e35b-1e1c-42df-8d18-f46361029d57",
   "metadata": {},
   "source": [
    "## Model Summary"
   ]
  },
  {
   "cell_type": "code",
   "execution_count": 19,
   "id": "59bddf9c-f569-430f-a3e1-66a81d5f1625",
   "metadata": {},
   "outputs": [
    {
     "data": {
      "text/plain": [
       "torch.Size([256, 1, 28, 28])"
      ]
     },
     "execution_count": 19,
     "metadata": {},
     "output_type": "execute_result"
    }
   ],
   "source": [
    "from torchinfo import summary\n",
    "\n",
    "xb, yb = next(iter(dls.train))\n",
    "xb.shape"
   ]
  },
  {
   "cell_type": "code",
   "execution_count": 20,
   "id": "064f7c25-d0e4-4788-b09c-3ba1459a1302",
   "metadata": {},
   "outputs": [
    {
     "data": {
      "text/plain": [
       "==========================================================================================\n",
       "Layer (type:depth-idx)                   Output Shape              Param #\n",
       "==========================================================================================\n",
       "ViT                                      [256, 10]                 --\n",
       "├─PatchEmbedding: 1-1                    [256, 49, 512]            --\n",
       "│    └─Conv2d: 2-1                       [256, 512, 7, 7]          8,704\n",
       "├─Embedding: 1-2                         [49, 512]                 25,088\n",
       "├─Sequential: 1-3                        [256, 49, 512]            --\n",
       "│    └─Block: 2-2                        [256, 49, 512]            --\n",
       "│    │    └─LayerNorm: 3-1               [256, 49, 512]            1,024\n",
       "│    │    └─MultiheadAttention: 3-2      [256, 49, 512]            1,050,624\n",
       "│    │    └─LayerNorm: 3-3               [256, 49, 512]            1,024\n",
       "│    │    └─Sequential: 3-4              [256, 49, 512]            2,099,712\n",
       "│    └─Block: 2-3                        [256, 49, 512]            --\n",
       "│    │    └─LayerNorm: 3-5               [256, 49, 512]            1,024\n",
       "│    │    └─MultiheadAttention: 3-6      [256, 49, 512]            1,050,624\n",
       "│    │    └─LayerNorm: 3-7               [256, 49, 512]            1,024\n",
       "│    │    └─Sequential: 3-8              [256, 49, 512]            2,099,712\n",
       "│    └─Block: 2-4                        [256, 49, 512]            --\n",
       "│    │    └─LayerNorm: 3-9               [256, 49, 512]            1,024\n",
       "│    │    └─MultiheadAttention: 3-10     [256, 49, 512]            1,050,624\n",
       "│    │    └─LayerNorm: 3-11              [256, 49, 512]            1,024\n",
       "│    │    └─Sequential: 3-12             [256, 49, 512]            2,099,712\n",
       "│    └─Block: 2-5                        [256, 49, 512]            --\n",
       "│    │    └─LayerNorm: 3-13              [256, 49, 512]            1,024\n",
       "│    │    └─MultiheadAttention: 3-14     [256, 49, 512]            1,050,624\n",
       "│    │    └─LayerNorm: 3-15              [256, 49, 512]            1,024\n",
       "│    │    └─Sequential: 3-16             [256, 49, 512]            2,099,712\n",
       "│    └─Block: 2-6                        [256, 49, 512]            --\n",
       "│    │    └─LayerNorm: 3-17              [256, 49, 512]            1,024\n",
       "│    │    └─MultiheadAttention: 3-18     [256, 49, 512]            1,050,624\n",
       "│    │    └─LayerNorm: 3-19              [256, 49, 512]            1,024\n",
       "│    │    └─Sequential: 3-20             [256, 49, 512]            2,099,712\n",
       "│    └─Block: 2-7                        [256, 49, 512]            --\n",
       "│    │    └─LayerNorm: 3-21              [256, 49, 512]            1,024\n",
       "│    │    └─MultiheadAttention: 3-22     [256, 49, 512]            1,050,624\n",
       "│    │    └─LayerNorm: 3-23              [256, 49, 512]            1,024\n",
       "│    │    └─Sequential: 3-24             [256, 49, 512]            2,099,712\n",
       "│    └─Block: 2-8                        [256, 49, 512]            --\n",
       "│    │    └─LayerNorm: 3-25              [256, 49, 512]            1,024\n",
       "│    │    └─MultiheadAttention: 3-26     [256, 49, 512]            1,050,624\n",
       "│    │    └─LayerNorm: 3-27              [256, 49, 512]            1,024\n",
       "│    │    └─Sequential: 3-28             [256, 49, 512]            2,099,712\n",
       "│    └─Block: 2-9                        [256, 49, 512]            --\n",
       "│    │    └─LayerNorm: 3-29              [256, 49, 512]            1,024\n",
       "│    │    └─MultiheadAttention: 3-30     [256, 49, 512]            1,050,624\n",
       "│    │    └─LayerNorm: 3-31              [256, 49, 512]            1,024\n",
       "│    │    └─Sequential: 3-32             [256, 49, 512]            2,099,712\n",
       "│    └─Block: 2-10                       [256, 49, 512]            --\n",
       "│    │    └─LayerNorm: 3-33              [256, 49, 512]            1,024\n",
       "│    │    └─MultiheadAttention: 3-34     [256, 49, 512]            1,050,624\n",
       "│    │    └─LayerNorm: 3-35              [256, 49, 512]            1,024\n",
       "│    │    └─Sequential: 3-36             [256, 49, 512]            2,099,712\n",
       "│    └─Block: 2-11                       [256, 49, 512]            --\n",
       "│    │    └─LayerNorm: 3-37              [256, 49, 512]            1,024\n",
       "│    │    └─MultiheadAttention: 3-38     [256, 49, 512]            1,050,624\n",
       "│    │    └─LayerNorm: 3-39              [256, 49, 512]            1,024\n",
       "│    │    └─Sequential: 3-40             [256, 49, 512]            2,099,712\n",
       "│    └─Block: 2-12                       [256, 49, 512]            --\n",
       "│    │    └─LayerNorm: 3-41              [256, 49, 512]            1,024\n",
       "│    │    └─MultiheadAttention: 3-42     [256, 49, 512]            1,050,624\n",
       "│    │    └─LayerNorm: 3-43              [256, 49, 512]            1,024\n",
       "│    │    └─Sequential: 3-44             [256, 49, 512]            2,099,712\n",
       "│    └─Block: 2-13                       [256, 49, 512]            --\n",
       "│    │    └─LayerNorm: 3-45              [256, 49, 512]            1,024\n",
       "│    │    └─MultiheadAttention: 3-46     [256, 49, 512]            1,050,624\n",
       "│    │    └─LayerNorm: 3-47              [256, 49, 512]            1,024\n",
       "│    │    └─Sequential: 3-48             [256, 49, 512]            2,099,712\n",
       "├─LayerNorm: 1-4                         [256, 25088]              50,176\n",
       "├─Linear: 1-5                            [256, 10]                 250,890\n",
       "==========================================================================================\n",
       "Total params: 38,163,466\n",
       "Trainable params: 38,163,466\n",
       "Non-trainable params: 0\n",
       "Total mult-adds (Units.GIGABYTES): 6.64\n",
       "==========================================================================================\n",
       "Input size (MB): 0.80\n",
       "Forward/backward pass size (MB): 4418.92\n",
       "Params size (MB): 102.22\n",
       "Estimated Total Size (MB): 4521.95\n",
       "=========================================================================================="
      ]
     },
     "execution_count": 20,
     "metadata": {},
     "output_type": "execute_result"
    }
   ],
   "source": [
    "summary(model, input_data=xb.to(device))"
   ]
  },
  {
   "cell_type": "markdown",
   "id": "e71b7f65-367a-4b36-812b-6aca82f315ff",
   "metadata": {},
   "source": [
    "## Training"
   ]
  },
  {
   "cell_type": "code",
   "execution_count": 21,
   "id": "2b73a422-4c57-49cf-ba59-3af66b23571b",
   "metadata": {},
   "outputs": [
    {
     "name": "stderr",
     "output_type": "stream",
     "text": [
      "Failed to detect the name of this notebook, you can set it manually with the WANDB_NOTEBOOK_NAME environment variable to enable code saving.\n",
      "\u001b[34m\u001b[1mwandb\u001b[0m: Currently logged in as: \u001b[33mleourbina\u001b[0m. Use \u001b[1m`wandb login --relogin`\u001b[0m to force relogin\n"
     ]
    },
    {
     "data": {
      "text/html": [
       "wandb version 0.15.4 is available!  To upgrade, please run:\n",
       " $ pip install wandb --upgrade"
      ],
      "text/plain": [
       "<IPython.core.display.HTML object>"
      ]
     },
     "metadata": {},
     "output_type": "display_data"
    },
    {
     "data": {
      "text/html": [
       "Tracking run with wandb version 0.15.2"
      ],
      "text/plain": [
       "<IPython.core.display.HTML object>"
      ]
     },
     "metadata": {},
     "output_type": "display_data"
    },
    {
     "data": {
      "text/html": [
       "Run data is saved locally in <code>/home/leonardourbina/code/fastai2022p2/nbs/clean/wandb/run-20230622_195808-ujkmr7k0</code>"
      ],
      "text/plain": [
       "<IPython.core.display.HTML object>"
      ]
     },
     "metadata": {},
     "output_type": "display_data"
    },
    {
     "data": {
      "text/html": [
       "Syncing run <strong><a href='https://wandb.ai/leourbina/ViT/runs/ujkmr7k0' target=\"_blank\">royal-jazz-4</a></strong> to <a href='https://wandb.ai/leourbina/ViT' target=\"_blank\">Weights & Biases</a> (<a href='https://wandb.me/run' target=\"_blank\">docs</a>)<br/>"
      ],
      "text/plain": [
       "<IPython.core.display.HTML object>"
      ]
     },
     "metadata": {},
     "output_type": "display_data"
    },
    {
     "data": {
      "text/html": [
       " View project at <a href='https://wandb.ai/leourbina/ViT' target=\"_blank\">https://wandb.ai/leourbina/ViT</a>"
      ],
      "text/plain": [
       "<IPython.core.display.HTML object>"
      ]
     },
     "metadata": {},
     "output_type": "display_data"
    },
    {
     "data": {
      "text/html": [
       " View run at <a href='https://wandb.ai/leourbina/ViT/runs/ujkmr7k0' target=\"_blank\">https://wandb.ai/leourbina/ViT/runs/ujkmr7k0</a>"
      ],
      "text/plain": [
       "<IPython.core.display.HTML object>"
      ]
     },
     "metadata": {},
     "output_type": "display_data"
    },
    {
     "data": {
      "text/html": [
       "\n",
       "<style>\n",
       "    /* Turns off some styling */\n",
       "    progress {\n",
       "        /* gets rid of default border in Firefox and Opera. */\n",
       "        border: none;\n",
       "        /* Needs to be in here for Safari polyfill so background images work as expected. */\n",
       "        background-size: auto;\n",
       "    }\n",
       "    progress:not([value]), progress:not([value])::-webkit-progress-bar {\n",
       "        background: repeating-linear-gradient(45deg, #7e7e7e, #7e7e7e 10px, #5c5c5c 10px, #5c5c5c 20px);\n",
       "    }\n",
       "    .progress-bar-interrupted, .progress-bar-interrupted::-webkit-progress-bar {\n",
       "        background: #F44336;\n",
       "    }\n",
       "</style>\n"
      ],
      "text/plain": [
       "<IPython.core.display.HTML object>"
      ]
     },
     "metadata": {},
     "output_type": "display_data"
    },
    {
     "data": {
      "text/html": [
       "<table border=\"1\" class=\"dataframe\">\n",
       "  <thead>\n",
       "    <tr style=\"text-align: left;\">\n",
       "      <th>accuracy</th>\n",
       "      <th>loss</th>\n",
       "      <th>epoch</th>\n",
       "      <th>train</th>\n",
       "    </tr>\n",
       "  </thead>\n",
       "  <tbody>\n",
       "    <tr>\n",
       "      <td>0.705</td>\n",
       "      <td>0.850</td>\n",
       "      <td>0</td>\n",
       "      <td>train</td>\n",
       "    </tr>\n",
       "    <tr>\n",
       "      <td>0.794</td>\n",
       "      <td>0.605</td>\n",
       "      <td>0</td>\n",
       "      <td>valid</td>\n",
       "    </tr>\n",
       "    <tr>\n",
       "      <td>0.834</td>\n",
       "      <td>0.475</td>\n",
       "      <td>1</td>\n",
       "      <td>train</td>\n",
       "    </tr>\n",
       "    <tr>\n",
       "      <td>0.856</td>\n",
       "      <td>0.404</td>\n",
       "      <td>1</td>\n",
       "      <td>valid</td>\n",
       "    </tr>\n",
       "    <tr>\n",
       "      <td>0.863</td>\n",
       "      <td>0.378</td>\n",
       "      <td>2</td>\n",
       "      <td>train</td>\n",
       "    </tr>\n",
       "    <tr>\n",
       "      <td>0.872</td>\n",
       "      <td>0.360</td>\n",
       "      <td>2</td>\n",
       "      <td>valid</td>\n",
       "    </tr>\n",
       "    <tr>\n",
       "      <td>0.891</td>\n",
       "      <td>0.301</td>\n",
       "      <td>3</td>\n",
       "      <td>train</td>\n",
       "    </tr>\n",
       "    <tr>\n",
       "      <td>0.890</td>\n",
       "      <td>0.313</td>\n",
       "      <td>3</td>\n",
       "      <td>valid</td>\n",
       "    </tr>\n",
       "    <tr>\n",
       "      <td>0.910</td>\n",
       "      <td>0.249</td>\n",
       "      <td>4</td>\n",
       "      <td>train</td>\n",
       "    </tr>\n",
       "    <tr>\n",
       "      <td>0.897</td>\n",
       "      <td>0.291</td>\n",
       "      <td>4</td>\n",
       "      <td>valid</td>\n",
       "    </tr>\n",
       "  </tbody>\n",
       "</table>"
      ],
      "text/plain": [
       "<IPython.core.display.HTML object>"
      ]
     },
     "metadata": {},
     "output_type": "display_data"
    },
    {
     "data": {
      "image/png": "[encoded data removed]",
      "text/plain": [
       "<Figure size 600x400 with 1 Axes>"
      ]
     },
     "metadata": {},
     "output_type": "display_data"
    }
   ],
   "source": [
    "learn.fit(conf.epochs, cbs=cbs)"
   ]
  }
 ],
 "metadata": {
  "kernelspec": {
   "display_name": "Python 3 (ipykernel)",
   "language": "python",
   "name": "python3"
  },
  "language_info": {
   "codemirror_mode": {
    "name": "ipython",
    "version": 3
   },
   "file_extension": ".py",
   "mimetype": "text/x-python",
   "name": "python",
   "nbconvert_exporter": "python",
   "pygments_lexer": "ipython3",
   "version": "3.11.3"
  }
 },
 "nbformat": 4,
 "nbformat_minor": 5
}
