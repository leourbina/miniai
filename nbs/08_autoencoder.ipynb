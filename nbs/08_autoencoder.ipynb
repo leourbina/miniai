{
 "cells": [
  {
   "cell_type": "code",
   "execution_count": 1,
   "id": "6e2d1f36-6a9d-4499-b630-06d240d4b360",
   "metadata": {
    "tags": []
   },
   "outputs": [],
   "source": [
    "#import sys; sys.path.append('/notebooks')"
   ]
  },
  {
   "cell_type": "markdown",
   "id": "ce9adae6-f938-425f-a143-ed52a42e9856",
   "metadata": {},
   "source": [
    "# Autoencoders"
   ]
  },
  {
   "cell_type": "code",
   "execution_count": 1,
   "id": "2ecab3e1-701f-4d37-91ba-9d3aeec014c4",
   "metadata": {
    "tags": []
   },
   "outputs": [],
   "source": [
    "import pickle, gzip, math, os, time, shutil\n",
    "import matplotlib as mpl\n",
    "import matplotlib.pyplot as plt\n",
    "import numpy as np\n",
    "import fastcore.all as fc\n",
    "from collections.abc import Mapping\n",
    "from pathlib import Path\n",
    "from operator import attrgetter, itemgetter\n",
    "from functools import partial\n",
    "\n",
    "import torch\n",
    "from torch import tensor, nn, optim\n",
    "from torch.utils.data import DataLoader, default_collate\n",
    "import torch.nn.functional as F\n",
    "import torchvision.transforms.functional as TF\n",
    "from datasets import load_dataset, load_dataset_builder\n",
    "from tqdm.auto import tqdm, trange\n",
    "\n",
    "from fastprogress import progress_bar, master_bar\n",
    "from miniai.datasets import * \n",
    "from miniai.training import * \n",
    "from miniai.conv import *"
   ]
  },
  {
   "cell_type": "code",
   "execution_count": 4,
   "id": "5ff29ce0-acaf-48b1-9b75-ffa31499885d",
   "metadata": {
    "tags": []
   },
   "outputs": [],
   "source": [
    "from fastcore.test import test_close\n",
    "\n",
    "torch.set_printoptions(precision=2, linewidth=140, sci_mode=False)\n",
    "torch.manual_seed(1)\n",
    "plt.style.use('fast')\n",
    "\n",
    "torch_device = 'mps' if torch.backends.mps.is_available() else 'cuda' if torch.cuda.is_available else 'cpu'\n",
    "device = torch.device(torch_device)\n",
    "\n",
    "import logging\n",
    "logging.disable(logging.WARNING)\n",
    "torch.manual_seed(42);"
   ]
  },
  {
   "cell_type": "markdown",
   "id": "2d1d6ac7-8f57-41dc-9439-24e53e1500a9",
   "metadata": {},
   "source": [
    "## Data"
   ]
  },
  {
   "cell_type": "code",
   "execution_count": 5,
   "id": "82255910-3e90-4d24-9f8e-a24d804e4be9",
   "metadata": {
    "tags": []
   },
   "outputs": [
    {
     "data": {
      "application/vnd.jupyter.widget-view+json": {
       "model_id": "f833b173d3724677a4690eca59805947",
       "version_major": 2,
       "version_minor": 0
      },
      "text/plain": [
       "  0%|          | 0/2 [00:00<?, ?it/s]"
      ]
     },
     "metadata": {},
     "output_type": "display_data"
    }
   ],
   "source": [
    "x, y = 'image', 'label'\n",
    "name = 'fashion_mnist'\n",
    "dsd = load_dataset(name)"
   ]
  },
  {
   "cell_type": "code",
   "execution_count": 6,
   "id": "be46b805-6794-4598-ab0b-4d5080a0b86d",
   "metadata": {
    "tags": []
   },
   "outputs": [],
   "source": [
    "@inplace\n",
    "def transformi(b): b[x] = [TF.to_tensor(o) for o in b[x]]"
   ]
  },
  {
   "cell_type": "code",
   "execution_count": 7,
   "id": "ed2cc0e6-1749-40e8-90bf-564c3a91c6c4",
   "metadata": {
    "tags": []
   },
   "outputs": [],
   "source": [
    "bs = 256\n",
    "tds = dsd.with_transform(transformi)"
   ]
  },
  {
   "cell_type": "code",
   "execution_count": 8,
   "id": "6ab97c45-d329-45df-87f9-6ec624aff3d2",
   "metadata": {
    "tags": []
   },
   "outputs": [
    {
     "data": {
      "image/png": "[encoded data removed]",
      "text/plain": [
       "<Figure size 100x100 with 1 Axes>"
      ]
     },
     "metadata": {},
     "output_type": "display_data"
    }
   ],
   "source": [
    "ds = tds['train']\n",
    "img = ds[0][x]\n",
    "show_image(img, figsize=(1, 1));"
   ]
  },
  {
   "cell_type": "code",
   "execution_count": 9,
   "id": "4c79d870-0359-4d90-8e55-aaa7448ee9f3",
   "metadata": {
    "tags": []
   },
   "outputs": [],
   "source": [
    "cf = collate_dict(ds)"
   ]
  },
  {
   "cell_type": "code",
   "execution_count": 10,
   "id": "99cba7ab-d854-4de0-ba16-551ae6f505a9",
   "metadata": {
    "tags": []
   },
   "outputs": [],
   "source": [
    "def collate_(b): return to_device(cf(b))\n",
    "def data_loaders(dsd, bs, **kwargs): \n",
    "    return {k: DataLoader(v, bs, **kwargs) for k, v in dsd.items()}"
   ]
  },
  {
   "cell_type": "code",
   "execution_count": 11,
   "id": "9e200bda-3576-4795-becf-375b4c66e0d1",
   "metadata": {
    "tags": []
   },
   "outputs": [],
   "source": [
    "dls = data_loaders(tds, bs, collate_fn=collate_)"
   ]
  },
  {
   "cell_type": "code",
   "execution_count": 12,
   "id": "92253900-5872-4f2f-97d7-04fffa65b8f5",
   "metadata": {
    "tags": []
   },
   "outputs": [],
   "source": [
    "dt = dls['train']\n",
    "dv = dls['test']\n",
    "\n",
    "xb, yb = next(iter(dt))"
   ]
  },
  {
   "cell_type": "code",
   "execution_count": 13,
   "id": "6fc8488e-e17b-4d22-9302-5a18035b8873",
   "metadata": {
    "tags": []
   },
   "outputs": [
    {
     "data": {
      "text/plain": [
       "['T - shirt / top',\n",
       " 'Trouser',\n",
       " 'Pullover',\n",
       " 'Dress',\n",
       " 'Coat',\n",
       " 'Sandal',\n",
       " 'Shirt',\n",
       " 'Sneaker',\n",
       " 'Bag',\n",
       " 'Ankle boot']"
      ]
     },
     "execution_count": 13,
     "metadata": {},
     "output_type": "execute_result"
    }
   ],
   "source": [
    "labels = ds.features[y].names\n",
    "labels"
   ]
  },
  {
   "cell_type": "code",
   "execution_count": 14,
   "id": "40f635af-ffa3-4f64-ac36-8c0eed7f2749",
   "metadata": {
    "tags": []
   },
   "outputs": [
    {
     "data": {
      "text/plain": [
       "('Ankle boot',\n",
       " 'T - shirt / top',\n",
       " 'T - shirt / top',\n",
       " 'Dress',\n",
       " 'T - shirt / top',\n",
       " 'Pullover',\n",
       " 'Sneaker',\n",
       " 'Pullover',\n",
       " 'Sandal',\n",
       " 'Sandal',\n",
       " 'T - shirt / top',\n",
       " 'Ankle boot',\n",
       " 'Sandal',\n",
       " 'Sandal',\n",
       " 'Sneaker',\n",
       " 'Ankle boot')"
      ]
     },
     "execution_count": 14,
     "metadata": {},
     "output_type": "execute_result"
    }
   ],
   "source": [
    "n = 16\n",
    "label_getter = itemgetter(*yb[:n])\n",
    "titles = label_getter(labels)\n",
    "titles"
   ]
  },
  {
   "cell_type": "code",
   "execution_count": 15,
   "id": "5de2514d-40d7-47da-a055-a9faffce8e3e",
   "metadata": {
    "tags": []
   },
   "outputs": [
    {
     "data": {
      "image/png": "[encoded data removed]",
      "text/plain": [
       "<Figure size 600x600 with 16 Axes>"
      ]
     },
     "metadata": {},
     "output_type": "display_data"
    }
   ],
   "source": [
    "show_images(xb[:n], imsize=1.5, titles=titles)"
   ]
  },
  {
   "cell_type": "markdown",
   "id": "61d0a2ef-f164-4eea-a0ec-1a4da68b8237",
   "metadata": {},
   "source": [
    "# Let's get warmed up 🔥"
   ]
  },
  {
   "cell_type": "code",
   "execution_count": 16,
   "id": "4b5b62ac-42cd-4022-94d5-fce58b934aa3",
   "metadata": {
    "tags": []
   },
   "outputs": [],
   "source": [
    "from torch import optim"
   ]
  },
  {
   "cell_type": "code",
   "execution_count": 17,
   "id": "ca34238e-a8f9-4bbf-be3d-dfcfee9fad8f",
   "metadata": {
    "tags": []
   },
   "outputs": [],
   "source": [
    "bs = 256\n",
    "lr = 0.5"
   ]
  },
  {
   "cell_type": "code",
   "execution_count": 18,
   "id": "3762b69c-69ee-42ec-9efa-4f2374ec4732",
   "metadata": {
    "tags": []
   },
   "outputs": [
    {
     "data": {
      "application/vnd.jupyter.widget-view+json": {
       "model_id": "2b0f65f84bb447698eeecd4526592998",
       "version_major": 2,
       "version_minor": 0
      },
      "text/plain": [
       "  0%|          | 0/5 [00:00<?, ?it/s]"
      ]
     },
     "metadata": {},
     "output_type": "display_data"
    },
    {
     "name": "stdout",
     "output_type": "stream",
     "text": [
      "0 0.7122553621292115 0.7405\n",
      "1 0.5197683117866516 0.8146\n",
      "2 0.48882004475593566 0.8241\n",
      "3 0.46405123248100283 0.8356\n",
      "4 0.4364419476985931 0.8407\n"
     ]
    }
   ],
   "source": [
    "torch.manual_seed(42)\n",
    "cnn = nn.Sequential(\n",
    "    conv(1, 4),   # 14x14\n",
    "    conv(4, 8),   # 7x7\n",
    "    conv(8, 16),  # 4x4\n",
    "    conv(16, 32), # 2x2\n",
    "    conv(32, 10, act=False),\n",
    "    nn.Flatten()\n",
    "\n",
    ").to(device)\n",
    "\n",
    "opt = optim.SGD(cnn.parameters(), lr=0.3)\n",
    "loss, acc = fit(5, cnn, F.cross_entropy, opt, dt, dv)"
   ]
  },
  {
   "cell_type": "code",
   "execution_count": 19,
   "id": "d2181060-0ad7-46d7-a944-c7f9727bb15d",
   "metadata": {
    "tags": []
   },
   "outputs": [
    {
     "data": {
      "text/plain": [
       "{'image': <PIL.PngImagePlugin.PngImageFile image mode=L size=28x28>,\n",
       " 'label': 9}"
      ]
     },
     "execution_count": 19,
     "metadata": {},
     "output_type": "execute_result"
    }
   ],
   "source": [
    "dsd['train'][0]"
   ]
  },
  {
   "cell_type": "markdown",
   "id": "3a566e53-b505-4319-b53d-eb0558e33537",
   "metadata": {},
   "source": [
    "# Autoencoders 🚀"
   ]
  },
  {
   "cell_type": "markdown",
   "id": "fede4020-4710-4400-928d-900176ea2bdd",
   "metadata": {},
   "source": [
    "## Transpose Convolutions a.k.a \"Deconvolutions\" (not)\n",
    "\n",
    "For more see here:\n",
    "https://github.com/vdumoulin/conv_arithmetic/blob/master/README.md\n",
    "\n",
    "https://medium.com/@marsxiang/convolutions-transposed-and-deconvolution-6430c358a5b6\n",
    "\n",
    "Explained in detail: https://arxiv.org/pdf/1603.07285.pdf\n",
    "\n",
    "Biggest difference between Upsampling and Transponse convolution is that upsampling has no trainable parameters"
   ]
  },
  {
   "cell_type": "code",
   "execution_count": 18,
   "id": "fd568c39-a12e-45e8-8c0e-28538ca82b2c",
   "metadata": {
    "tags": []
   },
   "outputs": [],
   "source": [
    "def deconv(ni, nf, ks=3, act=True): \n",
    "    # Later we should try it with a transpose conv\n",
    "    layers = [nn.UpsamplingNearest2d(scale_factor=2),\n",
    "             nn.Conv2d(ni, nf, stride=1, kernel_size=ks, padding=ks//2)] # this just preserves dimension\n",
    "    if act: layers.append(nn.ReLU())\n",
    "    return nn.Sequential(*layers)"
   ]
  },
  {
   "cell_type": "code",
   "execution_count": 26,
   "id": "46503e31-a7c2-4b5c-ba02-9161df828516",
   "metadata": {
    "tags": []
   },
   "outputs": [],
   "source": [
    "def eval(model, loss_func, valid_dl, epoch=0):\n",
    "    model.eval()\n",
    "    with torch.no_grad():\n",
    "        tot_loss, count = 0., 0\n",
    "        for xb, _ in valid_dl:\n",
    "            pred = model(xb)\n",
    "            n = len(xb)\n",
    "            count += n\n",
    "            tot_loss += loss_func(pred, xb).item()*n\n",
    "    print(epoch, f'{tot_loss/count:.3f}')"
   ]
  },
  {
   "cell_type": "code",
   "execution_count": 20,
   "id": "3ca73f6c-75e4-42ea-ad64-0b02abeceb35",
   "metadata": {
    "tags": []
   },
   "outputs": [],
   "source": [
    "def fit(epochs, model, loss_func, opt, train_dl, valid_dl):\n",
    "    for epoch in trange(epochs):\n",
    "        model.train()\n",
    "        for xb, _ in train_dl:\n",
    "            loss = loss_func(model(xb), xb) # this is the autoencoder bit\n",
    "            loss.backward()\n",
    "            opt.step()\n",
    "            opt.zero_grad()\n",
    "        eval(model, loss_func, valid_dl, epoch)            "
   ]
  },
  {
   "cell_type": "code",
   "execution_count": 21,
   "id": "1570d7e6-4f76-42b6-920d-ac41871db3fa",
   "metadata": {
    "tags": []
   },
   "outputs": [],
   "source": [
    "torch.manual_seed(42)\n",
    "auto_encoder = nn.Sequential( # 28x28\n",
    "    nn.ZeroPad2d(2), # 32x32\n",
    "    conv(1, 2), # 16x16\n",
    "    conv(2, 4), # 8x8\n",
    "    conv(4, 8), # 4x4\n",
    "    deconv(8, 4), # 8x8\n",
    "    deconv(4, 2), # 16, 16\n",
    "    deconv(2, 1, act=False), # 32x32\n",
    "    nn.ZeroPad2d(-2), # 28x28\n",
    "    nn.Sigmoid()\n",
    ").to(device)"
   ]
  },
  {
   "cell_type": "code",
   "execution_count": 22,
   "id": "5d309652-6e32-487a-a45f-6412fa88ddb0",
   "metadata": {
    "tags": []
   },
   "outputs": [],
   "source": [
    "activations = {}\n",
    "def get_activation(name, idx):\n",
    "    def hook(model, input, output):\n",
    "        activations[name][idx] = output.detach()\n",
    "        return output\n",
    "    return hook"
   ]
  },
  {
   "cell_type": "code",
   "execution_count": 27,
   "id": "90406ccf-b52e-4ac2-b0e5-831ee71e1140",
   "metadata": {
    "tags": []
   },
   "outputs": [
    {
     "name": "stdout",
     "output_type": "stream",
     "text": [
      "2\n"
     ]
    }
   ],
   "source": [
    "a = 1+1\n",
    "print(a)"
   ]
  },
  {
   "cell_type": "code",
   "execution_count": 23,
   "id": "96255acb-472b-4f38-ba5f-d53bb4890a53",
   "metadata": {
    "tags": []
   },
   "outputs": [],
   "source": [
    "def add_hooks(model, name):\n",
    "    for i, layer in enumerate(model):\n",
    "        if name not in activations:\n",
    "            activations[name] = {}\n",
    "\n",
    "        model[i].register_forward_hook(get_activation(name, i))"
   ]
  },
  {
   "cell_type": "code",
   "execution_count": 24,
   "id": "8690bbde-af17-40d7-8c6a-e7fc16da7a1c",
   "metadata": {
    "tags": []
   },
   "outputs": [],
   "source": [
    "add_hooks(auto_encoder, 'orig')"
   ]
  },
  {
   "cell_type": "code",
   "execution_count": 25,
   "id": "65e2fadd-91c0-4513-829c-a6670f6fc8b1",
   "metadata": {
    "tags": []
   },
   "outputs": [
    {
     "name": "stdout",
     "output_type": "stream",
     "text": [
      "0 0.152\n"
     ]
    }
   ],
   "source": [
    "eval(auto_encoder, F.mse_loss, dv)"
   ]
  },
  {
   "cell_type": "code",
   "execution_count": 26,
   "id": "bdccb745-e26d-4b32-9a31-87dcfe543636",
   "metadata": {
    "tags": []
   },
   "outputs": [
    {
     "data": {
      "application/vnd.jupyter.widget-view+json": {
       "model_id": "d4685ed70eab48ee90d505568b6dfee1",
       "version_major": 2,
       "version_minor": 0
      },
      "text/plain": [
       "  0%|          | 0/5 [00:00<?, ?it/s]"
      ]
     },
     "metadata": {},
     "output_type": "display_data"
    },
    {
     "name": "stdout",
     "output_type": "stream",
     "text": [
      "0 0.124\n",
      "1 0.112\n",
      "2 0.053\n",
      "3 0.042\n",
      "4 0.037\n"
     ]
    }
   ],
   "source": [
    "opt = optim.SGD(auto_encoder.parameters(), lr=0.1)\n",
    "fit(5, auto_encoder, F.mse_loss, opt, dt, dv)"
   ]
  },
  {
   "cell_type": "code",
   "execution_count": 27,
   "id": "f820f6b2-8d10-495d-b84e-0937f751468f",
   "metadata": {
    "tags": []
   },
   "outputs": [
    {
     "data": {
      "application/vnd.jupyter.widget-view+json": {
       "model_id": "7bc0572e7ad044ef9ca9f16eed21b53d",
       "version_major": 2,
       "version_minor": 0
      },
      "text/plain": [
       "  0%|          | 0/5 [00:00<?, ?it/s]"
      ]
     },
     "metadata": {},
     "output_type": "display_data"
    },
    {
     "name": "stdout",
     "output_type": "stream",
     "text": [
      "0 0.036\n",
      "1 0.036\n",
      "2 0.036\n",
      "3 0.035\n",
      "4 0.035\n"
     ]
    }
   ],
   "source": [
    "opt = optim.SGD(auto_encoder.parameters(), lr=0.01)\n",
    "fit(5, auto_encoder, F.mse_loss, opt, dt, dv)"
   ]
  },
  {
   "cell_type": "code",
   "execution_count": 28,
   "id": "5ee2b959-932c-4927-bdd2-0596edcd0fda",
   "metadata": {},
   "outputs": [
    {
     "data": {
      "image/png": "[encoded data removed]",
      "text/plain": [
       "<Figure size 600x600 with 16 Axes>"
      ]
     },
     "metadata": {},
     "output_type": "display_data"
    }
   ],
   "source": [
    "preds = auto_encoder(xb)\n",
    "show_images(preds[:n], imsize=1.5)"
   ]
  },
  {
   "cell_type": "code",
   "execution_count": 29,
   "id": "a9129c20-f627-432a-92f9-e6631a6727f0",
   "metadata": {
    "tags": []
   },
   "outputs": [],
   "source": [
    "def show_activations(model, name, i):\n",
    "    for layer in range(len(model)):\n",
    "        show_images(activations[name][layer][i].unsqueeze(1), imsize=1, titles=[f\"Layer {layer}\"])    "
   ]
  },
  {
   "cell_type": "code",
   "execution_count": 30,
   "id": "f08e03f0-0e45-4bde-8d5f-006bc1dcd200",
   "metadata": {
    "tags": []
   },
   "outputs": [
    {
     "data": {
      "image/png": "[encoded data removed]",
      "text/plain": [
       "<Figure size 100x100 with 1 Axes>"
      ]
     },
     "metadata": {},
     "output_type": "display_data"
    },
    {
     "data": {
      "image/png": "[encoded data removed]",
      "text/plain": [
       "<Figure size 200x100 with 2 Axes>"
      ]
     },
     "metadata": {},
     "output_type": "display_data"
    },
    {
     "data": {
      "image/png": "[encoded data removed]",
      "text/plain": [
       "<Figure size 200x200 with 4 Axes>"
      ]
     },
     "metadata": {},
     "output_type": "display_data"
    },
    {
     "data": {
      "image/png": "[encoded data removed]",
      "text/plain": [
       "<Figure size 400x200 with 8 Axes>"
      ]
     },
     "metadata": {},
     "output_type": "display_data"
    },
    {
     "data": {
      "image/png": "[encoded data removed]",
      "text/plain": [
       "<Figure size 200x200 with 4 Axes>"
      ]
     },
     "metadata": {},
     "output_type": "display_data"
    },
    {
     "data": {
      "image/png": "[encoded data removed]",
      "text/plain": [
       "<Figure size 200x100 with 2 Axes>"
      ]
     },
     "metadata": {},
     "output_type": "display_data"
    },
    {
     "data": {
      "image/png": "[encoded data removed]",
      "text/plain": [
       "<Figure size 100x100 with 1 Axes>"
      ]
     },
     "metadata": {},
     "output_type": "display_data"
    },
    {
     "data": {
      "image/png": "[encoded data removed]",
      "text/plain": [
       "<Figure size 100x100 with 1 Axes>"
      ]
     },
     "metadata": {},
     "output_type": "display_data"
    },
    {
     "data": {
      "image/png": "[encoded data removed]",
      "text/plain": [
       "<Figure size 100x100 with 1 Axes>"
      ]
     },
     "metadata": {},
     "output_type": "display_data"
    }
   ],
   "source": [
    "show_activations(auto_encoder, 'orig', 0)"
   ]
  },
  {
   "cell_type": "markdown",
   "id": "0d091321-67e5-47d9-9765-42bdba9f0bc8",
   "metadata": {},
   "source": [
    "### Let's try transpose convolutions"
   ]
  },
  {
   "cell_type": "code",
   "execution_count": 31,
   "id": "6de56213-ec4d-44ce-a3af-bf39c34664f0",
   "metadata": {},
   "outputs": [],
   "source": [
    "def convT(ni, nf, ks=4, act=True): \n",
    "    layers = [nn.ConvTranspose2d(ni, nf, stride=2, kernel_size=ks, padding=ks//2 - 1)]\n",
    "    if act: layers.append(nn.ReLU())\n",
    "    return nn.Sequential(*layers) "
   ]
  },
  {
   "cell_type": "code",
   "execution_count": 32,
   "id": "5f618f71-1f35-4ce5-888a-0c2dc858af2a",
   "metadata": {},
   "outputs": [],
   "source": [
    "t = torch.randn(1, 8, 4, 4)"
   ]
  },
  {
   "cell_type": "code",
   "execution_count": 33,
   "id": "98fab3aa-bbc9-4372-a669-4e7668f434eb",
   "metadata": {
    "tags": []
   },
   "outputs": [
    {
     "data": {
      "text/plain": [
       "torch.Size([1, 8, 4, 4])"
      ]
     },
     "execution_count": 33,
     "metadata": {},
     "output_type": "execute_result"
    }
   ],
   "source": [
    "t.shape"
   ]
  },
  {
   "cell_type": "code",
   "execution_count": 34,
   "id": "35e4a009-f680-4ac1-84e8-c6978cb130f8",
   "metadata": {
    "tags": []
   },
   "outputs": [
    {
     "data": {
      "text/plain": [
       "torch.Size([1, 4, 8, 8])"
      ]
     },
     "execution_count": 34,
     "metadata": {},
     "output_type": "execute_result"
    }
   ],
   "source": [
    "t = convT(8, 4)(t)\n",
    "t.shape"
   ]
  },
  {
   "cell_type": "code",
   "execution_count": 35,
   "id": "4efda0da-2f4d-497e-a545-98d421e6895b",
   "metadata": {
    "tags": []
   },
   "outputs": [
    {
     "data": {
      "text/plain": [
       "torch.Size([1, 2, 16, 16])"
      ]
     },
     "execution_count": 35,
     "metadata": {},
     "output_type": "execute_result"
    }
   ],
   "source": [
    "t = convT(4, 2)(t)\n",
    "t.shape"
   ]
  },
  {
   "cell_type": "code",
   "execution_count": 36,
   "id": "c6823946-b4a9-496f-8fd9-eceb7dcebde4",
   "metadata": {
    "tags": []
   },
   "outputs": [
    {
     "data": {
      "text/plain": [
       "torch.Size([1, 1, 32, 32])"
      ]
     },
     "execution_count": 36,
     "metadata": {},
     "output_type": "execute_result"
    }
   ],
   "source": [
    "t = convT(2, 1)(t)\n",
    "t.shape"
   ]
  },
  {
   "cell_type": "code",
   "execution_count": 65,
   "id": "0c0f971a-0971-4e27-a5b3-a054312a56c5",
   "metadata": {
    "tags": []
   },
   "outputs": [],
   "source": [
    "torch.manual_seed(42)\n",
    "auto_encoder2 = nn.Sequential( # 28x28\n",
    "    nn.ZeroPad2d(2), # 32x32\n",
    "    conv(1, 2), # 16x16\n",
    "#    conv(2, 4), # 8x8\n",
    "#    conv(4, 8), # 4x4\n",
    "#    conv(8, 16), # 2x2\n",
    "#    convT(16, 8),# 4x4\n",
    "#    convT(8, 4), # 8x8\n",
    "#    convT(4, 2), # 16x16\n",
    "    convT(2, 1), # 32x32\n",
    "    nn.ZeroPad2d(-2), #28x28\n",
    "    nn.Sigmoid()\n",
    ").to(device)"
   ]
  },
  {
   "cell_type": "code",
   "execution_count": 66,
   "id": "027fb677-ed3a-4ff5-87ab-efa7ca3ae680",
   "metadata": {
    "tags": []
   },
   "outputs": [],
   "source": [
    "add_hooks(auto_encoder2, 'new')"
   ]
  },
  {
   "cell_type": "code",
   "execution_count": 67,
   "id": "63c9ad33-1443-451f-8227-6e4c3e1e54de",
   "metadata": {
    "tags": []
   },
   "outputs": [
    {
     "data": {
      "application/vnd.jupyter.widget-view+json": {
       "model_id": "07113f8b1b474d39a8b7a552f31d876b",
       "version_major": 2,
       "version_minor": 0
      },
      "text/plain": [
       "  0%|          | 0/10 [00:00<?, ?it/s]"
      ]
     },
     "metadata": {},
     "output_type": "display_data"
    },
    {
     "name": "stdout",
     "output_type": "stream",
     "text": [
      "0 0.165\n",
      "1 0.164\n",
      "2 0.164\n",
      "3 0.164\n",
      "4 0.163\n",
      "5 0.163\n",
      "6 0.163\n",
      "7 0.163\n",
      "8 0.163\n",
      "9 0.163\n"
     ]
    }
   ],
   "source": [
    "opt = optim.SGD(auto_encoder2.parameters(), lr=1)\n",
    "fit(10, auto_encoder2, F.mse_loss, opt, dt, dv)"
   ]
  },
  {
   "cell_type": "code",
   "execution_count": 68,
   "id": "3601ce67-ce76-4c87-912b-575b41a332f8",
   "metadata": {
    "tags": []
   },
   "outputs": [
    {
     "data": {
      "application/vnd.jupyter.widget-view+json": {
       "model_id": "578e2f2d124641ce82bab6bbd2f04e51",
       "version_major": 2,
       "version_minor": 0
      },
      "text/plain": [
       "  0%|          | 0/20 [00:00<?, ?it/s]"
      ]
     },
     "metadata": {},
     "output_type": "display_data"
    },
    {
     "name": "stdout",
     "output_type": "stream",
     "text": [
      "0 0.163\n",
      "1 0.163\n",
      "2 0.163\n",
      "3 0.163\n",
      "4 0.163\n",
      "5 0.163\n",
      "6 0.163\n",
      "7 0.163\n",
      "8 0.163\n",
      "9 0.163\n",
      "10 0.163\n",
      "11 0.163\n",
      "12 0.163\n",
      "13 0.163\n",
      "14 0.163\n",
      "15 0.163\n",
      "16 0.163\n",
      "17 0.163\n",
      "18 0.169\n",
      "19 0.163\n"
     ]
    }
   ],
   "source": [
    "opt = optim.Adam(auto_encoder2.parameters(), lr=0.15)\n",
    "fit(20, auto_encoder2, F.mse_loss, opt, dt, dv)"
   ]
  },
  {
   "cell_type": "code",
   "execution_count": 63,
   "id": "fe42bea8-a0e5-4faf-84de-7a0c74f77d2b",
   "metadata": {
    "tags": []
   },
   "outputs": [],
   "source": [
    "preds = auto_encoder2(xb)"
   ]
  },
  {
   "cell_type": "code",
   "execution_count": 64,
   "id": "424f34f4-3747-4a78-a0aa-304160792608",
   "metadata": {
    "tags": []
   },
   "outputs": [
    {
     "data": {
      "image/png": "[encoded data removed]",
      "text/plain": [
       "<Figure size 100x100 with 1 Axes>"
      ]
     },
     "metadata": {},
     "output_type": "display_data"
    },
    {
     "data": {
      "image/png": "[encoded data removed]",
      "text/plain": [
       "<Figure size 200x100 with 2 Axes>"
      ]
     },
     "metadata": {},
     "output_type": "display_data"
    },
    {
     "data": {
      "image/png": "[encoded data removed]",
      "text/plain": [
       "<Figure size 100x100 with 1 Axes>"
      ]
     },
     "metadata": {},
     "output_type": "display_data"
    },
    {
     "data": {
      "image/png": "[encoded data removed]",
      "text/plain": [
       "<Figure size 100x100 with 1 Axes>"
      ]
     },
     "metadata": {},
     "output_type": "display_data"
    },
    {
     "data": {
      "image/png": "[encoded data removed]",
      "text/plain": [
       "<Figure size 100x100 with 1 Axes>"
      ]
     },
     "metadata": {},
     "output_type": "display_data"
    }
   ],
   "source": [
    "show_activations(auto_encoder2, 'new', 0)"
   ]
  },
  {
   "cell_type": "code",
   "execution_count": null,
   "id": "6776d90a-4001-4f41-8792-cd5435b4fffc",
   "metadata": {},
   "outputs": [],
   "source": []
  }
 ],
 "metadata": {
  "kernelspec": {
   "display_name": "Python 3 (ipykernel)",
   "language": "python",
   "name": "python3"
  },
  "language_info": {
   "codemirror_mode": {
    "name": "ipython",
    "version": 3
   },
   "file_extension": ".py",
   "mimetype": "text/x-python",
   "name": "python",
   "nbconvert_exporter": "python",
   "pygments_lexer": "ipython3",
   "version": "3.8.16"
  },
  "widgets": {
   "application/vnd.jupyter.widget-state+json": {
    "state": {
     "0c812aaff1bb4f9194c1b6fcefe41e89": {
      "model_module": "@jupyter-widgets/controls",
      "model_module_version": "2.0.0",
      "model_name": "HTMLStyleModel",
      "state": {
       "description_width": "",
       "font_size": null,
       "text_color": null
      }
     },
     "2e447d2d86724c7a9332fb35990045ca": {
      "model_module": "@jupyter-widgets/controls",
      "model_module_version": "2.0.0",
      "model_name": "ProgressStyleModel",
      "state": {
       "description_width": ""
      }
     },
     "3d8b1b241f9f4af6af595dd5f67373d9": {
      "model_module": "@jupyter-widgets/controls",
      "model_module_version": "2.0.0",
      "model_name": "HTMLModel",
      "state": {
       "layout": "IPY_MODEL_5b20a3a5f5694e1fbcb2ee140bd68b43",
       "style": "IPY_MODEL_8a31fd4c0b9b41e3932fcd306b521fcc",
       "value": " 2/2 [00:00&lt;00:00, 271.78it/s]"
      }
     },
     "4ce21892315b4a109aefe415dfedf885": {
      "model_module": "@jupyter-widgets/controls",
      "model_module_version": "2.0.0",
      "model_name": "HTMLModel",
      "state": {
       "layout": "IPY_MODEL_ed3fa0af0d234b229060c1196e2b4a6d",
       "style": "IPY_MODEL_0c812aaff1bb4f9194c1b6fcefe41e89",
       "value": "100%"
      }
     },
     "5b20a3a5f5694e1fbcb2ee140bd68b43": {
      "model_module": "@jupyter-widgets/base",
      "model_module_version": "2.0.0",
      "model_name": "LayoutModel",
      "state": {}
     },
     "637badb09ee0426e8b566531594667f0": {
      "model_module": "@jupyter-widgets/controls",
      "model_module_version": "2.0.0",
      "model_name": "FloatProgressModel",
      "state": {
       "bar_style": "success",
       "layout": "IPY_MODEL_6a7d9c63f8c341a5abb159ec58e0cefb",
       "max": 2,
       "style": "IPY_MODEL_2e447d2d86724c7a9332fb35990045ca",
       "value": 2
      }
     },
     "6a7d9c63f8c341a5abb159ec58e0cefb": {
      "model_module": "@jupyter-widgets/base",
      "model_module_version": "2.0.0",
      "model_name": "LayoutModel",
      "state": {}
     },
     "8a31fd4c0b9b41e3932fcd306b521fcc": {
      "model_module": "@jupyter-widgets/controls",
      "model_module_version": "2.0.0",
      "model_name": "HTMLStyleModel",
      "state": {
       "description_width": "",
       "font_size": null,
       "text_color": null
      }
     },
     "b86bb590d0414909b19f061cc7a3dbfc": {
      "model_module": "@jupyter-widgets/base",
      "model_module_version": "2.0.0",
      "model_name": "LayoutModel",
      "state": {}
     },
     "ed3fa0af0d234b229060c1196e2b4a6d": {
      "model_module": "@jupyter-widgets/base",
      "model_module_version": "2.0.0",
      "model_name": "LayoutModel",
      "state": {}
     },
     "fa68de0ba80c498e8903e847f494c661": {
      "model_module": "@jupyter-widgets/controls",
      "model_module_version": "2.0.0",
      "model_name": "HBoxModel",
      "state": {
       "children": [
        "IPY_MODEL_4ce21892315b4a109aefe415dfedf885",
        "IPY_MODEL_637badb09ee0426e8b566531594667f0",
        "IPY_MODEL_3d8b1b241f9f4af6af595dd5f67373d9"
       ],
       "layout": "IPY_MODEL_b86bb590d0414909b19f061cc7a3dbfc"
      }
     }
    },
    "version_major": 2,
    "version_minor": 0
   }
  }
 },
 "nbformat": 4,
 "nbformat_minor": 5
}
