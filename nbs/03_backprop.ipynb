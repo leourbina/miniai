{
 "cells": [
  {
   "cell_type": "markdown",
   "id": "90ce928a-9634-427a-b420-3ff6d844f992",
   "metadata": {},
   "source": [
    "# Forward and backward pass"
   ]
  },
  {
   "cell_type": "code",
   "execution_count": 1,
   "id": "35ed2b7b-5a6e-4078-9a7c-17ccc861a6aa",
   "metadata": {},
   "outputs": [],
   "source": [
    "import pickle, gzip, math, os, time, shutil, torch\n",
    "from pathlib import Path\n",
    "import matplotlib.pyplot as plt\n",
    "import numpy as np\n",
    "from torch import tensor\n",
    "from fastcore.test import test_close"
   ]
  },
  {
   "cell_type": "code",
   "execution_count": 2,
   "id": "cafee4a6-faa3-4e45-9d0c-5d7557d80333",
   "metadata": {},
   "outputs": [],
   "source": [
    "torch.manual_seed(42)\n",
    "torch.set_printoptions(precision=2, linewidth=125, sci_mode=False)\n",
    "np.set_printoptions(precision=2, linewidth=125)\n",
    "plt.style.use('fast')"
   ]
  },
  {
   "cell_type": "code",
   "execution_count": 3,
   "id": "06b7a2e1-e93b-4b6d-979a-3fddd6a7010c",
   "metadata": {},
   "outputs": [],
   "source": [
    "path_data = Path('./data')\n",
    "path_gz = path_data/'mnist.pkl.gz'\n",
    "with gzip.open(path_gz, 'rb') as f: \n",
    "    ((x_train, y_train), (x_valid, y_valid), _) = pickle.load(f, encoding='latin-1')"
   ]
  },
  {
   "cell_type": "code",
   "execution_count": 4,
   "id": "7c146fac-ab86-4ea9-8d67-9629afbd19d7",
   "metadata": {},
   "outputs": [],
   "source": [
    "x_train, y_train, x_valid, y_valid = map(tensor, [x_train, y_train, x_valid, y_valid])"
   ]
  },
  {
   "cell_type": "markdown",
   "id": "2e3d4e51-02f1-4b78-b277-91cfd077ec63",
   "metadata": {},
   "source": [
    "# Foundations\n",
    "## Basic architecture"
   ]
  },
  {
   "cell_type": "code",
   "execution_count": 5,
   "id": "590ea1a4-5f14-43dd-9046-3dfd5bba436c",
   "metadata": {},
   "outputs": [
    {
     "data": {
      "text/plain": [
       "(50000, 784, tensor(10))"
      ]
     },
     "execution_count": 5,
     "metadata": {},
     "output_type": "execute_result"
    }
   ],
   "source": [
    "n, m = x_train.shape\n",
    "c = y_train.max() + 1\n",
    "n, m, c"
   ]
  },
  {
   "cell_type": "code",
   "execution_count": 6,
   "id": "bb09e544-1f58-41f4-b453-e8005eb57ced",
   "metadata": {},
   "outputs": [],
   "source": [
    "num_hidden = 50"
   ]
  },
  {
   "cell_type": "code",
   "execution_count": 7,
   "id": "1bb5a321-eb39-4031-8242-578c0d10c5e5",
   "metadata": {},
   "outputs": [],
   "source": [
    "w1 = torch.randn(m, num_hidden)\n",
    "b1 = torch.zeros(num_hidden)\n",
    "\n",
    "w2 = torch.randn(num_hidden, 1)\n",
    "b2 = torch.zeros(1)"
   ]
  },
  {
   "cell_type": "code",
   "execution_count": 8,
   "id": "3ed5d382-851e-4259-aacb-8ecc2a6893b7",
   "metadata": {},
   "outputs": [],
   "source": [
    "def lin(x, w, b): return x@w + b"
   ]
  },
  {
   "cell_type": "code",
   "execution_count": 9,
   "id": "3a777901-cb6e-40d8-b0ad-f2680f8047f8",
   "metadata": {},
   "outputs": [
    {
     "data": {
      "text/plain": [
       "torch.Size([10000, 50])"
      ]
     },
     "execution_count": 9,
     "metadata": {},
     "output_type": "execute_result"
    }
   ],
   "source": [
    "t = lin(x_valid, w1, b1)\n",
    "t.shape"
   ]
  },
  {
   "cell_type": "code",
   "execution_count": 10,
   "id": "5ec14fe2-0eba-4e20-93b8-8a9867c09c91",
   "metadata": {},
   "outputs": [],
   "source": [
    "def relu(x): return x.clamp_min(0.)"
   ]
  },
  {
   "cell_type": "code",
   "execution_count": 11,
   "id": "1fc93d08-5e73-4c81-9f5f-0586cc7fac4b",
   "metadata": {},
   "outputs": [
    {
     "data": {
      "text/plain": [
       "tensor([[ 0.00, 11.87,  0.00,  ...,  5.48,  2.14, 15.30],\n",
       "        [ 5.38, 10.21,  0.00,  ...,  0.88,  0.08, 20.23],\n",
       "        [ 3.31,  0.12,  3.10,  ..., 16.89,  0.00, 24.74],\n",
       "        ...,\n",
       "        [ 4.01, 10.35,  0.00,  ...,  0.23,  0.00, 18.28],\n",
       "        [10.62,  0.00, 10.72,  ...,  0.00,  0.00, 18.23],\n",
       "        [ 2.84,  0.00,  1.43,  ...,  0.00,  5.75,  2.12]])"
      ]
     },
     "execution_count": 11,
     "metadata": {},
     "output_type": "execute_result"
    }
   ],
   "source": [
    "t = relu(t)\n",
    "t"
   ]
  },
  {
   "cell_type": "code",
   "execution_count": 12,
   "id": "d503cc2f-409e-4d90-b7da-b2e53ddd1778",
   "metadata": {},
   "outputs": [],
   "source": [
    "def model(xb):\n",
    "    l1 = lin(xb, w1, b1)\n",
    "    l2 = relu(l1)\n",
    "    return lin(l2, w2, b2)"
   ]
  },
  {
   "cell_type": "code",
   "execution_count": 13,
   "id": "1ac0e05b-c3a5-43d0-8d02-e7414f4f0b74",
   "metadata": {},
   "outputs": [
    {
     "data": {
      "text/plain": [
       "torch.Size([10000, 1])"
      ]
     },
     "execution_count": 13,
     "metadata": {},
     "output_type": "execute_result"
    }
   ],
   "source": [
    "res = model(x_valid)\n",
    "res.shape"
   ]
  },
  {
   "cell_type": "markdown",
   "id": "e2581bd5-36b6-4059-97a4-0e4d15cef366",
   "metadata": {},
   "source": [
    "## Loss: MSE\n",
    "\n",
    "For now, technically we should be using cross-entropy"
   ]
  },
  {
   "cell_type": "code",
   "execution_count": 14,
   "id": "1e94835a-c82e-4fe4-aa85-0736292846bc",
   "metadata": {},
   "outputs": [
    {
     "data": {
      "text/plain": [
       "(torch.Size([10000, 1]), torch.Size([10000]))"
      ]
     },
     "execution_count": 14,
     "metadata": {},
     "output_type": "execute_result"
    }
   ],
   "source": [
    "res.shape, y_valid.shape"
   ]
  },
  {
   "cell_type": "code",
   "execution_count": 15,
   "id": "8478c3ed-1b95-440c-a104-7e5ff99b7649",
   "metadata": {},
   "outputs": [
    {
     "data": {
      "text/plain": [
       "torch.Size([10000])"
      ]
     },
     "execution_count": 15,
     "metadata": {},
     "output_type": "execute_result"
    }
   ],
   "source": [
    "(res.squeeze() - y_valid).shape"
   ]
  },
  {
   "cell_type": "code",
   "execution_count": 16,
   "id": "54c4b1c3-0b96-4d30-bb40-77be972732db",
   "metadata": {},
   "outputs": [
    {
     "data": {
      "text/plain": [
       "torch.Size([10000])"
      ]
     },
     "execution_count": 16,
     "metadata": {},
     "output_type": "execute_result"
    }
   ],
   "source": [
    "res[:, 0].shape # Equivalent to the above squeeze"
   ]
  },
  {
   "cell_type": "code",
   "execution_count": 17,
   "id": "a437efc9-b9b2-4f00-8261-9d3f66a9a894",
   "metadata": {},
   "outputs": [
    {
     "data": {
      "text/plain": [
       "torch.Size([50000, 1])"
      ]
     },
     "execution_count": 17,
     "metadata": {},
     "output_type": "execute_result"
    }
   ],
   "source": [
    "y_train, y_valid = y_train.float(), y_valid.float()\n",
    "preds = model(x_train)\n",
    "preds.shape"
   ]
  },
  {
   "cell_type": "code",
   "execution_count": 18,
   "id": "a60bd976-42ee-4685-aa0b-25f79e0cf123",
   "metadata": {},
   "outputs": [],
   "source": [
    "def mse(output, target): return ((output[:, 0] - target)**2).mean()"
   ]
  },
  {
   "cell_type": "code",
   "execution_count": 19,
   "id": "83ae6042-0622-49a0-9e34-836070c1bee0",
   "metadata": {},
   "outputs": [
    {
     "data": {
      "text/plain": [
       "tensor(4308.76)"
      ]
     },
     "execution_count": 19,
     "metadata": {},
     "output_type": "execute_result"
    }
   ],
   "source": [
    "mse(preds, y_train)"
   ]
  },
  {
   "cell_type": "markdown",
   "id": "4939da73-cb10-49a8-af3f-a9d6c85530e1",
   "metadata": {},
   "source": [
    "# Gradients and backward pass"
   ]
  },
  {
   "cell_type": "code",
   "execution_count": 20,
   "id": "e5e62de7-0253-424f-a8a9-e324bb19bbbc",
   "metadata": {},
   "outputs": [
    {
     "name": "stdout",
     "output_type": "stream",
     "text": [
      "Requirement already satisfied: sympy in /usr/local/lib/python3.9/dist-packages (1.11.1)\n",
      "Requirement already satisfied: mpmath>=0.19 in /usr/local/lib/python3.9/dist-packages (from sympy) (1.2.1)\n",
      "\u001b[33mWARNING: Running pip as the 'root' user can result in broken permissions and conflicting behaviour with the system package manager. It is recommended to use a virtual environment instead: https://pip.pypa.io/warnings/venv\u001b[0m\u001b[33m\n",
      "\u001b[0m"
     ]
    }
   ],
   "source": [
    "!pip install sympy"
   ]
  },
  {
   "cell_type": "code",
   "execution_count": 21,
   "id": "fca1c13a-be76-4952-bd3b-b47decaf6bbe",
   "metadata": {},
   "outputs": [],
   "source": [
    "from sympy import symbols, diff"
   ]
  },
  {
   "cell_type": "code",
   "execution_count": 22,
   "id": "2b2ca7a7-df3a-4e96-a624-f50afa4c6354",
   "metadata": {},
   "outputs": [
    {
     "data": {
      "text/plain": [
       "(2*x, 0)"
      ]
     },
     "execution_count": 22,
     "metadata": {},
     "output_type": "execute_result"
    }
   ],
   "source": [
    "x, y = symbols('x y')\n",
    "diff(x**2, x), diff(x**2, y)"
   ]
  },
  {
   "cell_type": "code",
   "execution_count": 23,
   "id": "63ff041a-4145-4916-8f87-cebc171f5e9f",
   "metadata": {},
   "outputs": [],
   "source": [
    "def lin_grad(inp, out, w, b):\n",
    "    inp.g = out.g @ w.t() # the derivative is just the weights, multiply by the output gradients bc of chain rule\n",
    "    print(f'inp.g {inp.g}')\n",
    "    w.g = inp.t() @ out.g\n",
    "    print(f'w.g {w.g}')\n",
    "    b.g = out.g.sum(0)\n",
    "    print(f'b.g {b.g}')"
   ]
  },
  {
   "cell_type": "code",
   "execution_count": 24,
   "id": "bb72c0d4-9719-4fa6-93de-4877cd1f07d5",
   "metadata": {},
   "outputs": [],
   "source": [
    "def forward_and_backward(inp, target):\n",
    "    # forward\n",
    "    l1 = lin(inp, w1, b1)\n",
    "    l2 = relu(l1)\n",
    "    out = lin(l2, w2, b2)\n",
    "    diff = out[:, 0] - target\n",
    "    loss = diff.pow(2).mean()\n",
    "    print(loss)\n",
    "    \n",
    "    # backward\n",
    "    out.g = 2.*diff[:,None] / inp.shape[0] # divide by batchsize as before we took the mean\n",
    "    print(f\"mse.g {out.g}\")\n",
    "    lin_grad(l2, out, w2, b2)\n",
    "    l1.g = (l1>0).float() * l2.g # slope is 1 if > 0, otherwise 0\n",
    "    lin_grad(inp, l1, w1, b1)\n",
    "    "
   ]
  },
  {
   "cell_type": "code",
   "execution_count": 25,
   "id": "e8f7514a-f52f-4557-9edd-34a622bfc14d",
   "metadata": {},
   "outputs": [
    {
     "name": "stdout",
     "output_type": "stream",
     "text": [
      "tensor(4308.76)\n",
      "mse.g tensor([[-0.00],\n",
      "        [-0.00],\n",
      "        [ 0.00],\n",
      "        ...,\n",
      "        [-0.00],\n",
      "        [-0.00],\n",
      "        [-0.00]])\n",
      "inp.g tensor([[     0.00,     -0.00,     -0.00,  ...,      0.00,     -0.00,      0.00],\n",
      "        [     0.00,     -0.00,     -0.00,  ...,      0.00,     -0.01,      0.01],\n",
      "        [    -0.00,      0.00,      0.00,  ...,     -0.00,      0.00,     -0.00],\n",
      "        ...,\n",
      "        [     0.00,     -0.00,     -0.00,  ...,      0.00,     -0.00,      0.00],\n",
      "        [     0.00,     -0.00,     -0.00,  ...,      0.00,     -0.00,      0.00],\n",
      "        [     0.00,     -0.00,     -0.00,  ...,      0.00,     -0.00,      0.00]])\n",
      "w.g tensor([[ -869.79],\n",
      "        [ -622.49],\n",
      "        [ -165.30],\n",
      "        [ -468.34],\n",
      "        [ -837.93],\n",
      "        [ -687.30],\n",
      "        [ -559.73],\n",
      "        [ -637.38],\n",
      "        [ -176.24],\n",
      "        [  -10.81],\n",
      "        [ -993.01],\n",
      "        [ -533.38],\n",
      "        [ -730.86],\n",
      "        [  -54.01],\n",
      "        [ -451.91],\n",
      "        [ -156.28],\n",
      "        [ -567.42],\n",
      "        [  -61.53],\n",
      "        [  -15.62],\n",
      "        [ -463.00],\n",
      "        [  -79.85],\n",
      "        [ -582.16],\n",
      "        [  -11.21],\n",
      "        [-1023.28],\n",
      "        [ -140.96],\n",
      "        [-1357.97],\n",
      "        [-1326.60],\n",
      "        [ -115.92],\n",
      "        [ -125.99],\n",
      "        [   -4.39],\n",
      "        [ -601.42],\n",
      "        [ -508.06],\n",
      "        [ -505.85],\n",
      "        [ -301.20],\n",
      "        [ -549.87],\n",
      "        [  -13.01],\n",
      "        [ -900.70],\n",
      "        [ -179.80],\n",
      "        [ -117.92],\n",
      "        [-1531.71],\n",
      "        [ -295.88],\n",
      "        [ -327.67],\n",
      "        [ -642.84],\n",
      "        [   -7.32],\n",
      "        [-1333.88],\n",
      "        [  -10.38],\n",
      "        [ -198.15],\n",
      "        [ -561.56],\n",
      "        [  -53.83],\n",
      "        [-1659.88]])\n",
      "b.g tensor([-94.72])\n",
      "inp.g tensor([[    -0.00,     -0.01,      0.00,  ...,     -0.00,      0.00,      0.00],\n",
      "        [    -0.03,     -0.03,      0.01,  ...,     -0.04,     -0.01,     -0.01],\n",
      "        [     0.00,      0.00,     -0.00,  ...,      0.00,     -0.00,      0.00],\n",
      "        ...,\n",
      "        [    -0.00,     -0.02,      0.01,  ...,     -0.00,     -0.00,      0.00],\n",
      "        [    -0.02,     -0.01,      0.01,  ...,     -0.01,      0.01,     -0.00],\n",
      "        [    -0.00,     -0.00,      0.00,  ...,     -0.00,     -0.00,     -0.00]])\n",
      "w.g tensor([[0., 0., 0.,  ..., 0., 0., 0.],\n",
      "        [0., 0., 0.,  ..., 0., 0., 0.],\n",
      "        [0., 0., 0.,  ..., 0., 0., 0.],\n",
      "        ...,\n",
      "        [0., 0., 0.,  ..., 0., 0., 0.],\n",
      "        [0., 0., 0.,  ..., 0., 0., 0.],\n",
      "        [0., 0., 0.,  ..., 0., 0., 0.]])\n",
      "b.g tensor([  70.79,  -37.62,  -32.37,    1.94,  137.51,  156.77,   -8.27,  -85.31,   12.42,   -4.87,  226.09,  -68.17,  -26.81,\n",
      "          -8.77,   47.66,   24.69,   34.13,   15.55,   -3.06,   59.60,  -29.54,  -75.44,   -0.26,  -57.49,  -32.55,  -71.69,\n",
      "          21.53,   13.06,   16.55,   -9.94,  -24.30, -107.27,   26.32,  -27.31,  -44.95,    2.09,   28.37,   -6.79,   21.03,\n",
      "         241.54,    4.89,  -35.04,  -11.42,    1.94,  -24.57,    1.54,   37.57,    0.34,  -30.61,  140.96])\n"
     ]
    }
   ],
   "source": [
    "forward_and_backward(x_train, y_train)"
   ]
  },
  {
   "cell_type": "code",
   "execution_count": 26,
   "id": "1a7b5be0-96cb-4855-bbe3-4ac9c5d92232",
   "metadata": {},
   "outputs": [],
   "source": [
    "# Save for later testing\n",
    "def get_grad(x): return x.g.clone()\n",
    "checks = w1, w2, b1, b2, x_train\n",
    "grads = w1g, w2g, b1g, b2g, ig = tuple(map(get_grad, checks))"
   ]
  },
  {
   "cell_type": "code",
   "execution_count": 27,
   "id": "59cd1010-5216-47f6-8a48-23d4e6426131",
   "metadata": {},
   "outputs": [],
   "source": [
    "# cheat using pytorch\n",
    "def mkgrad(x): return x.clone().requires_grad_(True)\n",
    "ptgrads = w12, w22, b12, b22, xt2 = tuple(map(mkgrad, checks))"
   ]
  },
  {
   "cell_type": "code",
   "execution_count": 28,
   "id": "e21d7f7c-7bc3-4df8-8fe6-be6c4d1746ad",
   "metadata": {},
   "outputs": [],
   "source": [
    "def forward(inp, target):\n",
    "    l1 = lin(inp, w12, b12)\n",
    "    l2 = relu(l1)\n",
    "    out = lin(l2, w22, b22)\n",
    "    return mse(out, target)"
   ]
  },
  {
   "cell_type": "code",
   "execution_count": 29,
   "id": "f4fdf21e-5674-4db2-996b-1c465a76f5ba",
   "metadata": {},
   "outputs": [],
   "source": [
    "loss = forward(xt2, y_train)\n",
    "loss.backward()"
   ]
  },
  {
   "cell_type": "code",
   "execution_count": 30,
   "id": "972d6b45-9383-4bdc-b0c4-ba7d6af0feb6",
   "metadata": {},
   "outputs": [],
   "source": [
    "from IPython.core.debugger import set_trace"
   ]
  },
  {
   "cell_type": "code",
   "execution_count": 31,
   "id": "f34a09a8-3d49-4921-8c5a-8f426de4a4d1",
   "metadata": {},
   "outputs": [],
   "source": [
    "for i, (a, b) in enumerate(zip(grads, ptgrads)): \n",
    "    test_close(a, b.grad, eps=1e-3)"
   ]
  },
  {
   "cell_type": "markdown",
   "id": "6a5ab912-d105-41e5-ade9-70038d463455",
   "metadata": {},
   "source": [
    "# Refactor"
   ]
  },
  {
   "cell_type": "code",
   "execution_count": 32,
   "id": "17e765a5-8ed1-4f2a-bbb5-8f2c0fab2ed5",
   "metadata": {},
   "outputs": [],
   "source": [
    "class Relu():\n",
    "    def __call__(self, inp):\n",
    "        self.inp = inp\n",
    "        self.out = inp.clamp_min(0.)\n",
    "        return self.out\n",
    "    \n",
    "    def backward(self):\n",
    "        self.inp.g = (self.inp > 0).float() * self.out.g"
   ]
  },
  {
   "cell_type": "code",
   "execution_count": 33,
   "id": "6e248e37-dd66-4b8a-b545-7ca52d8d69a6",
   "metadata": {},
   "outputs": [],
   "source": [
    "class Lin():\n",
    "    def __init__(self, w, b): self.w, self.b = w, b\n",
    "    \n",
    "    def __call__(self, inp):\n",
    "        self.inp = inp\n",
    "        self.out = lin(inp, self.w, self.b)\n",
    "        return self.out\n",
    "    \n",
    "    def backward(self):\n",
    "        self.inp.g = self.out.g @ self.w.t()\n",
    "        self.w.g = self.inp.t() @ self.out.g\n",
    "        self.b.g = self.out.g.sum(0) "
   ]
  },
  {
   "cell_type": "code",
   "execution_count": 34,
   "id": "1a689a41-d6c2-42d7-a3ae-49f0884315c8",
   "metadata": {},
   "outputs": [],
   "source": [
    "class Mse():\n",
    "    def __call__(self, inp, target):\n",
    "        self.inp, self.target = inp, target\n",
    "        self.out = mse(inp, target)\n",
    "        return self.out\n",
    "    \n",
    "    def backward(self):\n",
    "        self.inp.g = 2. * (self.inp.squeeze() - self.target).unsqueeze(-1) / self.target.shape[0]"
   ]
  },
  {
   "cell_type": "code",
   "execution_count": 35,
   "id": "752a532f-f782-4a74-81a4-881c426ef018",
   "metadata": {},
   "outputs": [],
   "source": [
    "class Model():\n",
    "    def __init__(self, w1, b1, w2, b2):\n",
    "        self.layers = [Lin(w1,b1), Relu(), Lin(w2, b2)]\n",
    "        self.loss = Mse()\n",
    "        \n",
    "    def __call__(self, x, target):\n",
    "        for l in self.layers: x = l(x)\n",
    "        return self.loss(x, target)\n",
    "    \n",
    "    def backward(self):\n",
    "        self.loss.backward()\n",
    "        for l in reversed(self.layers): l.backward()"
   ]
  },
  {
   "cell_type": "code",
   "execution_count": 36,
   "id": "dceb6ffd-d3b6-4acc-9b1d-46b1c5273a42",
   "metadata": {},
   "outputs": [],
   "source": [
    "model = Model(w1, b1, w2, b2)"
   ]
  },
  {
   "cell_type": "code",
   "execution_count": 37,
   "id": "78b9c8a0-e8a9-4ecb-a6d9-06349a54dc71",
   "metadata": {},
   "outputs": [
    {
     "data": {
      "text/plain": [
       "tensor(4308.76)"
      ]
     },
     "execution_count": 37,
     "metadata": {},
     "output_type": "execute_result"
    }
   ],
   "source": [
    "loss = model(x_train, y_train); loss"
   ]
  },
  {
   "cell_type": "code",
   "execution_count": 38,
   "id": "a040e7a7-71ce-4a79-8ca2-cac2b630843e",
   "metadata": {},
   "outputs": [],
   "source": [
    "model.backward()"
   ]
  },
  {
   "cell_type": "code",
   "execution_count": 39,
   "id": "e9052456-0148-4ea4-9f4f-9a7b66b3e854",
   "metadata": {},
   "outputs": [],
   "source": [
    "test_close(w2g, w2.g, eps=0.01)\n",
    "test_close(b2g, b2.g, eps=0.01)\n",
    "test_close(w1g, w1.g, eps=0.01)\n",
    "test_close(b1g, b1.g, eps=0.01)\n",
    "test_close(ig, x_train.g, eps=0.01)"
   ]
  },
  {
   "cell_type": "markdown",
   "id": "0562e477-60ef-4aac-8ecb-4e13c12367ae",
   "metadata": {},
   "source": [
    "# Module.forward()"
   ]
  },
  {
   "cell_type": "code",
   "execution_count": 40,
   "id": "73285215-501e-4671-a9de-057b7007576f",
   "metadata": {},
   "outputs": [],
   "source": [
    "class Module():\n",
    "    def __call__(self, *args):\n",
    "        self.args = args\n",
    "        self.out = self.forward(*args)\n",
    "        return self.out\n",
    "\n",
    "    def forward(self): raise Exception(\"not implmented\")\n",
    "    def backward(self): self.bwd(self.out, *self.args)\n",
    "    def bwd(self): raise Exception(\"not implemented\")"
   ]
  },
  {
   "cell_type": "code",
   "execution_count": 41,
   "id": "c3542e33-63d2-46a1-98bd-0536ad2d97dd",
   "metadata": {},
   "outputs": [],
   "source": [
    "class Relu(Module):\n",
    "    def forward(self, inp): return inp.clamp_min(0.)\n",
    "    def bwd(self, out, inp): inp.g = (inp > 0).float() * out.g"
   ]
  },
  {
   "cell_type": "code",
   "execution_count": 42,
   "id": "9978aa6a-f826-4ba3-8124-7ab74f26218d",
   "metadata": {},
   "outputs": [],
   "source": [
    "class Lin(Module):\n",
    "    def __init__(self, w, b): self.w, self.b = w, b\n",
    "    def forward(self, inp): return inp @ self.w + self.b\n",
    "    def bwd(self, out, inp):\n",
    "        inp.g = self.out.g @ self.w.t()\n",
    "        self.w.g = inp.t() @ self.out.g\n",
    "        self.b.g = self.out.g.sum(0)         "
   ]
  },
  {
   "cell_type": "code",
   "execution_count": 43,
   "id": "b60b4b4b-fd58-4061-9776-76e61ba30df3",
   "metadata": {},
   "outputs": [],
   "source": [
    "class Mse(Module):\n",
    "    def forward(self, inp, target): \n",
    "        self.diff = inp.squeeze() - target\n",
    "        return self.diff.pow(2).mean()\n",
    "    def bwd(self, out, inp, target): \n",
    "        inp.g = 2. * self.diff.unsqueeze(-1) / target.shape[0]        "
   ]
  },
  {
   "cell_type": "code",
   "execution_count": 44,
   "id": "163e9418-06be-4df2-bc0f-2dff1ea3be35",
   "metadata": {},
   "outputs": [],
   "source": [
    "model = Model(w1, b1, w2, b2)"
   ]
  },
  {
   "cell_type": "code",
   "execution_count": 45,
   "id": "2faee9f9-be1e-45fc-9e68-b4b13a702baf",
   "metadata": {},
   "outputs": [],
   "source": [
    "loss = model(x_train, y_train)"
   ]
  },
  {
   "cell_type": "code",
   "execution_count": 46,
   "id": "e85ad654-eb9a-48f7-a18f-8001c026de07",
   "metadata": {},
   "outputs": [],
   "source": [
    "model.backward()"
   ]
  },
  {
   "cell_type": "code",
   "execution_count": 47,
   "id": "41b3d583-93ed-450b-9f32-abdd6f15341b",
   "metadata": {},
   "outputs": [],
   "source": [
    "test_close(w2g, w2.g, eps=0.01)\n",
    "test_close(b2g, b2.g, eps=0.01)\n",
    "test_close(w1g, w1.g, eps=0.01)\n",
    "test_close(b1g, b1.g, eps=0.01)\n",
    "test_close(ig, x_train.g, eps=0.01)"
   ]
  },
  {
   "cell_type": "markdown",
   "id": "81816008-079c-4ed5-810b-6487554c0bfb",
   "metadata": {},
   "source": [
    "# Autograd"
   ]
  },
  {
   "cell_type": "code",
   "execution_count": 48,
   "id": "3917a7a8-e35b-45bf-8443-7375e1703d5e",
   "metadata": {},
   "outputs": [],
   "source": [
    "from torch import nn\n",
    "import torch.nn.functional as F"
   ]
  },
  {
   "cell_type": "code",
   "execution_count": 49,
   "id": "5afa69f0-790f-46c2-baba-cc1c03549902",
   "metadata": {},
   "outputs": [],
   "source": [
    "class Linear(nn.Module):\n",
    "    def __init__(self, n_in, n_out):\n",
    "        super().__init__()\n",
    "        self.w = torch.randn(n_in, n_out).requires_grad_()\n",
    "        self.b = torch.zeros(n_out).requires_grad_()\n",
    "        \n",
    "    def forward(self, inp): \n",
    "        result = inp@self.w + self.b\n",
    "        return result"
   ]
  },
  {
   "cell_type": "code",
   "execution_count": 50,
   "id": "acc067ff-9233-47f4-8dce-bc3e07fadf74",
   "metadata": {},
   "outputs": [],
   "source": [
    "class Model(nn.Module):\n",
    "    def __init__(self, n_in, nh, n_out):\n",
    "        super().__init__()\n",
    "        self.layers = [Linear(n_in, nh), nn.ReLU(), Linear(nh, n_out)]\n",
    "        \n",
    "    def __call__(self, x, target):\n",
    "        for l in self.layers: x = l(x)\n",
    "        return F.mse_loss(x, target[:, None])\n",
    "        "
   ]
  },
  {
   "cell_type": "code",
   "execution_count": 51,
   "id": "71a06de7-0707-49dc-a511-20273d39bcc1",
   "metadata": {},
   "outputs": [],
   "source": [
    "model = Model(m, num_hidden, 1)\n",
    "loss = model(x_train, y_train)\n",
    "loss.backward()\n"
   ]
  },
  {
   "cell_type": "code",
   "execution_count": 52,
   "id": "3ecd06e4-2c72-404f-984e-35c1cdf3518a",
   "metadata": {},
   "outputs": [
    {
     "data": {
      "text/plain": [
       "tensor([-19.60,  -2.40,  -0.12,   1.99,  12.78, -15.32, -18.45,   0.35,   3.75,  14.67,  10.81,  12.20,  -2.95, -28.33,\n",
       "          0.76,  69.15, -21.86,  49.78,  -7.08,   1.45,  25.20,  11.27, -18.15, -13.13, -17.69, -10.42,  -0.13, -18.89,\n",
       "        -34.81,  -0.84,  40.89,   4.45,  62.35,  31.70,  55.15,  45.13,   3.25,  12.75,  12.45,  -1.41,   4.55,  -6.02,\n",
       "        -62.51,  -1.89,  -1.41,   7.00,   0.49,  18.72,  -4.84,  -6.52])"
      ]
     },
     "execution_count": 52,
     "metadata": {},
     "output_type": "execute_result"
    }
   ],
   "source": [
    "l0 = model.layers[0]\n",
    "l0.b.grad"
   ]
  },
  {
   "cell_type": "code",
   "execution_count": null,
   "id": "a64a02a2-9183-405d-8422-8237855cba20",
   "metadata": {},
   "outputs": [],
   "source": []
  },
  {
   "cell_type": "code",
   "execution_count": null,
   "id": "cf22e8fe-bdab-48b6-9d29-5cd5a7c6e7ca",
   "metadata": {},
   "outputs": [],
   "source": []
  }
 ],
 "metadata": {
  "kernelspec": {
   "display_name": "Python 3 (ipykernel)",
   "language": "python",
   "name": "python3"
  },
  "language_info": {
   "codemirror_mode": {
    "name": "ipython",
    "version": 3
   },
   "file_extension": ".py",
   "mimetype": "text/x-python",
   "name": "python",
   "nbconvert_exporter": "python",
   "pygments_lexer": "ipython3",
   "version": "3.11.3"
  }
 },
 "nbformat": 4,
 "nbformat_minor": 5
}
