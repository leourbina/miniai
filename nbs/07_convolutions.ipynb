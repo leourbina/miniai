{
 "cells": [
  {
   "cell_type": "code",
   "execution_count": 1,
   "id": "a0f80c9f-155b-493b-82c6-7b657599eb8c",
   "metadata": {},
   "outputs": [],
   "source": [
    "#|default_exp conv"
   ]
  },
  {
   "cell_type": "code",
   "execution_count": 2,
   "id": "b6a95d57-5a56-4468-9618-63f42070b0d9",
   "metadata": {},
   "outputs": [],
   "source": [
    "import sys; sys.path.append('/notebooks')"
   ]
  },
  {
   "cell_type": "markdown",
   "id": "87cf748a-5fee-485f-9c25-a931942a6f01",
   "metadata": {},
   "source": [
    "# Convolutions"
   ]
  },
  {
   "cell_type": "code",
   "execution_count": 3,
   "id": "edcf6abc-1d93-4386-9e31-771245d0a0cb",
   "metadata": {},
   "outputs": [],
   "source": [
    "#|export\n",
    "import torch\n",
    "from torch import nn\n",
    "from torch.utils.data import default_collate\n",
    "from typing import Mapping\n",
    "\n",
    "from miniai.training import * \n",
    "from miniai.datasets import * "
   ]
  },
  {
   "cell_type": "code",
   "execution_count": 8,
   "id": "77565e81-0c86-4733-bdfd-3842bf9618ea",
   "metadata": {},
   "outputs": [],
   "source": [
    "import pickle, gzip, math, os, time, shutil\n",
    "import pandas as pd\n",
    "import matplotlib as mpl\n",
    "import matplotlib.pyplot as plt\n",
    "import numpy as np\n",
    "from pathlib import Path\n",
    "from torch import tensor\n",
    "from torch.utils.data import DataLoader\n",
    "from typing import Mapping\n",
    "from fastcore.test import test_close\n",
    "from IPython.core.debugger import set_trace\n",
    "\n",
    "plt.style.use('grayscale')\n",
    "\n",
    "torch_device = 'cpu'\n",
    "device = torch.device(torch_device)\n"
   ]
  },
  {
   "cell_type": "code",
   "execution_count": 29,
   "id": "c8ef1ff7-afc1-4a8c-87be-ba19560ae637",
   "metadata": {},
   "outputs": [],
   "source": [
    "path_data = Path('./data')"
   ]
  },
  {
   "cell_type": "code",
   "execution_count": 30,
   "id": "313515b6-2f52-4ccb-9fd9-d274e8d88c80",
   "metadata": {},
   "outputs": [],
   "source": [
    "path_gz = path_data / 'mnist.pkl.gz'\n",
    "with gzip.open(path_gz, 'rb') as f: ((x_train, y_train), (x_valid, y_valid), _) = pickle.load(f, encoding='latin-1')\n",
    "x_train, y_train, x_valid, y_valid = map(tensor, [x_train, y_train, x_valid, y_valid])"
   ]
  },
  {
   "cell_type": "code",
   "execution_count": 31,
   "id": "565b84a8-4560-467f-a32b-977881bf6e1a",
   "metadata": {},
   "outputs": [],
   "source": [
    "x_imgs = x_train.view(-1, 28, 28)\n",
    "xv_imgs = x_valid.view(-1, 28, 28)"
   ]
  },
  {
   "cell_type": "code",
   "execution_count": 32,
   "id": "41de5a9d-ddfb-4e49-a652-d26888d9b470",
   "metadata": {},
   "outputs": [
    {
     "data": {
      "image/png": "[encoded data removed]",
      "text/plain": [
       "<Figure size 432x288 with 1 Axes>"
      ]
     },
     "metadata": {},
     "output_type": "display_data"
    }
   ],
   "source": [
    "im3 = x_imgs[7]\n",
    "show_image(im3);"
   ]
  },
  {
   "cell_type": "code",
   "execution_count": 33,
   "id": "c3ae3765-2879-49bc-be24-eb63ec98626a",
   "metadata": {},
   "outputs": [],
   "source": [
    "top_edge = tensor([[-1, -1, -1],\n",
    "                  [0, 0, 0],\n",
    "                  [1, 1, 1]]).float()"
   ]
  },
  {
   "cell_type": "code",
   "execution_count": 34,
   "id": "e1c6fba4-98f8-4077-b065-a97cd35b265a",
   "metadata": {},
   "outputs": [
    {
     "data": {
      "image/png": "[encoded data removed]",
      "text/plain": [
       "<Figure size 432x288 with 1 Axes>"
      ]
     },
     "metadata": {},
     "output_type": "display_data"
    }
   ],
   "source": [
    "show_image(top_edge, noframe=False);"
   ]
  },
  {
   "cell_type": "code",
   "execution_count": 35,
   "id": "60a4331b-e8e7-4117-a403-25a8c4807bee",
   "metadata": {},
   "outputs": [
    {
     "data": {
      "text/html": [
       "<style type=\"text/css\">\n",
       "#T_93e48_row0_col0, #T_93e48_row0_col1, #T_93e48_row0_col2, #T_93e48_row0_col3, #T_93e48_row0_col4, #T_93e48_row0_col5, #T_93e48_row0_col6, #T_93e48_row0_col7, #T_93e48_row0_col8, #T_93e48_row0_col9, #T_93e48_row0_col10, #T_93e48_row0_col11, #T_93e48_row0_col12, #T_93e48_row0_col13, #T_93e48_row0_col14, #T_93e48_row0_col15, #T_93e48_row0_col16, #T_93e48_row0_col17, #T_93e48_row0_col18, #T_93e48_row0_col19, #T_93e48_row0_col20, #T_93e48_row0_col21, #T_93e48_row0_col22, #T_93e48_row1_col0, #T_93e48_row1_col1, #T_93e48_row1_col2, #T_93e48_row1_col3, #T_93e48_row1_col4, #T_93e48_row1_col5, #T_93e48_row1_col6, #T_93e48_row1_col7, #T_93e48_row1_col8, #T_93e48_row1_col9, #T_93e48_row1_col10, #T_93e48_row1_col11, #T_93e48_row1_col12, #T_93e48_row1_col13, #T_93e48_row1_col14, #T_93e48_row1_col15, #T_93e48_row1_col16, #T_93e48_row1_col17, #T_93e48_row1_col18, #T_93e48_row1_col19, #T_93e48_row1_col20, #T_93e48_row1_col21, #T_93e48_row1_col22, #T_93e48_row2_col0, #T_93e48_row2_col1, #T_93e48_row2_col2, #T_93e48_row2_col3, #T_93e48_row2_col4, #T_93e48_row2_col5, #T_93e48_row2_col6, #T_93e48_row2_col7, #T_93e48_row2_col8, #T_93e48_row2_col9, #T_93e48_row2_col10, #T_93e48_row2_col11, #T_93e48_row2_col12, #T_93e48_row2_col13, #T_93e48_row2_col14, #T_93e48_row2_col15, #T_93e48_row2_col16, #T_93e48_row2_col17, #T_93e48_row2_col18, #T_93e48_row2_col19, #T_93e48_row2_col20, #T_93e48_row2_col21, #T_93e48_row2_col22, #T_93e48_row3_col0, #T_93e48_row3_col1, #T_93e48_row3_col2, #T_93e48_row3_col3, #T_93e48_row3_col4, #T_93e48_row3_col5, #T_93e48_row3_col6, #T_93e48_row3_col7, #T_93e48_row3_col8, #T_93e48_row3_col9, #T_93e48_row3_col10, #T_93e48_row3_col11, #T_93e48_row3_col12, #T_93e48_row3_col13, #T_93e48_row3_col14, #T_93e48_row3_col15, #T_93e48_row3_col16, #T_93e48_row3_col17, #T_93e48_row3_col18, #T_93e48_row3_col19, #T_93e48_row3_col20, #T_93e48_row3_col21, #T_93e48_row3_col22, #T_93e48_row4_col0, #T_93e48_row4_col1, #T_93e48_row4_col2, #T_93e48_row4_col3, #T_93e48_row4_col4, #T_93e48_row4_col5, #T_93e48_row4_col6, #T_93e48_row4_col7, #T_93e48_row4_col8, #T_93e48_row4_col9, #T_93e48_row4_col10, #T_93e48_row4_col11, #T_93e48_row4_col12, #T_93e48_row4_col13, #T_93e48_row4_col14, #T_93e48_row4_col15, #T_93e48_row4_col16, #T_93e48_row4_col17, #T_93e48_row4_col18, #T_93e48_row4_col19, #T_93e48_row4_col20, #T_93e48_row4_col21, #T_93e48_row4_col22, #T_93e48_row5_col0, #T_93e48_row5_col1, #T_93e48_row5_col2, #T_93e48_row5_col3, #T_93e48_row5_col4, #T_93e48_row5_col5, #T_93e48_row5_col6, #T_93e48_row5_col7, #T_93e48_row5_col8, #T_93e48_row5_col9, #T_93e48_row5_col10, #T_93e48_row5_col22, #T_93e48_row6_col0, #T_93e48_row6_col1, #T_93e48_row6_col2, #T_93e48_row6_col3, #T_93e48_row6_col4, #T_93e48_row6_col5, #T_93e48_row6_col6, #T_93e48_row6_col7, #T_93e48_row6_col8, #T_93e48_row7_col0, #T_93e48_row7_col1, #T_93e48_row7_col2, #T_93e48_row7_col3, #T_93e48_row7_col4, #T_93e48_row7_col5, #T_93e48_row7_col6, #T_93e48_row7_col7, #T_93e48_row7_col8, #T_93e48_row8_col0, #T_93e48_row8_col1, #T_93e48_row8_col2, #T_93e48_row8_col3, #T_93e48_row8_col4, #T_93e48_row8_col5, #T_93e48_row8_col6, #T_93e48_row8_col7, #T_93e48_row8_col8, #T_93e48_row9_col0, #T_93e48_row9_col1, #T_93e48_row9_col2, #T_93e48_row9_col3, #T_93e48_row9_col4, #T_93e48_row9_col5, #T_93e48_row9_col6, #T_93e48_row9_col7, #T_93e48_row9_col8, #T_93e48_row9_col13, #T_93e48_row9_col14, #T_93e48_row9_col15, #T_93e48_row9_col16, #T_93e48_row10_col0, #T_93e48_row10_col1, #T_93e48_row10_col2, #T_93e48_row10_col3, #T_93e48_row10_col4, #T_93e48_row10_col5, #T_93e48_row10_col6, #T_93e48_row10_col7, #T_93e48_row10_col8, #T_93e48_row10_col9, #T_93e48_row10_col10, #T_93e48_row10_col11, #T_93e48_row10_col12, #T_93e48_row10_col13, #T_93e48_row10_col14, #T_93e48_row10_col15, #T_93e48_row10_col16, #T_93e48_row10_col22, #T_93e48_row11_col0, #T_93e48_row11_col1, #T_93e48_row11_col2, #T_93e48_row11_col3, #T_93e48_row11_col4, #T_93e48_row11_col5, #T_93e48_row11_col6, #T_93e48_row11_col7, #T_93e48_row11_col8, #T_93e48_row11_col9, #T_93e48_row11_col10, #T_93e48_row11_col11, #T_93e48_row11_col12, #T_93e48_row11_col13, #T_93e48_row11_col14, #T_93e48_row11_col15, #T_93e48_row11_col22, #T_93e48_row12_col0, #T_93e48_row12_col1, #T_93e48_row12_col2, #T_93e48_row12_col3, #T_93e48_row12_col4, #T_93e48_row12_col5, #T_93e48_row12_col6, #T_93e48_row12_col7, #T_93e48_row12_col8, #T_93e48_row12_col9, #T_93e48_row12_col10, #T_93e48_row12_col11, #T_93e48_row12_col12, #T_93e48_row12_col13, #T_93e48_row12_col22 {\n",
       "  font-size: 7pt;\n",
       "  background-color: #ffffff;\n",
       "  color: #000000;\n",
       "}\n",
       "#T_93e48_row5_col11 {\n",
       "  font-size: 7pt;\n",
       "  background-color: #ececec;\n",
       "  color: #000000;\n",
       "}\n",
       "#T_93e48_row5_col12 {\n",
       "  font-size: 7pt;\n",
       "  background-color: #e8e8e8;\n",
       "  color: #000000;\n",
       "}\n",
       "#T_93e48_row5_col13 {\n",
       "  font-size: 7pt;\n",
       "  background-color: #b0b0b0;\n",
       "  color: #000000;\n",
       "}\n",
       "#T_93e48_row5_col14, #T_93e48_row5_col15, #T_93e48_row5_col16, #T_93e48_row5_col17, #T_93e48_row5_col18, #T_93e48_row5_col19, #T_93e48_row6_col13, #T_93e48_row6_col20, #T_93e48_row7_col9, #T_93e48_row7_col10, #T_93e48_row7_col11, #T_93e48_row7_col12, #T_93e48_row7_col13, #T_93e48_row7_col20, #T_93e48_row7_col21, #T_93e48_row7_col22, #T_93e48_row8_col10, #T_93e48_row8_col11, #T_93e48_row8_col20, #T_93e48_row8_col21, #T_93e48_row8_col22, #T_93e48_row9_col20, #T_93e48_row10_col20, #T_93e48_row11_col20 {\n",
       "  font-size: 7pt;\n",
       "  background-color: #000000;\n",
       "  color: #f1f1f1;\n",
       "}\n",
       "#T_93e48_row5_col20 {\n",
       "  font-size: 7pt;\n",
       "  background-color: #626262;\n",
       "  color: #f1f1f1;\n",
       "}\n",
       "#T_93e48_row5_col21 {\n",
       "  font-size: 7pt;\n",
       "  background-color: #fcfcfc;\n",
       "  color: #000000;\n",
       "}\n",
       "#T_93e48_row6_col9 {\n",
       "  font-size: 7pt;\n",
       "  background-color: #dbdbdb;\n",
       "  color: #000000;\n",
       "}\n",
       "#T_93e48_row6_col10 {\n",
       "  font-size: 7pt;\n",
       "  background-color: #878787;\n",
       "  color: #f1f1f1;\n",
       "}\n",
       "#T_93e48_row6_col11 {\n",
       "  font-size: 7pt;\n",
       "  background-color: #212121;\n",
       "  color: #f1f1f1;\n",
       "}\n",
       "#T_93e48_row6_col12 {\n",
       "  font-size: 7pt;\n",
       "  background-color: #1e1e1e;\n",
       "  color: #f1f1f1;\n",
       "}\n",
       "#T_93e48_row6_col14, #T_93e48_row7_col14 {\n",
       "  font-size: 7pt;\n",
       "  background-color: #020202;\n",
       "  color: #f1f1f1;\n",
       "}\n",
       "#T_93e48_row6_col15, #T_93e48_row6_col16, #T_93e48_row6_col17, #T_93e48_row6_col18, #T_93e48_row6_col19, #T_93e48_row7_col15, #T_93e48_row7_col16, #T_93e48_row7_col17, #T_93e48_row7_col18, #T_93e48_row7_col19, #T_93e48_row8_col18, #T_93e48_row8_col19, #T_93e48_row9_col19, #T_93e48_row10_col19, #T_93e48_row11_col18, #T_93e48_row11_col19, #T_93e48_row12_col17, #T_93e48_row12_col18, #T_93e48_row12_col19 {\n",
       "  font-size: 7pt;\n",
       "  background-color: #010101;\n",
       "  color: #f1f1f1;\n",
       "}\n",
       "#T_93e48_row6_col21 {\n",
       "  font-size: 7pt;\n",
       "  background-color: #727272;\n",
       "  color: #f1f1f1;\n",
       "}\n",
       "#T_93e48_row6_col22 {\n",
       "  font-size: 7pt;\n",
       "  background-color: #dcdcdc;\n",
       "  color: #000000;\n",
       "}\n",
       "#T_93e48_row8_col9 {\n",
       "  font-size: 7pt;\n",
       "  background-color: #777777;\n",
       "  color: #f1f1f1;\n",
       "}\n",
       "#T_93e48_row8_col12 {\n",
       "  font-size: 7pt;\n",
       "  background-color: #1a1a1a;\n",
       "  color: #f1f1f1;\n",
       "}\n",
       "#T_93e48_row8_col13 {\n",
       "  font-size: 7pt;\n",
       "  background-color: #8f8f8f;\n",
       "  color: #f1f1f1;\n",
       "}\n",
       "#T_93e48_row8_col14, #T_93e48_row8_col15, #T_93e48_row8_col16 {\n",
       "  font-size: 7pt;\n",
       "  background-color: #909090;\n",
       "  color: #f1f1f1;\n",
       "}\n",
       "#T_93e48_row8_col17, #T_93e48_row11_col17 {\n",
       "  font-size: 7pt;\n",
       "  background-color: #525252;\n",
       "  color: #f1f1f1;\n",
       "}\n",
       "#T_93e48_row9_col9 {\n",
       "  font-size: 7pt;\n",
       "  background-color: #fdfdfd;\n",
       "  color: #000000;\n",
       "}\n",
       "#T_93e48_row9_col10, #T_93e48_row9_col11, #T_93e48_row9_col22 {\n",
       "  font-size: 7pt;\n",
       "  background-color: #f1f1f1;\n",
       "  color: #000000;\n",
       "}\n",
       "#T_93e48_row9_col12 {\n",
       "  font-size: 7pt;\n",
       "  background-color: #f4f4f4;\n",
       "  color: #000000;\n",
       "}\n",
       "#T_93e48_row9_col17, #T_93e48_row11_col21 {\n",
       "  font-size: 7pt;\n",
       "  background-color: #f8f8f8;\n",
       "  color: #000000;\n",
       "}\n",
       "#T_93e48_row9_col18 {\n",
       "  font-size: 7pt;\n",
       "  background-color: #1f1f1f;\n",
       "  color: #f1f1f1;\n",
       "}\n",
       "#T_93e48_row9_col21 {\n",
       "  font-size: 7pt;\n",
       "  background-color: #646464;\n",
       "  color: #f1f1f1;\n",
       "}\n",
       "#T_93e48_row10_col17 {\n",
       "  font-size: 7pt;\n",
       "  background-color: #c5c5c5;\n",
       "  color: #000000;\n",
       "}\n",
       "#T_93e48_row10_col18 {\n",
       "  font-size: 7pt;\n",
       "  background-color: #0c0c0c;\n",
       "  color: #f1f1f1;\n",
       "}\n",
       "#T_93e48_row10_col21 {\n",
       "  font-size: 7pt;\n",
       "  background-color: #828282;\n",
       "  color: #f1f1f1;\n",
       "}\n",
       "#T_93e48_row11_col16 {\n",
       "  font-size: 7pt;\n",
       "  background-color: #c3c3c3;\n",
       "  color: #000000;\n",
       "}\n",
       "#T_93e48_row12_col14 {\n",
       "  font-size: 7pt;\n",
       "  background-color: #c1c1c1;\n",
       "  color: #000000;\n",
       "}\n",
       "#T_93e48_row12_col15 {\n",
       "  font-size: 7pt;\n",
       "  background-color: #323232;\n",
       "  color: #f1f1f1;\n",
       "}\n",
       "#T_93e48_row12_col16 {\n",
       "  font-size: 7pt;\n",
       "  background-color: #070707;\n",
       "  color: #f1f1f1;\n",
       "}\n",
       "#T_93e48_row12_col20 {\n",
       "  font-size: 7pt;\n",
       "  background-color: #3c3c3c;\n",
       "  color: #f1f1f1;\n",
       "}\n",
       "#T_93e48_row12_col21 {\n",
       "  font-size: 7pt;\n",
       "  background-color: #fbfbfb;\n",
       "  color: #000000;\n",
       "}\n",
       "</style>\n",
       "<table id=\"T_93e48\">\n",
       "  <thead>\n",
       "    <tr>\n",
       "      <th class=\"blank level0\" >&nbsp;</th>\n",
       "      <th id=\"T_93e48_level0_col0\" class=\"col_heading level0 col0\" >0</th>\n",
       "      <th id=\"T_93e48_level0_col1\" class=\"col_heading level0 col1\" >1</th>\n",
       "      <th id=\"T_93e48_level0_col2\" class=\"col_heading level0 col2\" >2</th>\n",
       "      <th id=\"T_93e48_level0_col3\" class=\"col_heading level0 col3\" >3</th>\n",
       "      <th id=\"T_93e48_level0_col4\" class=\"col_heading level0 col4\" >4</th>\n",
       "      <th id=\"T_93e48_level0_col5\" class=\"col_heading level0 col5\" >5</th>\n",
       "      <th id=\"T_93e48_level0_col6\" class=\"col_heading level0 col6\" >6</th>\n",
       "      <th id=\"T_93e48_level0_col7\" class=\"col_heading level0 col7\" >7</th>\n",
       "      <th id=\"T_93e48_level0_col8\" class=\"col_heading level0 col8\" >8</th>\n",
       "      <th id=\"T_93e48_level0_col9\" class=\"col_heading level0 col9\" >9</th>\n",
       "      <th id=\"T_93e48_level0_col10\" class=\"col_heading level0 col10\" >10</th>\n",
       "      <th id=\"T_93e48_level0_col11\" class=\"col_heading level0 col11\" >11</th>\n",
       "      <th id=\"T_93e48_level0_col12\" class=\"col_heading level0 col12\" >12</th>\n",
       "      <th id=\"T_93e48_level0_col13\" class=\"col_heading level0 col13\" >13</th>\n",
       "      <th id=\"T_93e48_level0_col14\" class=\"col_heading level0 col14\" >14</th>\n",
       "      <th id=\"T_93e48_level0_col15\" class=\"col_heading level0 col15\" >15</th>\n",
       "      <th id=\"T_93e48_level0_col16\" class=\"col_heading level0 col16\" >16</th>\n",
       "      <th id=\"T_93e48_level0_col17\" class=\"col_heading level0 col17\" >17</th>\n",
       "      <th id=\"T_93e48_level0_col18\" class=\"col_heading level0 col18\" >18</th>\n",
       "      <th id=\"T_93e48_level0_col19\" class=\"col_heading level0 col19\" >19</th>\n",
       "      <th id=\"T_93e48_level0_col20\" class=\"col_heading level0 col20\" >20</th>\n",
       "      <th id=\"T_93e48_level0_col21\" class=\"col_heading level0 col21\" >21</th>\n",
       "      <th id=\"T_93e48_level0_col22\" class=\"col_heading level0 col22\" >22</th>\n",
       "    </tr>\n",
       "  </thead>\n",
       "  <tbody>\n",
       "    <tr>\n",
       "      <th id=\"T_93e48_level0_row0\" class=\"row_heading level0 row0\" >0</th>\n",
       "      <td id=\"T_93e48_row0_col0\" class=\"data row0 col0\" >0.00</td>\n",
       "      <td id=\"T_93e48_row0_col1\" class=\"data row0 col1\" >0.00</td>\n",
       "      <td id=\"T_93e48_row0_col2\" class=\"data row0 col2\" >0.00</td>\n",
       "      <td id=\"T_93e48_row0_col3\" class=\"data row0 col3\" >0.00</td>\n",
       "      <td id=\"T_93e48_row0_col4\" class=\"data row0 col4\" >0.00</td>\n",
       "      <td id=\"T_93e48_row0_col5\" class=\"data row0 col5\" >0.00</td>\n",
       "      <td id=\"T_93e48_row0_col6\" class=\"data row0 col6\" >0.00</td>\n",
       "      <td id=\"T_93e48_row0_col7\" class=\"data row0 col7\" >0.00</td>\n",
       "      <td id=\"T_93e48_row0_col8\" class=\"data row0 col8\" >0.00</td>\n",
       "      <td id=\"T_93e48_row0_col9\" class=\"data row0 col9\" >0.00</td>\n",
       "      <td id=\"T_93e48_row0_col10\" class=\"data row0 col10\" >0.00</td>\n",
       "      <td id=\"T_93e48_row0_col11\" class=\"data row0 col11\" >0.00</td>\n",
       "      <td id=\"T_93e48_row0_col12\" class=\"data row0 col12\" >0.00</td>\n",
       "      <td id=\"T_93e48_row0_col13\" class=\"data row0 col13\" >0.00</td>\n",
       "      <td id=\"T_93e48_row0_col14\" class=\"data row0 col14\" >0.00</td>\n",
       "      <td id=\"T_93e48_row0_col15\" class=\"data row0 col15\" >0.00</td>\n",
       "      <td id=\"T_93e48_row0_col16\" class=\"data row0 col16\" >0.00</td>\n",
       "      <td id=\"T_93e48_row0_col17\" class=\"data row0 col17\" >0.00</td>\n",
       "      <td id=\"T_93e48_row0_col18\" class=\"data row0 col18\" >0.00</td>\n",
       "      <td id=\"T_93e48_row0_col19\" class=\"data row0 col19\" >0.00</td>\n",
       "      <td id=\"T_93e48_row0_col20\" class=\"data row0 col20\" >0.00</td>\n",
       "      <td id=\"T_93e48_row0_col21\" class=\"data row0 col21\" >0.00</td>\n",
       "      <td id=\"T_93e48_row0_col22\" class=\"data row0 col22\" >0.00</td>\n",
       "    </tr>\n",
       "    <tr>\n",
       "      <th id=\"T_93e48_level0_row1\" class=\"row_heading level0 row1\" >1</th>\n",
       "      <td id=\"T_93e48_row1_col0\" class=\"data row1 col0\" >0.00</td>\n",
       "      <td id=\"T_93e48_row1_col1\" class=\"data row1 col1\" >0.00</td>\n",
       "      <td id=\"T_93e48_row1_col2\" class=\"data row1 col2\" >0.00</td>\n",
       "      <td id=\"T_93e48_row1_col3\" class=\"data row1 col3\" >0.00</td>\n",
       "      <td id=\"T_93e48_row1_col4\" class=\"data row1 col4\" >0.00</td>\n",
       "      <td id=\"T_93e48_row1_col5\" class=\"data row1 col5\" >0.00</td>\n",
       "      <td id=\"T_93e48_row1_col6\" class=\"data row1 col6\" >0.00</td>\n",
       "      <td id=\"T_93e48_row1_col7\" class=\"data row1 col7\" >0.00</td>\n",
       "      <td id=\"T_93e48_row1_col8\" class=\"data row1 col8\" >0.00</td>\n",
       "      <td id=\"T_93e48_row1_col9\" class=\"data row1 col9\" >0.00</td>\n",
       "      <td id=\"T_93e48_row1_col10\" class=\"data row1 col10\" >0.00</td>\n",
       "      <td id=\"T_93e48_row1_col11\" class=\"data row1 col11\" >0.00</td>\n",
       "      <td id=\"T_93e48_row1_col12\" class=\"data row1 col12\" >0.00</td>\n",
       "      <td id=\"T_93e48_row1_col13\" class=\"data row1 col13\" >0.00</td>\n",
       "      <td id=\"T_93e48_row1_col14\" class=\"data row1 col14\" >0.00</td>\n",
       "      <td id=\"T_93e48_row1_col15\" class=\"data row1 col15\" >0.00</td>\n",
       "      <td id=\"T_93e48_row1_col16\" class=\"data row1 col16\" >0.00</td>\n",
       "      <td id=\"T_93e48_row1_col17\" class=\"data row1 col17\" >0.00</td>\n",
       "      <td id=\"T_93e48_row1_col18\" class=\"data row1 col18\" >0.00</td>\n",
       "      <td id=\"T_93e48_row1_col19\" class=\"data row1 col19\" >0.00</td>\n",
       "      <td id=\"T_93e48_row1_col20\" class=\"data row1 col20\" >0.00</td>\n",
       "      <td id=\"T_93e48_row1_col21\" class=\"data row1 col21\" >0.00</td>\n",
       "      <td id=\"T_93e48_row1_col22\" class=\"data row1 col22\" >0.00</td>\n",
       "    </tr>\n",
       "    <tr>\n",
       "      <th id=\"T_93e48_level0_row2\" class=\"row_heading level0 row2\" >2</th>\n",
       "      <td id=\"T_93e48_row2_col0\" class=\"data row2 col0\" >0.00</td>\n",
       "      <td id=\"T_93e48_row2_col1\" class=\"data row2 col1\" >0.00</td>\n",
       "      <td id=\"T_93e48_row2_col2\" class=\"data row2 col2\" >0.00</td>\n",
       "      <td id=\"T_93e48_row2_col3\" class=\"data row2 col3\" >0.00</td>\n",
       "      <td id=\"T_93e48_row2_col4\" class=\"data row2 col4\" >0.00</td>\n",
       "      <td id=\"T_93e48_row2_col5\" class=\"data row2 col5\" >0.00</td>\n",
       "      <td id=\"T_93e48_row2_col6\" class=\"data row2 col6\" >0.00</td>\n",
       "      <td id=\"T_93e48_row2_col7\" class=\"data row2 col7\" >0.00</td>\n",
       "      <td id=\"T_93e48_row2_col8\" class=\"data row2 col8\" >0.00</td>\n",
       "      <td id=\"T_93e48_row2_col9\" class=\"data row2 col9\" >0.00</td>\n",
       "      <td id=\"T_93e48_row2_col10\" class=\"data row2 col10\" >0.00</td>\n",
       "      <td id=\"T_93e48_row2_col11\" class=\"data row2 col11\" >0.00</td>\n",
       "      <td id=\"T_93e48_row2_col12\" class=\"data row2 col12\" >0.00</td>\n",
       "      <td id=\"T_93e48_row2_col13\" class=\"data row2 col13\" >0.00</td>\n",
       "      <td id=\"T_93e48_row2_col14\" class=\"data row2 col14\" >0.00</td>\n",
       "      <td id=\"T_93e48_row2_col15\" class=\"data row2 col15\" >0.00</td>\n",
       "      <td id=\"T_93e48_row2_col16\" class=\"data row2 col16\" >0.00</td>\n",
       "      <td id=\"T_93e48_row2_col17\" class=\"data row2 col17\" >0.00</td>\n",
       "      <td id=\"T_93e48_row2_col18\" class=\"data row2 col18\" >0.00</td>\n",
       "      <td id=\"T_93e48_row2_col19\" class=\"data row2 col19\" >0.00</td>\n",
       "      <td id=\"T_93e48_row2_col20\" class=\"data row2 col20\" >0.00</td>\n",
       "      <td id=\"T_93e48_row2_col21\" class=\"data row2 col21\" >0.00</td>\n",
       "      <td id=\"T_93e48_row2_col22\" class=\"data row2 col22\" >0.00</td>\n",
       "    </tr>\n",
       "    <tr>\n",
       "      <th id=\"T_93e48_level0_row3\" class=\"row_heading level0 row3\" >3</th>\n",
       "      <td id=\"T_93e48_row3_col0\" class=\"data row3 col0\" >0.00</td>\n",
       "      <td id=\"T_93e48_row3_col1\" class=\"data row3 col1\" >0.00</td>\n",
       "      <td id=\"T_93e48_row3_col2\" class=\"data row3 col2\" >0.00</td>\n",
       "      <td id=\"T_93e48_row3_col3\" class=\"data row3 col3\" >0.00</td>\n",
       "      <td id=\"T_93e48_row3_col4\" class=\"data row3 col4\" >0.00</td>\n",
       "      <td id=\"T_93e48_row3_col5\" class=\"data row3 col5\" >0.00</td>\n",
       "      <td id=\"T_93e48_row3_col6\" class=\"data row3 col6\" >0.00</td>\n",
       "      <td id=\"T_93e48_row3_col7\" class=\"data row3 col7\" >0.00</td>\n",
       "      <td id=\"T_93e48_row3_col8\" class=\"data row3 col8\" >0.00</td>\n",
       "      <td id=\"T_93e48_row3_col9\" class=\"data row3 col9\" >0.00</td>\n",
       "      <td id=\"T_93e48_row3_col10\" class=\"data row3 col10\" >0.00</td>\n",
       "      <td id=\"T_93e48_row3_col11\" class=\"data row3 col11\" >0.00</td>\n",
       "      <td id=\"T_93e48_row3_col12\" class=\"data row3 col12\" >0.00</td>\n",
       "      <td id=\"T_93e48_row3_col13\" class=\"data row3 col13\" >0.00</td>\n",
       "      <td id=\"T_93e48_row3_col14\" class=\"data row3 col14\" >0.00</td>\n",
       "      <td id=\"T_93e48_row3_col15\" class=\"data row3 col15\" >0.00</td>\n",
       "      <td id=\"T_93e48_row3_col16\" class=\"data row3 col16\" >0.00</td>\n",
       "      <td id=\"T_93e48_row3_col17\" class=\"data row3 col17\" >0.00</td>\n",
       "      <td id=\"T_93e48_row3_col18\" class=\"data row3 col18\" >0.00</td>\n",
       "      <td id=\"T_93e48_row3_col19\" class=\"data row3 col19\" >0.00</td>\n",
       "      <td id=\"T_93e48_row3_col20\" class=\"data row3 col20\" >0.00</td>\n",
       "      <td id=\"T_93e48_row3_col21\" class=\"data row3 col21\" >0.00</td>\n",
       "      <td id=\"T_93e48_row3_col22\" class=\"data row3 col22\" >0.00</td>\n",
       "    </tr>\n",
       "    <tr>\n",
       "      <th id=\"T_93e48_level0_row4\" class=\"row_heading level0 row4\" >4</th>\n",
       "      <td id=\"T_93e48_row4_col0\" class=\"data row4 col0\" >0.00</td>\n",
       "      <td id=\"T_93e48_row4_col1\" class=\"data row4 col1\" >0.00</td>\n",
       "      <td id=\"T_93e48_row4_col2\" class=\"data row4 col2\" >0.00</td>\n",
       "      <td id=\"T_93e48_row4_col3\" class=\"data row4 col3\" >0.00</td>\n",
       "      <td id=\"T_93e48_row4_col4\" class=\"data row4 col4\" >0.00</td>\n",
       "      <td id=\"T_93e48_row4_col5\" class=\"data row4 col5\" >0.00</td>\n",
       "      <td id=\"T_93e48_row4_col6\" class=\"data row4 col6\" >0.00</td>\n",
       "      <td id=\"T_93e48_row4_col7\" class=\"data row4 col7\" >0.00</td>\n",
       "      <td id=\"T_93e48_row4_col8\" class=\"data row4 col8\" >0.00</td>\n",
       "      <td id=\"T_93e48_row4_col9\" class=\"data row4 col9\" >0.00</td>\n",
       "      <td id=\"T_93e48_row4_col10\" class=\"data row4 col10\" >0.00</td>\n",
       "      <td id=\"T_93e48_row4_col11\" class=\"data row4 col11\" >0.00</td>\n",
       "      <td id=\"T_93e48_row4_col12\" class=\"data row4 col12\" >0.00</td>\n",
       "      <td id=\"T_93e48_row4_col13\" class=\"data row4 col13\" >0.00</td>\n",
       "      <td id=\"T_93e48_row4_col14\" class=\"data row4 col14\" >0.00</td>\n",
       "      <td id=\"T_93e48_row4_col15\" class=\"data row4 col15\" >0.00</td>\n",
       "      <td id=\"T_93e48_row4_col16\" class=\"data row4 col16\" >0.00</td>\n",
       "      <td id=\"T_93e48_row4_col17\" class=\"data row4 col17\" >0.00</td>\n",
       "      <td id=\"T_93e48_row4_col18\" class=\"data row4 col18\" >0.00</td>\n",
       "      <td id=\"T_93e48_row4_col19\" class=\"data row4 col19\" >0.00</td>\n",
       "      <td id=\"T_93e48_row4_col20\" class=\"data row4 col20\" >0.00</td>\n",
       "      <td id=\"T_93e48_row4_col21\" class=\"data row4 col21\" >0.00</td>\n",
       "      <td id=\"T_93e48_row4_col22\" class=\"data row4 col22\" >0.00</td>\n",
       "    </tr>\n",
       "    <tr>\n",
       "      <th id=\"T_93e48_level0_row5\" class=\"row_heading level0 row5\" >5</th>\n",
       "      <td id=\"T_93e48_row5_col0\" class=\"data row5 col0\" >0.00</td>\n",
       "      <td id=\"T_93e48_row5_col1\" class=\"data row5 col1\" >0.00</td>\n",
       "      <td id=\"T_93e48_row5_col2\" class=\"data row5 col2\" >0.00</td>\n",
       "      <td id=\"T_93e48_row5_col3\" class=\"data row5 col3\" >0.00</td>\n",
       "      <td id=\"T_93e48_row5_col4\" class=\"data row5 col4\" >0.00</td>\n",
       "      <td id=\"T_93e48_row5_col5\" class=\"data row5 col5\" >0.00</td>\n",
       "      <td id=\"T_93e48_row5_col6\" class=\"data row5 col6\" >0.00</td>\n",
       "      <td id=\"T_93e48_row5_col7\" class=\"data row5 col7\" >0.00</td>\n",
       "      <td id=\"T_93e48_row5_col8\" class=\"data row5 col8\" >0.00</td>\n",
       "      <td id=\"T_93e48_row5_col9\" class=\"data row5 col9\" >0.00</td>\n",
       "      <td id=\"T_93e48_row5_col10\" class=\"data row5 col10\" >0.00</td>\n",
       "      <td id=\"T_93e48_row5_col11\" class=\"data row5 col11\" >0.15</td>\n",
       "      <td id=\"T_93e48_row5_col12\" class=\"data row5 col12\" >0.17</td>\n",
       "      <td id=\"T_93e48_row5_col13\" class=\"data row5 col13\" >0.41</td>\n",
       "      <td id=\"T_93e48_row5_col14\" class=\"data row5 col14\" >1.00</td>\n",
       "      <td id=\"T_93e48_row5_col15\" class=\"data row5 col15\" >0.99</td>\n",
       "      <td id=\"T_93e48_row5_col16\" class=\"data row5 col16\" >0.99</td>\n",
       "      <td id=\"T_93e48_row5_col17\" class=\"data row5 col17\" >0.99</td>\n",
       "      <td id=\"T_93e48_row5_col18\" class=\"data row5 col18\" >0.99</td>\n",
       "      <td id=\"T_93e48_row5_col19\" class=\"data row5 col19\" >0.99</td>\n",
       "      <td id=\"T_93e48_row5_col20\" class=\"data row5 col20\" >0.68</td>\n",
       "      <td id=\"T_93e48_row5_col21\" class=\"data row5 col21\" >0.02</td>\n",
       "      <td id=\"T_93e48_row5_col22\" class=\"data row5 col22\" >0.00</td>\n",
       "    </tr>\n",
       "    <tr>\n",
       "      <th id=\"T_93e48_level0_row6\" class=\"row_heading level0 row6\" >6</th>\n",
       "      <td id=\"T_93e48_row6_col0\" class=\"data row6 col0\" >0.00</td>\n",
       "      <td id=\"T_93e48_row6_col1\" class=\"data row6 col1\" >0.00</td>\n",
       "      <td id=\"T_93e48_row6_col2\" class=\"data row6 col2\" >0.00</td>\n",
       "      <td id=\"T_93e48_row6_col3\" class=\"data row6 col3\" >0.00</td>\n",
       "      <td id=\"T_93e48_row6_col4\" class=\"data row6 col4\" >0.00</td>\n",
       "      <td id=\"T_93e48_row6_col5\" class=\"data row6 col5\" >0.00</td>\n",
       "      <td id=\"T_93e48_row6_col6\" class=\"data row6 col6\" >0.00</td>\n",
       "      <td id=\"T_93e48_row6_col7\" class=\"data row6 col7\" >0.00</td>\n",
       "      <td id=\"T_93e48_row6_col8\" class=\"data row6 col8\" >0.00</td>\n",
       "      <td id=\"T_93e48_row6_col9\" class=\"data row6 col9\" >0.17</td>\n",
       "      <td id=\"T_93e48_row6_col10\" class=\"data row6 col10\" >0.54</td>\n",
       "      <td id=\"T_93e48_row6_col11\" class=\"data row6 col11\" >0.88</td>\n",
       "      <td id=\"T_93e48_row6_col12\" class=\"data row6 col12\" >0.88</td>\n",
       "      <td id=\"T_93e48_row6_col13\" class=\"data row6 col13\" >0.98</td>\n",
       "      <td id=\"T_93e48_row6_col14\" class=\"data row6 col14\" >0.99</td>\n",
       "      <td id=\"T_93e48_row6_col15\" class=\"data row6 col15\" >0.98</td>\n",
       "      <td id=\"T_93e48_row6_col16\" class=\"data row6 col16\" >0.98</td>\n",
       "      <td id=\"T_93e48_row6_col17\" class=\"data row6 col17\" >0.98</td>\n",
       "      <td id=\"T_93e48_row6_col18\" class=\"data row6 col18\" >0.98</td>\n",
       "      <td id=\"T_93e48_row6_col19\" class=\"data row6 col19\" >0.98</td>\n",
       "      <td id=\"T_93e48_row6_col20\" class=\"data row6 col20\" >0.98</td>\n",
       "      <td id=\"T_93e48_row6_col21\" class=\"data row6 col21\" >0.62</td>\n",
       "      <td id=\"T_93e48_row6_col22\" class=\"data row6 col22\" >0.05</td>\n",
       "    </tr>\n",
       "    <tr>\n",
       "      <th id=\"T_93e48_level0_row7\" class=\"row_heading level0 row7\" >7</th>\n",
       "      <td id=\"T_93e48_row7_col0\" class=\"data row7 col0\" >0.00</td>\n",
       "      <td id=\"T_93e48_row7_col1\" class=\"data row7 col1\" >0.00</td>\n",
       "      <td id=\"T_93e48_row7_col2\" class=\"data row7 col2\" >0.00</td>\n",
       "      <td id=\"T_93e48_row7_col3\" class=\"data row7 col3\" >0.00</td>\n",
       "      <td id=\"T_93e48_row7_col4\" class=\"data row7 col4\" >0.00</td>\n",
       "      <td id=\"T_93e48_row7_col5\" class=\"data row7 col5\" >0.00</td>\n",
       "      <td id=\"T_93e48_row7_col6\" class=\"data row7 col6\" >0.00</td>\n",
       "      <td id=\"T_93e48_row7_col7\" class=\"data row7 col7\" >0.00</td>\n",
       "      <td id=\"T_93e48_row7_col8\" class=\"data row7 col8\" >0.00</td>\n",
       "      <td id=\"T_93e48_row7_col9\" class=\"data row7 col9\" >0.70</td>\n",
       "      <td id=\"T_93e48_row7_col10\" class=\"data row7 col10\" >0.98</td>\n",
       "      <td id=\"T_93e48_row7_col11\" class=\"data row7 col11\" >0.98</td>\n",
       "      <td id=\"T_93e48_row7_col12\" class=\"data row7 col12\" >0.98</td>\n",
       "      <td id=\"T_93e48_row7_col13\" class=\"data row7 col13\" >0.98</td>\n",
       "      <td id=\"T_93e48_row7_col14\" class=\"data row7 col14\" >0.99</td>\n",
       "      <td id=\"T_93e48_row7_col15\" class=\"data row7 col15\" >0.98</td>\n",
       "      <td id=\"T_93e48_row7_col16\" class=\"data row7 col16\" >0.98</td>\n",
       "      <td id=\"T_93e48_row7_col17\" class=\"data row7 col17\" >0.98</td>\n",
       "      <td id=\"T_93e48_row7_col18\" class=\"data row7 col18\" >0.98</td>\n",
       "      <td id=\"T_93e48_row7_col19\" class=\"data row7 col19\" >0.98</td>\n",
       "      <td id=\"T_93e48_row7_col20\" class=\"data row7 col20\" >0.98</td>\n",
       "      <td id=\"T_93e48_row7_col21\" class=\"data row7 col21\" >0.98</td>\n",
       "      <td id=\"T_93e48_row7_col22\" class=\"data row7 col22\" >0.23</td>\n",
       "    </tr>\n",
       "    <tr>\n",
       "      <th id=\"T_93e48_level0_row8\" class=\"row_heading level0 row8\" >8</th>\n",
       "      <td id=\"T_93e48_row8_col0\" class=\"data row8 col0\" >0.00</td>\n",
       "      <td id=\"T_93e48_row8_col1\" class=\"data row8 col1\" >0.00</td>\n",
       "      <td id=\"T_93e48_row8_col2\" class=\"data row8 col2\" >0.00</td>\n",
       "      <td id=\"T_93e48_row8_col3\" class=\"data row8 col3\" >0.00</td>\n",
       "      <td id=\"T_93e48_row8_col4\" class=\"data row8 col4\" >0.00</td>\n",
       "      <td id=\"T_93e48_row8_col5\" class=\"data row8 col5\" >0.00</td>\n",
       "      <td id=\"T_93e48_row8_col6\" class=\"data row8 col6\" >0.00</td>\n",
       "      <td id=\"T_93e48_row8_col7\" class=\"data row8 col7\" >0.00</td>\n",
       "      <td id=\"T_93e48_row8_col8\" class=\"data row8 col8\" >0.00</td>\n",
       "      <td id=\"T_93e48_row8_col9\" class=\"data row8 col9\" >0.43</td>\n",
       "      <td id=\"T_93e48_row8_col10\" class=\"data row8 col10\" >0.98</td>\n",
       "      <td id=\"T_93e48_row8_col11\" class=\"data row8 col11\" >0.98</td>\n",
       "      <td id=\"T_93e48_row8_col12\" class=\"data row8 col12\" >0.90</td>\n",
       "      <td id=\"T_93e48_row8_col13\" class=\"data row8 col13\" >0.52</td>\n",
       "      <td id=\"T_93e48_row8_col14\" class=\"data row8 col14\" >0.52</td>\n",
       "      <td id=\"T_93e48_row8_col15\" class=\"data row8 col15\" >0.52</td>\n",
       "      <td id=\"T_93e48_row8_col16\" class=\"data row8 col16\" >0.52</td>\n",
       "      <td id=\"T_93e48_row8_col17\" class=\"data row8 col17\" >0.74</td>\n",
       "      <td id=\"T_93e48_row8_col18\" class=\"data row8 col18\" >0.98</td>\n",
       "      <td id=\"T_93e48_row8_col19\" class=\"data row8 col19\" >0.98</td>\n",
       "      <td id=\"T_93e48_row8_col20\" class=\"data row8 col20\" >0.98</td>\n",
       "      <td id=\"T_93e48_row8_col21\" class=\"data row8 col21\" >0.98</td>\n",
       "      <td id=\"T_93e48_row8_col22\" class=\"data row8 col22\" >0.23</td>\n",
       "    </tr>\n",
       "    <tr>\n",
       "      <th id=\"T_93e48_level0_row9\" class=\"row_heading level0 row9\" >9</th>\n",
       "      <td id=\"T_93e48_row9_col0\" class=\"data row9 col0\" >0.00</td>\n",
       "      <td id=\"T_93e48_row9_col1\" class=\"data row9 col1\" >0.00</td>\n",
       "      <td id=\"T_93e48_row9_col2\" class=\"data row9 col2\" >0.00</td>\n",
       "      <td id=\"T_93e48_row9_col3\" class=\"data row9 col3\" >0.00</td>\n",
       "      <td id=\"T_93e48_row9_col4\" class=\"data row9 col4\" >0.00</td>\n",
       "      <td id=\"T_93e48_row9_col5\" class=\"data row9 col5\" >0.00</td>\n",
       "      <td id=\"T_93e48_row9_col6\" class=\"data row9 col6\" >0.00</td>\n",
       "      <td id=\"T_93e48_row9_col7\" class=\"data row9 col7\" >0.00</td>\n",
       "      <td id=\"T_93e48_row9_col8\" class=\"data row9 col8\" >0.00</td>\n",
       "      <td id=\"T_93e48_row9_col9\" class=\"data row9 col9\" >0.02</td>\n",
       "      <td id=\"T_93e48_row9_col10\" class=\"data row9 col10\" >0.11</td>\n",
       "      <td id=\"T_93e48_row9_col11\" class=\"data row9 col11\" >0.11</td>\n",
       "      <td id=\"T_93e48_row9_col12\" class=\"data row9 col12\" >0.09</td>\n",
       "      <td id=\"T_93e48_row9_col13\" class=\"data row9 col13\" >0.00</td>\n",
       "      <td id=\"T_93e48_row9_col14\" class=\"data row9 col14\" >0.00</td>\n",
       "      <td id=\"T_93e48_row9_col15\" class=\"data row9 col15\" >0.00</td>\n",
       "      <td id=\"T_93e48_row9_col16\" class=\"data row9 col16\" >0.00</td>\n",
       "      <td id=\"T_93e48_row9_col17\" class=\"data row9 col17\" >0.05</td>\n",
       "      <td id=\"T_93e48_row9_col18\" class=\"data row9 col18\" >0.88</td>\n",
       "      <td id=\"T_93e48_row9_col19\" class=\"data row9 col19\" >0.98</td>\n",
       "      <td id=\"T_93e48_row9_col20\" class=\"data row9 col20\" >0.98</td>\n",
       "      <td id=\"T_93e48_row9_col21\" class=\"data row9 col21\" >0.67</td>\n",
       "      <td id=\"T_93e48_row9_col22\" class=\"data row9 col22\" >0.03</td>\n",
       "    </tr>\n",
       "    <tr>\n",
       "      <th id=\"T_93e48_level0_row10\" class=\"row_heading level0 row10\" >10</th>\n",
       "      <td id=\"T_93e48_row10_col0\" class=\"data row10 col0\" >0.00</td>\n",
       "      <td id=\"T_93e48_row10_col1\" class=\"data row10 col1\" >0.00</td>\n",
       "      <td id=\"T_93e48_row10_col2\" class=\"data row10 col2\" >0.00</td>\n",
       "      <td id=\"T_93e48_row10_col3\" class=\"data row10 col3\" >0.00</td>\n",
       "      <td id=\"T_93e48_row10_col4\" class=\"data row10 col4\" >0.00</td>\n",
       "      <td id=\"T_93e48_row10_col5\" class=\"data row10 col5\" >0.00</td>\n",
       "      <td id=\"T_93e48_row10_col6\" class=\"data row10 col6\" >0.00</td>\n",
       "      <td id=\"T_93e48_row10_col7\" class=\"data row10 col7\" >0.00</td>\n",
       "      <td id=\"T_93e48_row10_col8\" class=\"data row10 col8\" >0.00</td>\n",
       "      <td id=\"T_93e48_row10_col9\" class=\"data row10 col9\" >0.00</td>\n",
       "      <td id=\"T_93e48_row10_col10\" class=\"data row10 col10\" >0.00</td>\n",
       "      <td id=\"T_93e48_row10_col11\" class=\"data row10 col11\" >0.00</td>\n",
       "      <td id=\"T_93e48_row10_col12\" class=\"data row10 col12\" >0.00</td>\n",
       "      <td id=\"T_93e48_row10_col13\" class=\"data row10 col13\" >0.00</td>\n",
       "      <td id=\"T_93e48_row10_col14\" class=\"data row10 col14\" >0.00</td>\n",
       "      <td id=\"T_93e48_row10_col15\" class=\"data row10 col15\" >0.00</td>\n",
       "      <td id=\"T_93e48_row10_col16\" class=\"data row10 col16\" >0.00</td>\n",
       "      <td id=\"T_93e48_row10_col17\" class=\"data row10 col17\" >0.33</td>\n",
       "      <td id=\"T_93e48_row10_col18\" class=\"data row10 col18\" >0.95</td>\n",
       "      <td id=\"T_93e48_row10_col19\" class=\"data row10 col19\" >0.98</td>\n",
       "      <td id=\"T_93e48_row10_col20\" class=\"data row10 col20\" >0.98</td>\n",
       "      <td id=\"T_93e48_row10_col21\" class=\"data row10 col21\" >0.56</td>\n",
       "      <td id=\"T_93e48_row10_col22\" class=\"data row10 col22\" >0.00</td>\n",
       "    </tr>\n",
       "    <tr>\n",
       "      <th id=\"T_93e48_level0_row11\" class=\"row_heading level0 row11\" >11</th>\n",
       "      <td id=\"T_93e48_row11_col0\" class=\"data row11 col0\" >0.00</td>\n",
       "      <td id=\"T_93e48_row11_col1\" class=\"data row11 col1\" >0.00</td>\n",
       "      <td id=\"T_93e48_row11_col2\" class=\"data row11 col2\" >0.00</td>\n",
       "      <td id=\"T_93e48_row11_col3\" class=\"data row11 col3\" >0.00</td>\n",
       "      <td id=\"T_93e48_row11_col4\" class=\"data row11 col4\" >0.00</td>\n",
       "      <td id=\"T_93e48_row11_col5\" class=\"data row11 col5\" >0.00</td>\n",
       "      <td id=\"T_93e48_row11_col6\" class=\"data row11 col6\" >0.00</td>\n",
       "      <td id=\"T_93e48_row11_col7\" class=\"data row11 col7\" >0.00</td>\n",
       "      <td id=\"T_93e48_row11_col8\" class=\"data row11 col8\" >0.00</td>\n",
       "      <td id=\"T_93e48_row11_col9\" class=\"data row11 col9\" >0.00</td>\n",
       "      <td id=\"T_93e48_row11_col10\" class=\"data row11 col10\" >0.00</td>\n",
       "      <td id=\"T_93e48_row11_col11\" class=\"data row11 col11\" >0.00</td>\n",
       "      <td id=\"T_93e48_row11_col12\" class=\"data row11 col12\" >0.00</td>\n",
       "      <td id=\"T_93e48_row11_col13\" class=\"data row11 col13\" >0.00</td>\n",
       "      <td id=\"T_93e48_row11_col14\" class=\"data row11 col14\" >0.00</td>\n",
       "      <td id=\"T_93e48_row11_col15\" class=\"data row11 col15\" >0.00</td>\n",
       "      <td id=\"T_93e48_row11_col16\" class=\"data row11 col16\" >0.34</td>\n",
       "      <td id=\"T_93e48_row11_col17\" class=\"data row11 col17\" >0.74</td>\n",
       "      <td id=\"T_93e48_row11_col18\" class=\"data row11 col18\" >0.98</td>\n",
       "      <td id=\"T_93e48_row11_col19\" class=\"data row11 col19\" >0.98</td>\n",
       "      <td id=\"T_93e48_row11_col20\" class=\"data row11 col20\" >0.98</td>\n",
       "      <td id=\"T_93e48_row11_col21\" class=\"data row11 col21\" >0.05</td>\n",
       "      <td id=\"T_93e48_row11_col22\" class=\"data row11 col22\" >0.00</td>\n",
       "    </tr>\n",
       "    <tr>\n",
       "      <th id=\"T_93e48_level0_row12\" class=\"row_heading level0 row12\" >12</th>\n",
       "      <td id=\"T_93e48_row12_col0\" class=\"data row12 col0\" >0.00</td>\n",
       "      <td id=\"T_93e48_row12_col1\" class=\"data row12 col1\" >0.00</td>\n",
       "      <td id=\"T_93e48_row12_col2\" class=\"data row12 col2\" >0.00</td>\n",
       "      <td id=\"T_93e48_row12_col3\" class=\"data row12 col3\" >0.00</td>\n",
       "      <td id=\"T_93e48_row12_col4\" class=\"data row12 col4\" >0.00</td>\n",
       "      <td id=\"T_93e48_row12_col5\" class=\"data row12 col5\" >0.00</td>\n",
       "      <td id=\"T_93e48_row12_col6\" class=\"data row12 col6\" >0.00</td>\n",
       "      <td id=\"T_93e48_row12_col7\" class=\"data row12 col7\" >0.00</td>\n",
       "      <td id=\"T_93e48_row12_col8\" class=\"data row12 col8\" >0.00</td>\n",
       "      <td id=\"T_93e48_row12_col9\" class=\"data row12 col9\" >0.00</td>\n",
       "      <td id=\"T_93e48_row12_col10\" class=\"data row12 col10\" >0.00</td>\n",
       "      <td id=\"T_93e48_row12_col11\" class=\"data row12 col11\" >0.00</td>\n",
       "      <td id=\"T_93e48_row12_col12\" class=\"data row12 col12\" >0.00</td>\n",
       "      <td id=\"T_93e48_row12_col13\" class=\"data row12 col13\" >0.00</td>\n",
       "      <td id=\"T_93e48_row12_col14\" class=\"data row12 col14\" >0.36</td>\n",
       "      <td id=\"T_93e48_row12_col15\" class=\"data row12 col15\" >0.83</td>\n",
       "      <td id=\"T_93e48_row12_col16\" class=\"data row12 col16\" >0.96</td>\n",
       "      <td id=\"T_93e48_row12_col17\" class=\"data row12 col17\" >0.98</td>\n",
       "      <td id=\"T_93e48_row12_col18\" class=\"data row12 col18\" >0.98</td>\n",
       "      <td id=\"T_93e48_row12_col19\" class=\"data row12 col19\" >0.98</td>\n",
       "      <td id=\"T_93e48_row12_col20\" class=\"data row12 col20\" >0.80</td>\n",
       "      <td id=\"T_93e48_row12_col21\" class=\"data row12 col21\" >0.04</td>\n",
       "      <td id=\"T_93e48_row12_col22\" class=\"data row12 col22\" >0.00</td>\n",
       "    </tr>\n",
       "  </tbody>\n",
       "</table>\n"
      ],
      "text/plain": [
       "<pandas.io.formats.style.Styler at 0x7fc3632b0d60>"
      ]
     },
     "execution_count": 35,
     "metadata": {},
     "output_type": "execute_result"
    }
   ],
   "source": [
    "df = pd.DataFrame(im3[:13,:23])\n",
    "df.style.format(precision=2).set_properties(**{'font-size': '7pt'}).background_gradient('Greys')"
   ]
  },
  {
   "cell_type": "code",
   "execution_count": 36,
   "id": "d39be492-309e-4396-989a-711a2020976b",
   "metadata": {},
   "outputs": [
    {
     "data": {
      "text/plain": [
       "tensor(2.9727)"
      ]
     },
     "execution_count": 36,
     "metadata": {},
     "output_type": "execute_result"
    }
   ],
   "source": [
    "(im3[3:6,14:17] * top_edge).sum()"
   ]
  },
  {
   "cell_type": "code",
   "execution_count": 37,
   "id": "b3ba8aae-e2ce-43ad-a943-20bdecf04189",
   "metadata": {},
   "outputs": [
    {
     "data": {
      "text/plain": [
       "tensor(-2.9570)"
      ]
     },
     "execution_count": 37,
     "metadata": {},
     "output_type": "execute_result"
    }
   ],
   "source": [
    "(im3[7:10, 14:17] * top_edge).sum()"
   ]
  },
  {
   "cell_type": "code",
   "execution_count": 38,
   "id": "8e8e12aa-7496-45dc-83e0-c1eab215bbd3",
   "metadata": {},
   "outputs": [],
   "source": [
    "def apply_kernel(im, row, col, kernel):\n",
    "    return (im[row-1:row+2,col-1:col+2] * kernel).sum()"
   ]
  },
  {
   "cell_type": "code",
   "execution_count": 39,
   "id": "53a0976b-e372-4f33-a7e9-0264cf22428a",
   "metadata": {},
   "outputs": [
    {
     "data": {
      "text/plain": [
       "tensor(2.9727)"
      ]
     },
     "execution_count": 39,
     "metadata": {},
     "output_type": "execute_result"
    }
   ],
   "source": [
    "apply_kernel(im3, 4, 15, top_edge)"
   ]
  },
  {
   "cell_type": "code",
   "execution_count": 40,
   "id": "7919131b-4460-4ea6-887d-b00e62d91af5",
   "metadata": {},
   "outputs": [
    {
     "data": {
      "text/plain": [
       "[[(0, 0), (0, 1), (0, 2), (0, 3), (0, 4)],\n",
       " [(1, 0), (1, 1), (1, 2), (1, 3), (1, 4)],\n",
       " [(2, 0), (2, 1), (2, 2), (2, 3), (2, 4)],\n",
       " [(3, 0), (3, 1), (3, 2), (3, 3), (3, 4)],\n",
       " [(4, 0), (4, 1), (4, 2), (4, 3), (4, 4)]]"
      ]
     },
     "execution_count": 40,
     "metadata": {},
     "output_type": "execute_result"
    }
   ],
   "source": [
    "[[(i,j) for j in range(5)] for i in range(5)]"
   ]
  },
  {
   "cell_type": "code",
   "execution_count": 41,
   "id": "b43dea3b-094e-4a43-b738-1d6493f29ada",
   "metadata": {},
   "outputs": [
    {
     "data": {
      "text/plain": [
       "torch.Size([28, 28])"
      ]
     },
     "execution_count": 41,
     "metadata": {},
     "output_type": "execute_result"
    }
   ],
   "source": [
    "im3.shape"
   ]
  },
  {
   "cell_type": "code",
   "execution_count": 42,
   "id": "809e3483-0f50-4e57-98a2-76f04c67c589",
   "metadata": {},
   "outputs": [],
   "source": [
    "def conv2d(im, kernel):\n",
    "    rng = range(1, im.shape[0]-1)\n",
    "    return tensor([[apply_kernel(im, i, j, kernel) for j in rng] for i in rng])"
   ]
  },
  {
   "cell_type": "code",
   "execution_count": 43,
   "id": "28074032-370b-4de3-968f-5034b93f223c",
   "metadata": {},
   "outputs": [
    {
     "data": {
      "image/png": "[encoded data removed]",
      "text/plain": [
       "<Figure size 432x288 with 1 Axes>"
      ]
     },
     "metadata": {},
     "output_type": "display_data"
    }
   ],
   "source": [
    "top_edge3 = conv2d(im3, top_edge)\n",
    "show_image(top_edge3);"
   ]
  },
  {
   "cell_type": "code",
   "execution_count": 44,
   "id": "1fba16a9-b205-4e99-bd10-df10d9174158",
   "metadata": {},
   "outputs": [],
   "source": [
    "left_edge = tensor([[-1, 0, 1],\n",
    "                   [-1, 0, 1],\n",
    "                   [-1, 0, 1]]).float()"
   ]
  },
  {
   "cell_type": "code",
   "execution_count": 45,
   "id": "ac0d0e35-7b02-45d7-83bc-ebdf2d996a82",
   "metadata": {},
   "outputs": [
    {
     "data": {
      "image/png": "[encoded data removed]",
      "text/plain": [
       "<Figure size 432x288 with 1 Axes>"
      ]
     },
     "metadata": {},
     "output_type": "display_data"
    }
   ],
   "source": [
    "left_edge3 = conv2d(im3, left_edge)\n",
    "show_image(left_edge3);"
   ]
  },
  {
   "cell_type": "markdown",
   "id": "5d72600a-f828-4ff4-a77f-364c84baf922",
   "metadata": {},
   "source": [
    "## Bonus: im2col"
   ]
  },
  {
   "cell_type": "code",
   "execution_count": 22,
   "id": "7a010c7c-0fa6-41ee-a9fe-2e3d765c68b8",
   "metadata": {},
   "outputs": [],
   "source": [
    "kernel2 = torch.arange(1,5).view(2,2)\n",
    "kernel2\n",
    "kernel3 = torch.arange(1,10).view(3,3)\n",
    "kernel2, kernel3\n",
    "img = torch.arange(1,17).view(4,4)"
   ]
  },
  {
   "cell_type": "code",
   "execution_count": 23,
   "id": "88c93f79-9289-4a79-bf47-b094c9d21945",
   "metadata": {},
   "outputs": [
    {
     "data": {
      "text/plain": [
       "tensor([[1., 2., 3., 0., 4., 5., 6., 0., 7., 8., 9., 0., 0., 0., 0., 0.],\n",
       "        [0., 1., 2., 3., 0., 4., 5., 6., 0., 7., 8., 9., 0., 0., 0., 0.],\n",
       "        [0., 0., 0., 0., 1., 2., 3., 0., 4., 5., 6., 0., 7., 8., 9., 0.],\n",
       "        [0., 0., 0., 0., 0., 1., 2., 3., 0., 4., 5., 6., 0., 7., 8., 9.]])"
      ]
     },
     "execution_count": 23,
     "metadata": {},
     "output_type": "execute_result"
    }
   ],
   "source": [
    "# For a 4x4 matrix, kernel3 becomes\n",
    "kernel = kernel3\n",
    "flat_img = img.flatten().float()\n",
    "\n",
    "n = img.shape[0]\n",
    "k = kernel.shape[0]\n",
    "\n",
    "result = torch.zeros((n-k+1)**2, n**2)\n",
    "\n",
    "# 0,0\n",
    "result[0,   0:k    ]       = kernel[0]\n",
    "result[0,   n:k  +n]     = kernel[1]\n",
    "result[0, 2*n:k+2*n] = kernel[2]\n",
    "\n",
    "# 0,1\n",
    "result[1,     1:k    +1] = kernel[0]\n",
    "result[1,   n+1:k  +n+1] = kernel[1]\n",
    "result[1, 2*n+1:k+2*n+1] = kernel[2]\n",
    "\n",
    "########\n",
    "\n",
    "# 1, 0\n",
    "result[2,   n:k  +  n]   = kernel[0]\n",
    "result[2, 2*n:k  +2*n]   = kernel[1]\n",
    "result[2, 3*n:k  +3*n]   = kernel[2]\n",
    "\n",
    "# 1, 1\n",
    "result[3,   n+1:k  +n+1] = kernel[0]\n",
    "result[3, 2*n+1:k+2*n+1] = kernel[1]\n",
    "result[3, 3*n+1:k+3*n+1] = kernel[2]\n",
    "\n",
    "#        result[idx, t*n + i*n + j : t*n + i*n + j + k] = kernel[t]\n",
    "result"
   ]
  },
  {
   "cell_type": "code",
   "execution_count": 24,
   "id": "00c73734-641f-4be8-b965-bd98bdab94a1",
   "metadata": {},
   "outputs": [],
   "source": [
    "conv_result = (result @ flat_img).reshape(2,2)\n",
    "test_close(conv_result, conv2d(img, kernel3))"
   ]
  },
  {
   "cell_type": "code",
   "execution_count": 25,
   "id": "bdb1f1b0-1c34-40b2-a5ea-1e0a6ea3311e",
   "metadata": {},
   "outputs": [],
   "source": [
    "### Let's refactor it into a loop\n",
    "\n",
    "# For a 4x4 matrix, kernel3 becomes\n",
    "kernel = kernel3\n",
    "flat_img = img.flatten().float()\n",
    "\n",
    "n = img.shape[0]\n",
    "k = kernel.shape[0]\n",
    "dim = n-k+1\n",
    "\n",
    "new_result = torch.zeros(dim**2, n**2)\n",
    "\n",
    "for i in range(dim):\n",
    "    for j in range(dim):\n",
    "        for t in range(k):\n",
    "            idx = dim*i + j\n",
    "            new_result[idx, t*n + i*n + j : t*n + i*n + j + k] = kernel[t]\n",
    "            \n",
    "test_close(result, new_result)            "
   ]
  },
  {
   "cell_type": "code",
   "execution_count": 96,
   "id": "2708387b-8d17-4bb4-8ff2-78ebffd49748",
   "metadata": {},
   "outputs": [],
   "source": [
    "#|export\n",
    "def im2col(kernel, n, stride=1, device='cpu'):\n",
    "    \"\"\"\n",
    "    Unrolls a square kernel matrix such that when multplied by a flattened image vector, \n",
    "    it results in the flattened convolution.\n",
    "    \n",
    "    First let's assume stride 1.\n",
    "    \n",
    "    Takes a `(k,k)` kernel and a image dimension `n` and turns it into a matrix of dimensions\n",
    "    `((n-k+1)^2, n^2)`\n",
    "    \"\"\"\n",
    "    k = kernel.shape[0]\n",
    "    dim = n-k+1\n",
    "    \n",
    "    result = torch.zeros(dim**2, n**2).to(device=device)\n",
    "    for i in range(dim):\n",
    "        for j in range(dim):\n",
    "            idx = dim *i + j\n",
    "            for t in range(k):\n",
    "                result[idx, t*n + i*n + j : t*n + i*n + j + k] = kernel[t]\n",
    "\n",
    "    return result\n",
    "\n",
    "def conv2d_col(img, kernel, device='cpu'):\n",
    "    n = img.shape[0]\n",
    "    k = kernel.shape[0]\n",
    "    kernel_col = im2col(kernel, n, device=device)\n",
    "    return (kernel_col @ img.view(-1)).view(n-k+1, n-k+1)"
   ]
  },
  {
   "cell_type": "code",
   "execution_count": 27,
   "id": "0ffd3dda-96cd-4475-bad0-4c2b7479b282",
   "metadata": {},
   "outputs": [],
   "source": [
    "test_close(conv2d_col(im3, kernel3), conv2d(im3, kernel3))"
   ]
  },
  {
   "cell_type": "code",
   "execution_count": 28,
   "id": "4419f831-69e1-4030-af0f-79a319c8b281",
   "metadata": {},
   "outputs": [
    {
     "data": {
      "image/png": "[encoded data removed]",
      "text/plain": [
       "<Figure size 432x288 with 1 Axes>"
      ]
     },
     "metadata": {},
     "output_type": "display_data"
    }
   ],
   "source": [
    "show_image(conv2d_col(im3, left_edge));"
   ]
  },
  {
   "cell_type": "code",
   "execution_count": 33,
   "id": "eeb81f13-413b-496b-8be6-826cc6d63775",
   "metadata": {},
   "outputs": [
    {
     "name": "stdout",
     "output_type": "stream",
     "text": [
      "18.6 ms ± 3.08 ms per loop (mean ± std. dev. of 7 runs, 10 loops each)\n"
     ]
    }
   ],
   "source": [
    "%timeit -n 10 _=conv2d_col(im3, left_edge)"
   ]
  },
  {
   "cell_type": "code",
   "execution_count": 34,
   "id": "50e688fc-c35a-4679-9f9c-7e5aa6e69aea",
   "metadata": {},
   "outputs": [
    {
     "name": "stdout",
     "output_type": "stream",
     "text": [
      "11.2 ms ± 2.05 ms per loop (mean ± std. dev. of 7 runs, 10 loops each)\n"
     ]
    }
   ],
   "source": [
    "%timeit -n 10 _=conv2d(im3, left_edge)"
   ]
  },
  {
   "cell_type": "markdown",
   "id": "d00c1d3b-cd3d-42a0-9105-fa2b62b8cabb",
   "metadata": {},
   "source": [
    "### Does the gpu make a difference?"
   ]
  },
  {
   "cell_type": "code",
   "execution_count": 35,
   "id": "0e0fef96-5a5c-4c7d-8a18-521570d481a5",
   "metadata": {},
   "outputs": [],
   "source": [
    "device='cuda'\n",
    "im3_g = im3.to(device)\n",
    "left_edge_g = left_edge.to(device)"
   ]
  },
  {
   "cell_type": "code",
   "execution_count": 36,
   "id": "12312449-a439-4fc5-86bc-7766ae0b88e1",
   "metadata": {},
   "outputs": [
    {
     "name": "stdout",
     "output_type": "stream",
     "text": [
      "46.3 ms ± 5.37 ms per loop (mean ± std. dev. of 7 runs, 50 loops each)\n"
     ]
    }
   ],
   "source": [
    "%timeit -n 50 _=conv2d_col(im3_g, left_edge_g, device=device)"
   ]
  },
  {
   "cell_type": "code",
   "execution_count": 37,
   "id": "cfe1ae9a-b6c2-47a0-a7bb-ed77e1b29f88",
   "metadata": {},
   "outputs": [
    {
     "name": "stdout",
     "output_type": "stream",
     "text": [
      "36.5 ms ± 3.75 ms per loop (mean ± std. dev. of 7 runs, 50 loops each)\n"
     ]
    }
   ],
   "source": [
    "%timeit -n 50 _=conv2d(im3_g, left_edge_g)"
   ]
  },
  {
   "cell_type": "markdown",
   "id": "cac31da7-d865-44e8-8455-616b46645409",
   "metadata": {},
   "source": [
    "💩"
   ]
  },
  {
   "cell_type": "markdown",
   "id": "03f9be02-920c-42d4-b20a-f2e8351799c7",
   "metadata": {},
   "source": [
    "## Conv size equations\n",
    "\n",
    "A square image of size $n$ convolved with a kernel of size $k$ with stride $s$ and padding $p$ will yield a square result of side:\n",
    "\n",
    "$$\\frac{n-k+2p+1}{s}$$"
   ]
  },
  {
   "cell_type": "markdown",
   "id": "cd7c1fd2-1f22-46e4-9941-d02fa7406c98",
   "metadata": {
    "tags": []
   },
   "source": [
    "## Convolutions in Pytorch"
   ]
  },
  {
   "cell_type": "code",
   "execution_count": 55,
   "id": "b3a34fef-2721-4aec-b791-7adc4253b7cd",
   "metadata": {},
   "outputs": [],
   "source": [
    "import torch.nn.functional as F\n",
    "import torch"
   ]
  },
  {
   "cell_type": "code",
   "execution_count": 56,
   "id": "45310ff1-38d3-4edc-881f-6ccd85b05d23",
   "metadata": {},
   "outputs": [
    {
     "data": {
      "text/plain": [
       "torch.Size([9, 676])"
      ]
     },
     "execution_count": 56,
     "metadata": {},
     "output_type": "execute_result"
    }
   ],
   "source": [
    "inp = im3[None, None, :, :].float()\n",
    "inp_unf = F.unfold(inp, (3, 3))[0]\n",
    "inp_unf.shape"
   ]
  },
  {
   "cell_type": "code",
   "execution_count": 57,
   "id": "ee845e98-2a04-4029-93aa-0075c147b84f",
   "metadata": {},
   "outputs": [
    {
     "data": {
      "text/plain": [
       "torch.Size([9])"
      ]
     },
     "execution_count": 57,
     "metadata": {},
     "output_type": "execute_result"
    }
   ],
   "source": [
    "w = left_edge.view(-1)\n",
    "w.shape"
   ]
  },
  {
   "cell_type": "code",
   "execution_count": 58,
   "id": "3b8349ae-900b-4736-9b78-3cc43195522b",
   "metadata": {},
   "outputs": [
    {
     "data": {
      "text/plain": [
       "torch.Size([676])"
      ]
     },
     "execution_count": 58,
     "metadata": {},
     "output_type": "execute_result"
    }
   ],
   "source": [
    "out_unf = w@inp_unf\n",
    "out_unf.shape"
   ]
  },
  {
   "cell_type": "code",
   "execution_count": 59,
   "id": "39cf003e-a48f-4cdf-bf5f-7d4f40b40e1d",
   "metadata": {},
   "outputs": [
    {
     "data": {
      "image/png": "[encoded data removed]",
      "text/plain": [
       "<Figure size 432x288 with 1 Axes>"
      ]
     },
     "metadata": {},
     "output_type": "display_data"
    }
   ],
   "source": [
    "out = out_unf.view(26, 26)\n",
    "show_image(out);"
   ]
  },
  {
   "cell_type": "code",
   "execution_count": 60,
   "id": "0ddc662f-1f76-406b-8fce-de87dee9a294",
   "metadata": {},
   "outputs": [
    {
     "name": "stdout",
     "output_type": "stream",
     "text": [
      "9.26 ms ± 601 µs per loop (mean ± std. dev. of 7 runs, 1 loop each)\n"
     ]
    }
   ],
   "source": [
    "rng = range(1,27)\n",
    "%timeit -n 1 tensor([[apply_kernel(im3, i,j,left_edge) for j in rng] for i in rng]);"
   ]
  },
  {
   "cell_type": "code",
   "execution_count": 61,
   "id": "f2006e4c-bb07-46b3-8980-ead238ed676e",
   "metadata": {},
   "outputs": [
    {
     "name": "stdout",
     "output_type": "stream",
     "text": [
      "83.6 µs ± 26.6 µs per loop (mean ± std. dev. of 7 runs, 100 loops each)\n"
     ]
    }
   ],
   "source": [
    "%timeit -n 100 (w@F.unfold(inp, (3,3))[0]).view(26,26);"
   ]
  },
  {
   "cell_type": "code",
   "execution_count": 36,
   "id": "56cca0de-1e55-425e-a625-08106c90c71a",
   "metadata": {},
   "outputs": [
    {
     "name": "stdout",
     "output_type": "stream",
     "text": [
      "The slowest run took 8.76 times longer than the fastest. This could mean that an intermediate result is being cached.\n",
      "61.8 µs ± 75.8 µs per loop (mean ± std. dev. of 7 runs, 100 loops each)\n"
     ]
    }
   ],
   "source": [
    "%timeit -n 100 F.conv2d(inp, left_edge[None,None])"
   ]
  },
  {
   "cell_type": "code",
   "execution_count": 37,
   "id": "b1ae031b-1d7f-4aa9-93a0-80d0841cebec",
   "metadata": {},
   "outputs": [
    {
     "name": "stdout",
     "output_type": "stream",
     "text": [
      "24.8 ms ± 3.64 ms per loop (mean ± std. dev. of 7 runs, 100 loops each)\n"
     ]
    }
   ],
   "source": [
    "%timeit -n 100 conv2d_col(im3, left_edge) # wow..."
   ]
  },
  {
   "cell_type": "code",
   "execution_count": 62,
   "id": "5be96786-bba9-4d81-aeb5-fd9f63f0e290",
   "metadata": {},
   "outputs": [],
   "source": [
    "diag1_edge = tensor([[0, -1, 1],\n",
    "                     [-1, 1, 0],\n",
    "                     [1, 0, 0]]).float()"
   ]
  },
  {
   "cell_type": "code",
   "execution_count": 63,
   "id": "b1fc3b25-19ec-4762-bc88-d85140a5766e",
   "metadata": {},
   "outputs": [
    {
     "data": {
      "image/png": "[encoded data removed]",
      "text/plain": [
       "<Figure size 432x288 with 1 Axes>"
      ]
     },
     "metadata": {},
     "output_type": "display_data"
    }
   ],
   "source": [
    "show_image(diag1_edge, noframe=False);"
   ]
  },
  {
   "cell_type": "code",
   "execution_count": 64,
   "id": "71f69c5d-7d82-4be3-b9a6-95be20543788",
   "metadata": {},
   "outputs": [],
   "source": [
    "diag2_edge = tensor([[1, -1, 0],\n",
    "                    [0, 1, -1],\n",
    "                    [0, 0, 1]]).float()"
   ]
  },
  {
   "cell_type": "code",
   "execution_count": 65,
   "id": "af8be36c-d524-4b71-9511-616d72a78280",
   "metadata": {},
   "outputs": [
    {
     "data": {
      "image/png": "[encoded data removed]",
      "text/plain": [
       "<Figure size 432x288 with 1 Axes>"
      ]
     },
     "metadata": {},
     "output_type": "display_data"
    }
   ],
   "source": [
    "show_image(diag2_edge, noframe=False);"
   ]
  },
  {
   "cell_type": "code",
   "execution_count": 66,
   "id": "5d2c04c0-184e-4dc9-a56b-d3d8643d2f38",
   "metadata": {},
   "outputs": [
    {
     "data": {
      "text/plain": [
       "torch.Size([16, 1, 28, 28])"
      ]
     },
     "execution_count": 66,
     "metadata": {},
     "output_type": "execute_result"
    }
   ],
   "source": [
    "xb = x_imgs[:16][:, None]\n",
    "xb.shape"
   ]
  },
  {
   "cell_type": "code",
   "execution_count": 67,
   "id": "77035f07-3150-49e7-97dd-015ffd5948f0",
   "metadata": {},
   "outputs": [
    {
     "data": {
      "text/plain": [
       "torch.Size([4, 1, 3, 3])"
      ]
     },
     "execution_count": 67,
     "metadata": {},
     "output_type": "execute_result"
    }
   ],
   "source": [
    "edge_kernels = torch.stack([left_edge, top_edge, diag1_edge, diag2_edge]).unsqueeze(1)\n",
    "edge_kernels.shape"
   ]
  },
  {
   "cell_type": "code",
   "execution_count": 68,
   "id": "bd8721a4-47dc-4725-8e93-942a37c2379a",
   "metadata": {},
   "outputs": [
    {
     "data": {
      "text/plain": [
       "torch.Size([16, 4, 26, 26])"
      ]
     },
     "execution_count": 68,
     "metadata": {},
     "output_type": "execute_result"
    }
   ],
   "source": [
    "batch_features = F.conv2d(xb, edge_kernels)\n",
    "batch_features.shape"
   ]
  },
  {
   "cell_type": "code",
   "execution_count": 69,
   "id": "e3767608-7af7-453f-947c-1e87da63bf6e",
   "metadata": {},
   "outputs": [
    {
     "data": {
      "image/png": "[encoded data removed]",
      "text/plain": [
       "<Figure size 432x288 with 1 Axes>"
      ]
     },
     "metadata": {},
     "output_type": "display_data"
    }
   ],
   "source": [
    "show_image(xb[1]);"
   ]
  },
  {
   "cell_type": "code",
   "execution_count": 70,
   "id": "ae61d1ea-8176-46be-aeb4-99a122a270ad",
   "metadata": {},
   "outputs": [
    {
     "data": {
      "image/png": "[encoded data removed]",
      "text/plain": [
       "<Figure size 432x432 with 4 Axes>"
      ]
     },
     "metadata": {},
     "output_type": "display_data"
    }
   ],
   "source": [
    "show_images([batch_features[1, i] for i in range(4)])"
   ]
  },
  {
   "cell_type": "markdown",
   "id": "8a70b522-84a2-463d-8c0e-4e4d54ad620b",
   "metadata": {},
   "source": [
    "## Let's make a CNN"
   ]
  },
  {
   "cell_type": "code",
   "execution_count": 71,
   "id": "f98115d3-f2f8-4967-84c0-ffe5c55cb04e",
   "metadata": {},
   "outputs": [],
   "source": [
    "n, m = x_train.shape\n",
    "c = y_train.max() +1\n",
    "nh = 50"
   ]
  },
  {
   "cell_type": "code",
   "execution_count": 72,
   "id": "c8d554ce-cb98-400b-b674-654a82d312de",
   "metadata": {},
   "outputs": [],
   "source": [
    "model = nn.Sequential(nn.Linear(m, nh), nn.ReLU(), nn.Linear(nh, 10))\n",
    "broken_cnn = nn.Sequential(\n",
    "    nn.Conv2d(1, 30, kernel_size=3, padding=1),\n",
    "    nn.ReLU(),\n",
    "    nn.Conv2d(30, 10, kernel_size=3, padding=1))"
   ]
  },
  {
   "cell_type": "code",
   "execution_count": 73,
   "id": "3d798811-d13f-4ea6-abf8-fb47c094ec09",
   "metadata": {},
   "outputs": [
    {
     "data": {
      "text/plain": [
       "torch.Size([16, 10, 28, 28])"
      ]
     },
     "execution_count": 73,
     "metadata": {},
     "output_type": "execute_result"
    }
   ],
   "source": [
    "broken_cnn(xb).shape"
   ]
  },
  {
   "cell_type": "code",
   "execution_count": 5,
   "id": "1cef388c-7f26-4aa5-981f-92a4ec676dce",
   "metadata": {
    "tags": []
   },
   "outputs": [],
   "source": [
    "#|export\n",
    "def conv(ni, nf, ks=3, stride=2, act=nn.ReLU):\n",
    "    res = nn.Conv2d(ni, nf, stride=stride, kernel_size=ks, padding=ks//2)\n",
    "    if act: res = nn.Sequential(res, nn.ReLU())\n",
    "    return res"
   ]
  },
  {
   "cell_type": "code",
   "execution_count": 75,
   "id": "b0bedce8-c55a-45c4-ab27-f0aa17567ed7",
   "metadata": {},
   "outputs": [],
   "source": [
    "simple_cnn = nn.Sequential(\n",
    "    conv(1, 4), # 14x14\n",
    "    conv(4, 8), # 7x7\n",
    "    conv(8, 16), # 4x4\n",
    "    conv(16, 32), # 2x2\n",
    "    conv(32, 10, act=False), #1x1\n",
    "    nn.Flatten(),\n",
    ")"
   ]
  },
  {
   "cell_type": "code",
   "execution_count": 76,
   "id": "e6a1a970-5925-43d3-a22e-9621a64cbb96",
   "metadata": {},
   "outputs": [
    {
     "data": {
      "text/plain": [
       "torch.Size([16, 10])"
      ]
     },
     "execution_count": 76,
     "metadata": {},
     "output_type": "execute_result"
    }
   ],
   "source": [
    "simple_cnn(xb).shape"
   ]
  },
  {
   "cell_type": "code",
   "execution_count": 77,
   "id": "f3baa40a-5e3e-41d3-bc9a-c5eccaab5593",
   "metadata": {},
   "outputs": [],
   "source": [
    "x_imgs = x_train.view(-1, 1, 28, 28)\n",
    "xv_imgs = x_valid.view(-1, 1, 28, 28)"
   ]
  },
  {
   "cell_type": "code",
   "execution_count": 78,
   "id": "4bd3ca0c-9e78-4e34-9d7d-de11bf903938",
   "metadata": {},
   "outputs": [],
   "source": [
    "train_ds, valid_ds = Dataset(x_imgs, y_train), Dataset(xv_imgs, y_valid)"
   ]
  },
  {
   "cell_type": "code",
   "execution_count": 98,
   "id": "b3ad139e-22c5-4751-b435-f47d0ffab996",
   "metadata": {},
   "outputs": [],
   "source": [
    "#|export\n",
    "def_device = 'mps' if torch.backends.mps.is_available() else 'cuda' if torch.cuda.is_available() else 'cpu'\n",
    "\n",
    "def to_device(x, device=def_device):\n",
    "    if isinstance(x, torch.Tensor): return x.to(device)\n",
    "    if isinstance(x, Mapping): return {k:v.to(device) for k, v in x.items()}\n",
    "    return type(x)(to_device(o, device) for o in x)\n",
    "\n",
    "def collate_device(b): return to_device(default_collate(b))"
   ]
  },
  {
   "cell_type": "code",
   "execution_count": 80,
   "id": "69b7fcff-871f-4e56-bb4f-296f13c5100e",
   "metadata": {},
   "outputs": [],
   "source": [
    "from torch import optim\n",
    "\n",
    "bs = 256\n",
    "lr = 0.4\n",
    "\n",
    "train_dl, valid_dl = get_dls(train_ds, valid_ds, bs, collate_fn=collate_device)\n",
    "opt = optim.SGD(simple_cnn.parameters(), lr=lr)"
   ]
  },
  {
   "cell_type": "code",
   "execution_count": 81,
   "id": "0ba5d75b-77b1-47dc-9d9f-28533f409c98",
   "metadata": {},
   "outputs": [
    {
     "data": {
      "application/vnd.jupyter.widget-view+json": {
       "model_id": "3aac7c0d45fd46d2bf202235958196d2",
       "version_major": 2,
       "version_minor": 0
      },
      "text/plain": [
       "  0%|          | 0/5 [00:00<?, ?it/s]"
      ]
     },
     "metadata": {},
     "output_type": "display_data"
    },
    {
     "name": "stdout",
     "output_type": "stream",
     "text": [
      "0 0.3286376799106598 0.9016000008583069\n",
      "1 0.2072501368522644 0.9362000005722045\n",
      "2 0.1255029495239258 0.9616000007629395\n",
      "3 0.1763900450229645 0.9478000000953675\n",
      "4 0.09630902469158173 0.9713999995231628\n"
     ]
    }
   ],
   "source": [
    "loss, acc = fit(5, simple_cnn.to(def_device), F.cross_entropy, opt, train_dl, valid_dl)"
   ]
  },
  {
   "cell_type": "code",
   "execution_count": 84,
   "id": "38c8698e-f45c-4a8d-8055-12f7d1ff6881",
   "metadata": {},
   "outputs": [
    {
     "data": {
      "application/vnd.jupyter.widget-view+json": {
       "model_id": "05580176f7be4620ad0c7677a5a6ec9d",
       "version_major": 2,
       "version_minor": 0
      },
      "text/plain": [
       "  0%|          | 0/5 [00:00<?, ?it/s]"
      ]
     },
     "metadata": {},
     "output_type": "display_data"
    },
    {
     "name": "stdout",
     "output_type": "stream",
     "text": [
      "0 0.0817444613456726 0.9760999995231628\n",
      "1 0.08409699759483337 0.9752999995231628\n",
      "2 0.08253622913360596 0.975999999332428\n",
      "3 0.07882757344245911 0.9773999995231628\n",
      "4 0.08545005779266357 0.9752999994277954\n"
     ]
    }
   ],
   "source": [
    "opt = optim.SGD(simple_cnn.parameters(), lr=lr/4)\n",
    "loss, acc = fit(5, simple_cnn.to(def_device), F.cross_entropy, opt, train_dl, valid_dl)"
   ]
  },
  {
   "cell_type": "markdown",
   "id": "71508ba4-fa53-4c7b-a6a7-615cbca92903",
   "metadata": {},
   "source": [
    "# Color "
   ]
  },
  {
   "cell_type": "code",
   "execution_count": 85,
   "id": "bad2e273-51fe-45e6-9aec-d3fb336ed654",
   "metadata": {},
   "outputs": [],
   "source": [
    "from torchvision.io import read_image"
   ]
  },
  {
   "cell_type": "code",
   "execution_count": 86,
   "id": "16be350b-d14c-4c81-9ac9-9af8259e1373",
   "metadata": {},
   "outputs": [
    {
     "data": {
      "text/plain": [
       "torch.Size([3, 1000, 846])"
      ]
     },
     "execution_count": 86,
     "metadata": {},
     "output_type": "execute_result"
    }
   ],
   "source": [
    "im = read_image('../images/grizzly.jpg')\n",
    "im.shape"
   ]
  },
  {
   "cell_type": "code",
   "execution_count": 89,
   "id": "0d99bee1-4962-45b2-839b-066b45e96b19",
   "metadata": {},
   "outputs": [
    {
     "data": {
      "image/png": "[encoded data removed]",
      "text/plain": [
       "<Figure size 432x288 with 1 Axes>"
      ]
     },
     "metadata": {},
     "output_type": "display_data"
    }
   ],
   "source": [
    "show_image(im.permute(1, 2, 0));"
   ]
  },
  {
   "cell_type": "code",
   "execution_count": 93,
   "id": "090db409-a87e-4cd1-af8f-caa1b24b294e",
   "metadata": {},
   "outputs": [
    {
     "data": {
      "image/png": "[encoded data removed]",
      "text/plain": [
       "<Figure size 432x288 with 3 Axes>"
      ]
     },
     "metadata": {},
     "output_type": "display_data"
    }
   ],
   "source": [
    "_, axs = plt.subplots(1, 3)\n",
    "for bear, ax, color in zip(im, axs, ('Reds', 'Greens', 'Blues')):\n",
    "    show_image(255-bear, ax=ax, cmap=color)"
   ]
  },
  {
   "cell_type": "code",
   "execution_count": 6,
   "id": "f9d01928-80c3-4436-8fc8-47c8241c65d3",
   "metadata": {
    "tags": []
   },
   "outputs": [],
   "source": [
    "import nbdev; nbdev.nbdev_export()"
   ]
  },
  {
   "cell_type": "code",
   "execution_count": null,
   "id": "a8dcc3dc-0b12-4721-9155-cb428d4c1083",
   "metadata": {},
   "outputs": [],
   "source": []
  }
 ],
 "metadata": {
  "kernelspec": {
   "display_name": "Python 3 (ipykernel)",
   "language": "python",
   "name": "python3"
  },
  "language_info": {
   "codemirror_mode": {
    "name": "ipython",
    "version": 3
   },
   "file_extension": ".py",
   "mimetype": "text/x-python",
   "name": "python",
   "nbconvert_exporter": "python",
   "pygments_lexer": "ipython3",
   "version": "3.11.3"
  },
  "widgets": {
   "application/vnd.jupyter.widget-state+json": {
    "state": {},
    "version_major": 2,
    "version_minor": 0
   }
  }
 },
 "nbformat": 4,
 "nbformat_minor": 5
}
